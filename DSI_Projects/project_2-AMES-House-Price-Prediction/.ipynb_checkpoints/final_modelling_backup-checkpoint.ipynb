{
 "cells": [
  {
   "cell_type": "markdown",
   "metadata": {},
   "source": [
    "# <span style='color:royalblue'>Project 2 - Ames Housing Data and Kaggle Challenge</span>"
   ]
  },
  {
   "cell_type": "markdown",
   "metadata": {},
   "source": [
    "## Part 2 : Modelling and Evaluations"
   ]
  },
  {
   "cell_type": "markdown",
   "metadata": {},
   "source": [
    "## 1. Import all libraries and read in `.csv` data files\n",
    "\n",
    "\n",
    "\n"
   ]
  },
  {
   "cell_type": "code",
   "execution_count": 1,
   "metadata": {},
   "outputs": [],
   "source": [
    "# standard imports\n",
    "import pandas as pd\n",
    "import numpy as np\n",
    "import matplotlib.pyplot as plt\n",
    "import seaborn as sns\n",
    "\n",
    "#%config InlineBackend.figure_format = 'retina'\n",
    "%matplotlib inline\n",
    "\n",
    "\n",
    "# modeling imports\n",
    "\n",
    "from sklearn.linear_model import LinearRegression, Lasso, LassoCV, Ridge, RidgeCV, ElasticNet, ElasticNetCV\n",
    "from sklearn.preprocessing import StandardScaler, PolynomialFeatures\n",
    "from sklearn.model_selection import train_test_split, cross_val_score, cross_val_predict\n",
    "from sklearn.metrics import r2_score, mean_squared_error, mean_squared_log_error, median_absolute_error\n",
    "import statsmodels.api as sm\n",
    "\n",
    "\n"
   ]
  },
  {
   "cell_type": "code",
   "execution_count": 2,
   "metadata": {},
   "outputs": [],
   "source": [
    "# read the csv files after cleaning, eda, and some feature selection\n",
    "\n",
    "train = pd.read_csv('datasets/train_after_eda.csv')\n",
    "test = pd.read_csv('datasets/test_after_eda.csv')"
   ]
  },
  {
   "cell_type": "markdown",
   "metadata": {},
   "source": [
    "**Data are correct:**\n",
    "- Correct shape for both train & test \n",
    "- No unnamed columns."
   ]
  },
  {
   "cell_type": "code",
   "execution_count": 3,
   "metadata": {},
   "outputs": [
    {
     "name": "stdout",
     "output_type": "stream",
     "text": [
      "train : (2049, 162)\n",
      "test : (879, 153)\n"
     ]
    }
   ],
   "source": [
    "print(f'train : {train.shape}')\n",
    "print(f'test : {test.shape}')"
   ]
  },
  {
   "cell_type": "code",
   "execution_count": 4,
   "metadata": {},
   "outputs": [
    {
     "data": {
      "text/html": [
       "<div>\n",
       "<style scoped>\n",
       "    .dataframe tbody tr th:only-of-type {\n",
       "        vertical-align: middle;\n",
       "    }\n",
       "\n",
       "    .dataframe tbody tr th {\n",
       "        vertical-align: top;\n",
       "    }\n",
       "\n",
       "    .dataframe thead th {\n",
       "        text-align: right;\n",
       "    }\n",
       "</style>\n",
       "<table border=\"1\" class=\"dataframe\">\n",
       "  <thead>\n",
       "    <tr style=\"text-align: right;\">\n",
       "      <th></th>\n",
       "      <th>0</th>\n",
       "      <th>1</th>\n",
       "      <th>2</th>\n",
       "      <th>3</th>\n",
       "      <th>4</th>\n",
       "      <th>5</th>\n",
       "      <th>6</th>\n",
       "      <th>7</th>\n",
       "      <th>8</th>\n",
       "      <th>9</th>\n",
       "    </tr>\n",
       "  </thead>\n",
       "  <tbody>\n",
       "    <tr>\n",
       "      <th>id</th>\n",
       "      <td>109.0</td>\n",
       "      <td>544.0</td>\n",
       "      <td>153.0</td>\n",
       "      <td>318.0</td>\n",
       "      <td>255.0</td>\n",
       "      <td>138.0</td>\n",
       "      <td>2827.0</td>\n",
       "      <td>145.0</td>\n",
       "      <td>1942.0</td>\n",
       "      <td>1956.0</td>\n",
       "    </tr>\n",
       "    <tr>\n",
       "      <th>lot_area</th>\n",
       "      <td>13517.0</td>\n",
       "      <td>11492.0</td>\n",
       "      <td>7922.0</td>\n",
       "      <td>9802.0</td>\n",
       "      <td>14235.0</td>\n",
       "      <td>16492.0</td>\n",
       "      <td>3675.0</td>\n",
       "      <td>12160.0</td>\n",
       "      <td>15783.0</td>\n",
       "      <td>11606.0</td>\n",
       "    </tr>\n",
       "    <tr>\n",
       "      <th>lot_shape</th>\n",
       "      <td>2.0</td>\n",
       "      <td>2.0</td>\n",
       "      <td>3.0</td>\n",
       "      <td>3.0</td>\n",
       "      <td>2.0</td>\n",
       "      <td>2.0</td>\n",
       "      <td>3.0</td>\n",
       "      <td>2.0</td>\n",
       "      <td>3.0</td>\n",
       "      <td>2.0</td>\n",
       "    </tr>\n",
       "    <tr>\n",
       "      <th>overall_qual</th>\n",
       "      <td>6.0</td>\n",
       "      <td>7.0</td>\n",
       "      <td>5.0</td>\n",
       "      <td>5.0</td>\n",
       "      <td>6.0</td>\n",
       "      <td>6.0</td>\n",
       "      <td>6.0</td>\n",
       "      <td>5.0</td>\n",
       "      <td>5.0</td>\n",
       "      <td>5.0</td>\n",
       "    </tr>\n",
       "    <tr>\n",
       "      <th>mas_vnr_area</th>\n",
       "      <td>289.0</td>\n",
       "      <td>132.0</td>\n",
       "      <td>0.0</td>\n",
       "      <td>0.0</td>\n",
       "      <td>0.0</td>\n",
       "      <td>0.0</td>\n",
       "      <td>82.0</td>\n",
       "      <td>180.0</td>\n",
       "      <td>0.0</td>\n",
       "      <td>192.0</td>\n",
       "    </tr>\n",
       "    <tr>\n",
       "      <th>...</th>\n",
       "      <td>...</td>\n",
       "      <td>...</td>\n",
       "      <td>...</td>\n",
       "      <td>...</td>\n",
       "      <td>...</td>\n",
       "      <td>...</td>\n",
       "      <td>...</td>\n",
       "      <td>...</td>\n",
       "      <td>...</td>\n",
       "      <td>...</td>\n",
       "    </tr>\n",
       "    <tr>\n",
       "      <th>sale_type_ConLI</th>\n",
       "      <td>0.0</td>\n",
       "      <td>0.0</td>\n",
       "      <td>0.0</td>\n",
       "      <td>0.0</td>\n",
       "      <td>0.0</td>\n",
       "      <td>0.0</td>\n",
       "      <td>0.0</td>\n",
       "      <td>0.0</td>\n",
       "      <td>0.0</td>\n",
       "      <td>0.0</td>\n",
       "    </tr>\n",
       "    <tr>\n",
       "      <th>sale_type_ConLw</th>\n",
       "      <td>0.0</td>\n",
       "      <td>0.0</td>\n",
       "      <td>0.0</td>\n",
       "      <td>0.0</td>\n",
       "      <td>0.0</td>\n",
       "      <td>0.0</td>\n",
       "      <td>0.0</td>\n",
       "      <td>0.0</td>\n",
       "      <td>0.0</td>\n",
       "      <td>0.0</td>\n",
       "    </tr>\n",
       "    <tr>\n",
       "      <th>sale_type_New</th>\n",
       "      <td>0.0</td>\n",
       "      <td>0.0</td>\n",
       "      <td>0.0</td>\n",
       "      <td>0.0</td>\n",
       "      <td>0.0</td>\n",
       "      <td>0.0</td>\n",
       "      <td>1.0</td>\n",
       "      <td>0.0</td>\n",
       "      <td>0.0</td>\n",
       "      <td>0.0</td>\n",
       "    </tr>\n",
       "    <tr>\n",
       "      <th>sale_type_Oth</th>\n",
       "      <td>0.0</td>\n",
       "      <td>0.0</td>\n",
       "      <td>0.0</td>\n",
       "      <td>0.0</td>\n",
       "      <td>0.0</td>\n",
       "      <td>0.0</td>\n",
       "      <td>0.0</td>\n",
       "      <td>0.0</td>\n",
       "      <td>0.0</td>\n",
       "      <td>0.0</td>\n",
       "    </tr>\n",
       "    <tr>\n",
       "      <th>sale_type_WD</th>\n",
       "      <td>1.0</td>\n",
       "      <td>1.0</td>\n",
       "      <td>1.0</td>\n",
       "      <td>1.0</td>\n",
       "      <td>1.0</td>\n",
       "      <td>1.0</td>\n",
       "      <td>0.0</td>\n",
       "      <td>0.0</td>\n",
       "      <td>1.0</td>\n",
       "      <td>1.0</td>\n",
       "    </tr>\n",
       "  </tbody>\n",
       "</table>\n",
       "<p>162 rows × 10 columns</p>\n",
       "</div>"
      ],
      "text/plain": [
       "                       0        1       2       3        4        5       6  \\\n",
       "id                 109.0    544.0   153.0   318.0    255.0    138.0  2827.0   \n",
       "lot_area         13517.0  11492.0  7922.0  9802.0  14235.0  16492.0  3675.0   \n",
       "lot_shape            2.0      2.0     3.0     3.0      2.0      2.0     3.0   \n",
       "overall_qual         6.0      7.0     5.0     5.0      6.0      6.0     6.0   \n",
       "mas_vnr_area       289.0    132.0     0.0     0.0      0.0      0.0    82.0   \n",
       "...                  ...      ...     ...     ...      ...      ...     ...   \n",
       "sale_type_ConLI      0.0      0.0     0.0     0.0      0.0      0.0     0.0   \n",
       "sale_type_ConLw      0.0      0.0     0.0     0.0      0.0      0.0     0.0   \n",
       "sale_type_New        0.0      0.0     0.0     0.0      0.0      0.0     1.0   \n",
       "sale_type_Oth        0.0      0.0     0.0     0.0      0.0      0.0     0.0   \n",
       "sale_type_WD         1.0      1.0     1.0     1.0      1.0      1.0     0.0   \n",
       "\n",
       "                       7        8        9  \n",
       "id                 145.0   1942.0   1956.0  \n",
       "lot_area         12160.0  15783.0  11606.0  \n",
       "lot_shape            2.0      3.0      2.0  \n",
       "overall_qual         5.0      5.0      5.0  \n",
       "mas_vnr_area       180.0      0.0    192.0  \n",
       "...                  ...      ...      ...  \n",
       "sale_type_ConLI      0.0      0.0      0.0  \n",
       "sale_type_ConLw      0.0      0.0      0.0  \n",
       "sale_type_New        0.0      0.0      0.0  \n",
       "sale_type_Oth        0.0      0.0      0.0  \n",
       "sale_type_WD         0.0      1.0      1.0  \n",
       "\n",
       "[162 rows x 10 columns]"
      ]
     },
     "execution_count": 4,
     "metadata": {},
     "output_type": "execute_result"
    }
   ],
   "source": [
    "train.head(10).T"
   ]
  },
  {
   "cell_type": "code",
   "execution_count": 5,
   "metadata": {
    "scrolled": false
   },
   "outputs": [
    {
     "data": {
      "text/html": [
       "<div>\n",
       "<style scoped>\n",
       "    .dataframe tbody tr th:only-of-type {\n",
       "        vertical-align: middle;\n",
       "    }\n",
       "\n",
       "    .dataframe tbody tr th {\n",
       "        vertical-align: top;\n",
       "    }\n",
       "\n",
       "    .dataframe thead th {\n",
       "        text-align: right;\n",
       "    }\n",
       "</style>\n",
       "<table border=\"1\" class=\"dataframe\">\n",
       "  <thead>\n",
       "    <tr style=\"text-align: right;\">\n",
       "      <th></th>\n",
       "      <th>0</th>\n",
       "      <th>1</th>\n",
       "      <th>2</th>\n",
       "      <th>3</th>\n",
       "      <th>4</th>\n",
       "      <th>5</th>\n",
       "      <th>6</th>\n",
       "      <th>7</th>\n",
       "      <th>8</th>\n",
       "      <th>9</th>\n",
       "    </tr>\n",
       "  </thead>\n",
       "  <tbody>\n",
       "    <tr>\n",
       "      <th>id</th>\n",
       "      <td>2658.0</td>\n",
       "      <td>2718.0</td>\n",
       "      <td>2414.0</td>\n",
       "      <td>1989.0</td>\n",
       "      <td>625.0</td>\n",
       "      <td>333.0</td>\n",
       "      <td>1327.0</td>\n",
       "      <td>858.0</td>\n",
       "      <td>95.0</td>\n",
       "      <td>1568.0</td>\n",
       "    </tr>\n",
       "    <tr>\n",
       "      <th>lot_area</th>\n",
       "      <td>9142.0</td>\n",
       "      <td>9662.0</td>\n",
       "      <td>17104.0</td>\n",
       "      <td>8520.0</td>\n",
       "      <td>9500.0</td>\n",
       "      <td>1890.0</td>\n",
       "      <td>8516.0</td>\n",
       "      <td>9286.0</td>\n",
       "      <td>3515.0</td>\n",
       "      <td>10125.0</td>\n",
       "    </tr>\n",
       "    <tr>\n",
       "      <th>lot_shape</th>\n",
       "      <td>3.0</td>\n",
       "      <td>2.0</td>\n",
       "      <td>2.0</td>\n",
       "      <td>3.0</td>\n",
       "      <td>2.0</td>\n",
       "      <td>3.0</td>\n",
       "      <td>3.0</td>\n",
       "      <td>2.0</td>\n",
       "      <td>3.0</td>\n",
       "      <td>3.0</td>\n",
       "    </tr>\n",
       "    <tr>\n",
       "      <th>overall_qual</th>\n",
       "      <td>6.0</td>\n",
       "      <td>5.0</td>\n",
       "      <td>7.0</td>\n",
       "      <td>5.0</td>\n",
       "      <td>6.0</td>\n",
       "      <td>4.0</td>\n",
       "      <td>4.0</td>\n",
       "      <td>5.0</td>\n",
       "      <td>7.0</td>\n",
       "      <td>6.0</td>\n",
       "    </tr>\n",
       "    <tr>\n",
       "      <th>mas_vnr_area</th>\n",
       "      <td>0.0</td>\n",
       "      <td>0.0</td>\n",
       "      <td>0.0</td>\n",
       "      <td>0.0</td>\n",
       "      <td>247.0</td>\n",
       "      <td>0.0</td>\n",
       "      <td>0.0</td>\n",
       "      <td>0.0</td>\n",
       "      <td>0.0</td>\n",
       "      <td>0.0</td>\n",
       "    </tr>\n",
       "    <tr>\n",
       "      <th>...</th>\n",
       "      <td>...</td>\n",
       "      <td>...</td>\n",
       "      <td>...</td>\n",
       "      <td>...</td>\n",
       "      <td>...</td>\n",
       "      <td>...</td>\n",
       "      <td>...</td>\n",
       "      <td>...</td>\n",
       "      <td>...</td>\n",
       "      <td>...</td>\n",
       "    </tr>\n",
       "    <tr>\n",
       "      <th>sale_type_ConLI</th>\n",
       "      <td>0.0</td>\n",
       "      <td>0.0</td>\n",
       "      <td>0.0</td>\n",
       "      <td>0.0</td>\n",
       "      <td>0.0</td>\n",
       "      <td>0.0</td>\n",
       "      <td>0.0</td>\n",
       "      <td>0.0</td>\n",
       "      <td>0.0</td>\n",
       "      <td>0.0</td>\n",
       "    </tr>\n",
       "    <tr>\n",
       "      <th>sale_type_ConLw</th>\n",
       "      <td>0.0</td>\n",
       "      <td>0.0</td>\n",
       "      <td>0.0</td>\n",
       "      <td>0.0</td>\n",
       "      <td>0.0</td>\n",
       "      <td>0.0</td>\n",
       "      <td>0.0</td>\n",
       "      <td>0.0</td>\n",
       "      <td>0.0</td>\n",
       "      <td>0.0</td>\n",
       "    </tr>\n",
       "    <tr>\n",
       "      <th>sale_type_New</th>\n",
       "      <td>0.0</td>\n",
       "      <td>0.0</td>\n",
       "      <td>1.0</td>\n",
       "      <td>0.0</td>\n",
       "      <td>0.0</td>\n",
       "      <td>0.0</td>\n",
       "      <td>0.0</td>\n",
       "      <td>0.0</td>\n",
       "      <td>0.0</td>\n",
       "      <td>0.0</td>\n",
       "    </tr>\n",
       "    <tr>\n",
       "      <th>sale_type_Oth</th>\n",
       "      <td>0.0</td>\n",
       "      <td>0.0</td>\n",
       "      <td>0.0</td>\n",
       "      <td>0.0</td>\n",
       "      <td>0.0</td>\n",
       "      <td>0.0</td>\n",
       "      <td>0.0</td>\n",
       "      <td>0.0</td>\n",
       "      <td>0.0</td>\n",
       "      <td>0.0</td>\n",
       "    </tr>\n",
       "    <tr>\n",
       "      <th>sale_type_WD</th>\n",
       "      <td>1.0</td>\n",
       "      <td>1.0</td>\n",
       "      <td>0.0</td>\n",
       "      <td>1.0</td>\n",
       "      <td>1.0</td>\n",
       "      <td>1.0</td>\n",
       "      <td>1.0</td>\n",
       "      <td>1.0</td>\n",
       "      <td>1.0</td>\n",
       "      <td>1.0</td>\n",
       "    </tr>\n",
       "  </tbody>\n",
       "</table>\n",
       "<p>153 rows × 10 columns</p>\n",
       "</div>"
      ],
      "text/plain": [
       "                      0       1        2       3       4       5       6  \\\n",
       "id               2658.0  2718.0   2414.0  1989.0   625.0   333.0  1327.0   \n",
       "lot_area         9142.0  9662.0  17104.0  8520.0  9500.0  1890.0  8516.0   \n",
       "lot_shape           3.0     2.0      2.0     3.0     2.0     3.0     3.0   \n",
       "overall_qual        6.0     5.0      7.0     5.0     6.0     4.0     4.0   \n",
       "mas_vnr_area        0.0     0.0      0.0     0.0   247.0     0.0     0.0   \n",
       "...                 ...     ...      ...     ...     ...     ...     ...   \n",
       "sale_type_ConLI     0.0     0.0      0.0     0.0     0.0     0.0     0.0   \n",
       "sale_type_ConLw     0.0     0.0      0.0     0.0     0.0     0.0     0.0   \n",
       "sale_type_New       0.0     0.0      1.0     0.0     0.0     0.0     0.0   \n",
       "sale_type_Oth       0.0     0.0      0.0     0.0     0.0     0.0     0.0   \n",
       "sale_type_WD        1.0     1.0      0.0     1.0     1.0     1.0     1.0   \n",
       "\n",
       "                      7       8        9  \n",
       "id                858.0    95.0   1568.0  \n",
       "lot_area         9286.0  3515.0  10125.0  \n",
       "lot_shape           2.0     3.0      3.0  \n",
       "overall_qual        5.0     7.0      6.0  \n",
       "mas_vnr_area        0.0     0.0      0.0  \n",
       "...                 ...     ...      ...  \n",
       "sale_type_ConLI     0.0     0.0      0.0  \n",
       "sale_type_ConLw     0.0     0.0      0.0  \n",
       "sale_type_New       0.0     0.0      0.0  \n",
       "sale_type_Oth       0.0     0.0      0.0  \n",
       "sale_type_WD        1.0     1.0      1.0  \n",
       "\n",
       "[153 rows x 10 columns]"
      ]
     },
     "execution_count": 5,
     "metadata": {},
     "output_type": "execute_result"
    }
   ],
   "source": [
    "test.head(10).T"
   ]
  },
  {
   "cell_type": "markdown",
   "metadata": {},
   "source": [
    "**Define functions to evaluate models:**"
   ]
  },
  {
   "cell_type": "code",
   "execution_count": 6,
   "metadata": {},
   "outputs": [],
   "source": [
    "def r2_adj(y_true, y_preds, p):\n",
    "    n = len(y_true)\n",
    "    y_mean = np.mean(y_true)\n",
    "    numerator = np.sum(np.square(y_true - y_preds)) / (n - p - 1)\n",
    "    denominator = np.sum(np.square(y_true - y_mean)) / (n - 1)\n",
    "    return 1 - numerator / denominator"
   ]
  },
  {
   "cell_type": "code",
   "execution_count": 7,
   "metadata": {},
   "outputs": [],
   "source": [
    "import sklearn.metrics as metrics\n",
    "\n",
    "model_evaluations = []\n",
    "\n",
    "def evaluate_model(mod_name, train_val, y_true, y_pred, p):\n",
    "    mse = metrics.mean_squared_error(y_true, y_pred)\n",
    "    rmse = np.sqrt(mse)\n",
    "    mae = metrics.median_absolute_error(y_true, y_pred)\n",
    "    r2 = metrics.r2_score(y_true, y_pred)\n",
    "    r2a = r2_adj(y_true, y_pred, p)\n",
    "    print('Model                   = ', mod_name,'-',train_val )    \n",
    "    print('Mean squared error      = ', mse)\n",
    "    print('Root mean squared error = ', rmse)\n",
    "    print('Median absolute error   = ', mae)\n",
    "    print('R^2                     = ', r2)\n",
    "    print('Adjusted R^2            = ', r2a)\n",
    "    model_eval = {}\n",
    "    model_eval['model'] = mod_name\n",
    "    model_eval['dataset'] = train_val\n",
    "    model_eval['mean_sq_error'] = mse\n",
    "    model_eval['rt_mean_sq_error'] = rmse\n",
    "    model_eval['mean_abs_error'] = mae\n",
    "    model_eval['r2'] = r2\n",
    "    model_eval['r2_adj'] = r2a\n",
    "    model_evaluations.append(model_eval)\n",
    "\n"
   ]
  },
  {
   "cell_type": "markdown",
   "metadata": {},
   "source": [
    "**Define functions for dropping columns & rows:**"
   ]
  },
  {
   "cell_type": "code",
   "execution_count": 8,
   "metadata": {},
   "outputs": [],
   "source": [
    "# create functions for dropping columns and rows to be used throughout the project\n",
    "# for columns - using list of columns to help drop multiple columns at a time (as part of feature selection)\n",
    "# for rows - dropping one at a time to be more careful in losing number observations\n",
    "\n",
    "dropped_col_train =[]\n",
    "dropped_col_test = []\n",
    "dropped_row_train = []\n",
    "dropped_row_test = []\n",
    "\n",
    "def drop_col_train(df, list_columns_to_drop):\n",
    "    \"\"\"drop list of columns from train dataset\"\"\"\n",
    "    print (f'train.shape before: {df.shape}\\n')\n",
    "    for col in list_columns_to_drop:        \n",
    "        print (f'Dropped column : {col}')\n",
    "        dropped_col_train.append(col)\n",
    "        df.drop(columns = [col], inplace=True)\n",
    "    print (f'\\ntrain.shape after: {df.shape}\\n')\n",
    "    print ('\\n')\n",
    "        \n",
    "def drop_col_test(df, list_columns_to_drop):\n",
    "    \"\"\"drop list of columns from test dataset\"\"\"\n",
    "    print (f'test.shape before: {df.shape}\\n')\n",
    "    for col in list_columns_to_drop:        \n",
    "        print (f'Dropped column : {col}')\n",
    "        dropped_col_test.append(col)\n",
    "        df.drop(columns = [col], inplace=True)\n",
    "    print (f'\\ntest.shape after: {df.shape}\\n')\n",
    "    print ('\\n')\n",
    "\n",
    "def drop_column(df, list_columns_to_drop):\n",
    "    \"\"\"drop list of columns from ANY dataset - no need to keep track\"\"\"\n",
    "    print (f'shape before: {df.shape}\\n')\n",
    "    for col in list_columns_to_drop:        \n",
    "        # print (f'Dropped column : {col}')\n",
    "        df.drop(columns = [col], inplace=True)\n",
    "    print (f'\\nshape after: {df.shape}\\n')\n",
    "    print ('\\n')\n",
    "\n",
    "    \n",
    "def drop_row_train(df, index_row_to_drop):\n",
    "    \"\"\"drop row (one at a time) from train dataset\"\"\"\n",
    "    print (f'train.shape before: {df.shape}\\n')    \n",
    "    print (f'Dropped row : {index_row_to_drop}')\n",
    "    dropped_row_train.append(index_row_to_drop)\n",
    "    df.drop(df.index[index_row_to_drop], inplace=True)\n",
    "    print (f'\\ntrain.shape after: {df.shape}\\n')\n",
    "    print ('\\n')\n",
    "    \n",
    "def drop_row_test(df, index_row_to_drop):\n",
    "    \"\"\"drop row (one at a time) from train dataset\"\"\"\n",
    "    print (f'test.shape before: {df.shape}\\n')    \n",
    "    print (f'Dropped row : {index_row_to_drop}')\n",
    "    dropped_row_test.append(index_row_to_drop)\n",
    "    df.drop(df.index[index_row_to_drop], inplace=True)\n",
    "    print (f'\\ntest.shape after: {df.shape}\\n')\n",
    "    print ('\\n')\n",
    "    \n"
   ]
  },
  {
   "cell_type": "markdown",
   "metadata": {},
   "source": [
    "**Define functions to plot visualizations:**"
   ]
  },
  {
   "cell_type": "code",
   "execution_count": 9,
   "metadata": {},
   "outputs": [],
   "source": [
    "def plot_heatmap(title, corr, figsize = (12,12),cmap=\"RdBu_r\"):\n",
    "    fig = plt.figure(figsize=figsize)\n",
    "    mask = np.zeros_like(corr)\n",
    "    mask[np.triu_indices_from(mask)] = True\n",
    "    ax = sns.heatmap(corr, mask=mask, annot=True,cmap=cmap)\n",
    "    ax.set_title(f'Correlation Heatmap: {title}')\n",
    "\n",
    "# plt.savefig('../plots/corr_heatmap.png');"
   ]
  },
  {
   "cell_type": "code",
   "execution_count": 10,
   "metadata": {},
   "outputs": [],
   "source": [
    "def plot_heatmap_no_mask(title, corr, figsize = (12,12),cmap=\"RdBu_r\"):\n",
    "    fig = plt.figure(figsize=figsize)\n",
    "    ax = sns.heatmap(corr, annot=True,cmap=cmap, vmin=-1,vmax=1)\n",
    "    ax.set_title(f'Correlation Heatmap: {title}')\n",
    "\n",
    "# plt.savefig('../plots/corr_heatmap.png');"
   ]
  },
  {
   "cell_type": "code",
   "execution_count": 11,
   "metadata": {},
   "outputs": [],
   "source": [
    "def plot_jointplot(df, list_of_columns, y, figsize = (6,4), legend=True):\n",
    "    for col in list_of_columns:\n",
    "        fig = plt.figure(figsize=figsize)\n",
    "        ax = sns.jointplot(data=df, x=col, y=y, kind='reg')"
   ]
  },
  {
   "cell_type": "code",
   "execution_count": 12,
   "metadata": {},
   "outputs": [],
   "source": [
    "def plot_histograms(df, list_of_columns, ylabel=None, xlabel=None, bins=20,figsize=(6,4),\n",
    "                    vlines_list=None,ymax=100):\n",
    "    for i, col in enumerate(list_of_columns):\n",
    "        fig = plt.figure(figsize=figsize)\n",
    "        ax = plt.hist(df[col], bins=bins, edgecolor='cornflowerblue')\n",
    "        plt.vlines(x=df[col].mean(),\n",
    "           ymin = 0,\n",
    "           ymax = ymax,\n",
    "           color='firebrick',\n",
    "           linestyle = 'solid',label='Mean')\n",
    "        plt.vlines(x=df[col].median(),\n",
    "           ymin = 0,\n",
    "           ymax = ymax,\n",
    "           color='salmon',\n",
    "           linestyle = 'dashed',label='Median')\n",
    "        plt.vlines(x=df[col].quantile(q=0.25),\n",
    "           ymin = 0,\n",
    "           ymax = ymax,\n",
    "           color='lightsalmon',\n",
    "           linestyle = 'dotted',label='25% Quantile')\n",
    "        plt.vlines(x=df[col].quantile(q=0.75),\n",
    "           ymin = 0,\n",
    "           ymax = ymax,\n",
    "           color='lightsalmon',\n",
    "           linestyle = 'dotted',label='75% Quantile')\n",
    "        if vlines_list != None:\n",
    "            for num in vlines_list:\n",
    "                plt.vlines(x=num,\n",
    "                           ymin = 0, ymax = ymax, color='dimgrey',\n",
    "                           linestyle = 'solid',label=f'{num}')\n",
    "        plt.title(f'histogram: {col}',fontsize=18)\n",
    "        plt.ylabel(ylabel, fontsize=10)\n",
    "        plt.xlabel(xlabel, fontsize=10)\n",
    "        plt.legend(fontsize=10);\n",
    "        # plt.savefig('../plots/corr_heatmap.png');"
   ]
  },
  {
   "cell_type": "code",
   "execution_count": null,
   "metadata": {},
   "outputs": [],
   "source": []
  },
  {
   "cell_type": "code",
   "execution_count": null,
   "metadata": {},
   "outputs": [],
   "source": []
  },
  {
   "cell_type": "markdown",
   "metadata": {},
   "source": [
    "## 2. Model Preparation & Pre-Processing"
   ]
  },
  {
   "cell_type": "markdown",
   "metadata": {},
   "source": [
    "- For now, we will be using only the `train` dataset, and we will use the `test` dataset once we've identified the best model to generate predictions & submit to kaggle.\n",
    "- For the `train` dataset, we will split this into `train` (subset) and `validation` using the `train_test_split`, and we will also use cross validation (5-folds). "
   ]
  },
  {
   "cell_type": "code",
   "execution_count": 13,
   "metadata": {},
   "outputs": [],
   "source": [
    "# assign features:\n",
    "\n",
    "train_features = (col for col in train._get_numeric_data().columns if col != 'saleprice')\n"
   ]
  },
  {
   "cell_type": "code",
   "execution_count": 14,
   "metadata": {},
   "outputs": [],
   "source": [
    "X = train[train_features]\n",
    "y = train['saleprice']\n"
   ]
  },
  {
   "cell_type": "code",
   "execution_count": 15,
   "metadata": {},
   "outputs": [],
   "source": [
    "# Train-Validation Split, using 25% default value for validation\n",
    "\n",
    "X_train, X_validation, y_train, y_validation = train_test_split(X,y,random_state=42)  "
   ]
  },
  {
   "cell_type": "code",
   "execution_count": 16,
   "metadata": {},
   "outputs": [],
   "source": [
    "# Scaling is needed as we have different units of measures (i.e. sqft, rooms, ordinal scales, etc)\n",
    "\n",
    "ss = StandardScaler()\n",
    "X_train_scaled = ss.fit_transform(X_train)\n",
    "X_validation_scaled = ss.transform(X_validation)"
   ]
  },
  {
   "cell_type": "code",
   "execution_count": 17,
   "metadata": {},
   "outputs": [],
   "source": [
    "# assign for test\n",
    "\n",
    "# test_features = (col for col in test._get_numeric_data().columns)\n",
    "# X_test = test[test_features]\n",
    "# X_test_scaled = ss.transform(X_test)"
   ]
  },
  {
   "cell_type": "markdown",
   "metadata": {},
   "source": [
    "## 3. Building & Evaluating Models\n",
    "\n",
    "\n",
    "## <span style='color:teal'>Round 1:  Linear Regression, Lasso, Ridge, and Elastic Net</span>"
   ]
  },
  {
   "cell_type": "markdown",
   "metadata": {},
   "source": [
    "### 3.1.1 Linear Regression"
   ]
  },
  {
   "cell_type": "markdown",
   "metadata": {},
   "source": [
    "- The first model is linear regression, using all the 162 features.\n",
    "- **Evaluate the model:**\n",
    "  - This model performs well on the train dataset with root mean square error of 24,012.22, and $Adjusted-R{^2}$ of 0.89.  -->  **Low Bias**\n",
    "  - However, the model has a very high variance and does not generalise will wtih unseen data. --> **High Variance**\n",
    "    - $Adjusted-R{^2}$ decreased significantly from 0.99 for the training dataset, to -2.1304868746228192e+17 when fitted to the validation dataset, and the $R{^2}$ for 5k cross validation -1.1607115878829397e+24. \n",
    "    - The root mean squared error on the validation dataset also increased significantly 1.0368375826957771e+27 !!!\n",
    "  - This model is highly **overfitting**, hence we will explore regularizations in the next sections.\n",
    "  - We will not be using **polynomial features** in this case because the model is already **overfitting** but will focus more on **feature selection**.\n",
    "- **Performance vs. baseline model:**\n",
    "  - The baseline model assumes that we use the mean of y_train `'saleprice'` in the training set to predict the validations.  This will result in $R{^2}$ = 1.  Since our model has negative $R{^2}$, we can evaluate that this linear regression is performing worse than the baseline model, which is just using the mean to predict the `'saleprice'`.\n",
    "  \n",
    "*Note: model comparisons & analysis in the end after Elastic Net*"
   ]
  },
  {
   "cell_type": "code",
   "execution_count": 18,
   "metadata": {},
   "outputs": [],
   "source": [
    "# instantiate the model\n",
    "\n",
    "lr_1 = LinearRegression()"
   ]
  },
  {
   "cell_type": "code",
   "execution_count": 19,
   "metadata": {
    "scrolled": true
   },
   "outputs": [
    {
     "data": {
      "text/plain": [
       "LinearRegression()"
      ]
     },
     "execution_count": 19,
     "metadata": {},
     "output_type": "execute_result"
    }
   ],
   "source": [
    "# fit model to data\n",
    "\n",
    "lr_1.fit(X_train_scaled,y_train)"
   ]
  },
  {
   "cell_type": "code",
   "execution_count": 20,
   "metadata": {},
   "outputs": [],
   "source": [
    "# Generate predictions\n",
    "\n",
    "y_train_preds = lr_1.predict(X_train_scaled)\n",
    "y_validation_preds = lr_1.predict(X_validation_scaled)"
   ]
  },
  {
   "cell_type": "markdown",
   "metadata": {},
   "source": [
    "#### Evaluate the model"
   ]
  },
  {
   "cell_type": "code",
   "execution_count": 21,
   "metadata": {},
   "outputs": [],
   "source": [
    "# Training\n",
    "\n",
    "R2_train = lr_1.score(X_train_scaled, y_train)\n",
    "MSE_train = metrics.mean_squared_error(y_train, y_train_preds)\n",
    "RMSE_train = np.sqrt(MSE_train)"
   ]
  },
  {
   "cell_type": "code",
   "execution_count": 22,
   "metadata": {},
   "outputs": [],
   "source": [
    "# Cross-validation \n",
    "\n",
    "R2_CV5 = cross_val_score(lr_1, X_train_scaled, y_train, cv=5).mean()\n",
    "MSE_CV5 = abs(cross_val_score(lr_1, X_train_scaled, y_train, cv=5, scoring='neg_mean_squared_error')).mean()\n",
    "RMSE_CV5 = np.sqrt(MSE_CV5)"
   ]
  },
  {
   "cell_type": "code",
   "execution_count": 23,
   "metadata": {
    "scrolled": true
   },
   "outputs": [],
   "source": [
    "# Prediction on Validation data\n",
    "\n",
    "R2_validation = lr_1.score(X_validation_scaled, y_validation)\n",
    "MSE_validation = metrics.mean_squared_error(y_validation, y_validation_preds)\n",
    "RMSE_validation = np.sqrt(MSE_validation)"
   ]
  },
  {
   "cell_type": "code",
   "execution_count": 24,
   "metadata": {
    "scrolled": true
   },
   "outputs": [
    {
     "name": "stdout",
     "output_type": "stream",
     "text": [
      "training: \n",
      "R2 = 0.9039888025851408\n",
      "MSE = 576586451.1274039\n",
      "RMSE = 24012.214623549487\n",
      "\n",
      "cross-validation: \n",
      "R2 = -1.1607115878829397e+24\n",
      "MSE = 7.595745915756341e+33\n",
      "RMSE = 8.715357660908898e+16\n",
      "\n",
      "validation: \n",
      "R2 = -1.4605485692490448e+17\n",
      "MSE = 1.0368375472881922e+27\n",
      "RMSE = 32199961914390.4\n",
      "\n"
     ]
    }
   ],
   "source": [
    "# Print Summary Scores\n",
    "\n",
    "pd.set_option('display.float_format', lambda x: '%.5f' % x)\n",
    "\n",
    "print(f'training: \\nR2 = {R2_train}\\nMSE = {MSE_train}\\nRMSE = {RMSE_train}\\n')\n",
    "print(f'cross-validation: \\nR2 = {R2_CV5}\\nMSE = {MSE_CV5}\\nRMSE = {RMSE_CV5}\\n')\n",
    "print(f'validation: \\nR2 = {R2_validation}\\nMSE = {MSE_validation}\\nRMSE = {RMSE_validation}\\n')"
   ]
  },
  {
   "cell_type": "markdown",
   "metadata": {},
   "source": [
    "#### Key Metrics:  This will be summarized across different models"
   ]
  },
  {
   "cell_type": "code",
   "execution_count": 25,
   "metadata": {
    "scrolled": true
   },
   "outputs": [
    {
     "name": "stdout",
     "output_type": "stream",
     "text": [
      "Model                   =  linear_1 - train-subset\n",
      "Mean squared error      =  576586451.1274039\n",
      "Root mean squared error =  24012.214623549487\n",
      "Median absolute error   =  11634.993427878551\n",
      "R^2                     =  0.9039888025851408\n",
      "Adjusted R^2            =  0.8927385822184797\n"
     ]
    }
   ],
   "source": [
    "# metrics for y_train\n",
    "\n",
    "evaluate_model('linear_1','train-subset', y_train, y_train_preds, X.shape[1])"
   ]
  },
  {
   "cell_type": "code",
   "execution_count": 26,
   "metadata": {},
   "outputs": [
    {
     "name": "stdout",
     "output_type": "stream",
     "text": [
      "Model                   =  linear_1 - validation\n",
      "Mean squared error      =  1.0368375472881922e+27\n",
      "Root mean squared error =  32199961914390.4\n",
      "Median absolute error   =  15423.943368822802\n",
      "R^2                     =  -1.4605485692490448e+17\n",
      "Adjusted R^2            =  -2.1304868018675523e+17\n"
     ]
    }
   ],
   "source": [
    "# metrics for y_validation\n",
    "\n",
    "evaluate_model('linear_1','validation', y_validation, y_validation_preds, X.shape[1])"
   ]
  },
  {
   "cell_type": "code",
   "execution_count": 27,
   "metadata": {},
   "outputs": [],
   "source": [
    "# train['intercept'] = 1\n",
    "X = sm.add_constant(X)\n",
    "lr_1 = sm.OLS(y_validation,X_validation_scaled).fit()"
   ]
  },
  {
   "cell_type": "code",
   "execution_count": 28,
   "metadata": {
    "scrolled": false
   },
   "outputs": [
    {
     "data": {
      "text/html": [
       "<table class=\"simpletable\">\n",
       "<caption>OLS Regression Results</caption>\n",
       "<tr>\n",
       "  <th>Dep. Variable:</th>        <td>saleprice</td>    <th>  R-squared:         </th> <td>   0.942</td> \n",
       "</tr>\n",
       "<tr>\n",
       "  <th>Model:</th>                   <td>OLS</td>       <th>  Adj. R-squared:    </th> <td>   0.920</td> \n",
       "</tr>\n",
       "<tr>\n",
       "  <th>Method:</th>             <td>Least Squares</td>  <th>  F-statistic:       </th> <td>   42.14</td> \n",
       "</tr>\n",
       "<tr>\n",
       "  <th>Date:</th>             <td>Wed, 26 Aug 2020</td> <th>  Prob (F-statistic):</th> <td>4.60e-167</td>\n",
       "</tr>\n",
       "<tr>\n",
       "  <th>Time:</th>                 <td>11:17:48</td>     <th>  Log-Likelihood:    </th> <td> -5814.5</td> \n",
       "</tr>\n",
       "<tr>\n",
       "  <th>No. Observations:</th>      <td>   513</td>      <th>  AIC:               </th> <td>1.192e+04</td>\n",
       "</tr>\n",
       "<tr>\n",
       "  <th>Df Residuals:</th>          <td>   369</td>      <th>  BIC:               </th> <td>1.253e+04</td>\n",
       "</tr>\n",
       "<tr>\n",
       "  <th>Df Model:</th>              <td>   143</td>      <th>                     </th>     <td> </td>    \n",
       "</tr>\n",
       "<tr>\n",
       "  <th>Covariance Type:</th>      <td>nonrobust</td>    <th>                     </th>     <td> </td>    \n",
       "</tr>\n",
       "</table>\n",
       "<table class=\"simpletable\">\n",
       "<tr>\n",
       "    <td></td>      <th>coef</th>     <th>std err</th>      <th>t</th>      <th>P>|t|</th>  <th>[0.025</th>    <th>0.975]</th>  \n",
       "</tr>\n",
       "<tr>\n",
       "  <th>x1</th>   <td>  847.7545</td> <td> 1310.234</td> <td>    0.647</td> <td> 0.518</td> <td>-1728.707</td> <td> 3424.216</td>\n",
       "</tr>\n",
       "<tr>\n",
       "  <th>x2</th>   <td> 2418.4215</td> <td> 1088.044</td> <td>    2.223</td> <td> 0.027</td> <td>  278.877</td> <td> 4557.966</td>\n",
       "</tr>\n",
       "<tr>\n",
       "  <th>x3</th>   <td>   80.5613</td> <td> 1360.567</td> <td>    0.059</td> <td> 0.953</td> <td>-2594.876</td> <td> 2755.999</td>\n",
       "</tr>\n",
       "<tr>\n",
       "  <th>x4</th>   <td> 1.188e+04</td> <td> 2828.846</td> <td>    4.200</td> <td> 0.000</td> <td> 6317.837</td> <td> 1.74e+04</td>\n",
       "</tr>\n",
       "<tr>\n",
       "  <th>x5</th>   <td> 1.128e+04</td> <td> 2342.914</td> <td>    4.813</td> <td> 0.000</td> <td> 6670.440</td> <td> 1.59e+04</td>\n",
       "</tr>\n",
       "<tr>\n",
       "  <th>x6</th>   <td> 1698.3816</td> <td> 2292.364</td> <td>    0.741</td> <td> 0.459</td> <td>-2809.355</td> <td> 6206.118</td>\n",
       "</tr>\n",
       "<tr>\n",
       "  <th>x7</th>   <td> 5636.4977</td> <td> 2855.367</td> <td>    1.974</td> <td> 0.049</td> <td>   21.665</td> <td> 1.13e+04</td>\n",
       "</tr>\n",
       "<tr>\n",
       "  <th>x8</th>   <td>-1523.3138</td> <td> 2276.583</td> <td>   -0.669</td> <td> 0.504</td> <td>-6000.018</td> <td> 2953.391</td>\n",
       "</tr>\n",
       "<tr>\n",
       "  <th>x9</th>   <td> 8701.1988</td> <td> 1732.601</td> <td>    5.022</td> <td> 0.000</td> <td> 5294.188</td> <td> 1.21e+04</td>\n",
       "</tr>\n",
       "<tr>\n",
       "  <th>x10</th>  <td> 6491.9624</td> <td> 1602.900</td> <td>    4.050</td> <td> 0.000</td> <td> 3339.997</td> <td> 9643.928</td>\n",
       "</tr>\n",
       "<tr>\n",
       "  <th>x11</th>  <td> 1.123e+04</td> <td> 3396.420</td> <td>    3.306</td> <td> 0.001</td> <td> 4548.464</td> <td> 1.79e+04</td>\n",
       "</tr>\n",
       "<tr>\n",
       "  <th>x12</th>  <td>  263.3880</td> <td> 1767.446</td> <td>    0.149</td> <td> 0.882</td> <td>-3212.143</td> <td> 3738.918</td>\n",
       "</tr>\n",
       "<tr>\n",
       "  <th>x13</th>  <td>-1398.3323</td> <td> 1421.444</td> <td>   -0.984</td> <td> 0.326</td> <td>-4193.480</td> <td> 1396.815</td>\n",
       "</tr>\n",
       "<tr>\n",
       "  <th>x14</th>  <td> 1887.0353</td> <td> 1.69e+04</td> <td>    0.111</td> <td> 0.911</td> <td>-3.14e+04</td> <td> 3.52e+04</td>\n",
       "</tr>\n",
       "<tr>\n",
       "  <th>x15</th>  <td> 6389.2417</td> <td> 1.77e+04</td> <td>    0.361</td> <td> 0.718</td> <td>-2.84e+04</td> <td> 4.12e+04</td>\n",
       "</tr>\n",
       "<tr>\n",
       "  <th>x16</th>  <td> 2.032e+04</td> <td> 2.15e+04</td> <td>    0.947</td> <td> 0.344</td> <td>-2.19e+04</td> <td> 6.25e+04</td>\n",
       "</tr>\n",
       "<tr>\n",
       "  <th>x17</th>  <td> 5749.4309</td> <td> 2145.346</td> <td>    2.680</td> <td> 0.008</td> <td> 1530.793</td> <td> 9968.069</td>\n",
       "</tr>\n",
       "<tr>\n",
       "  <th>x18</th>  <td>-1545.8987</td> <td> 2495.354</td> <td>   -0.620</td> <td> 0.536</td> <td>-6452.797</td> <td> 3361.000</td>\n",
       "</tr>\n",
       "<tr>\n",
       "  <th>x19</th>  <td> 4124.4771</td> <td> 2490.632</td> <td>    1.656</td> <td> 0.099</td> <td> -773.136</td> <td> 9022.090</td>\n",
       "</tr>\n",
       "<tr>\n",
       "  <th>x20</th>  <td>-5745.7814</td> <td> 2680.559</td> <td>   -2.144</td> <td> 0.033</td> <td> -1.1e+04</td> <td> -474.694</td>\n",
       "</tr>\n",
       "<tr>\n",
       "  <th>x21</th>  <td> 1796.5470</td> <td> 2150.601</td> <td>    0.835</td> <td> 0.404</td> <td>-2432.425</td> <td> 6025.519</td>\n",
       "</tr>\n",
       "<tr>\n",
       "  <th>x22</th>  <td> 2640.0590</td> <td> 2980.662</td> <td>    0.886</td> <td> 0.376</td> <td>-3221.156</td> <td> 8501.274</td>\n",
       "</tr>\n",
       "<tr>\n",
       "  <th>x23</th>  <td> 5743.6574</td> <td> 3060.359</td> <td>    1.877</td> <td> 0.061</td> <td> -274.274</td> <td> 1.18e+04</td>\n",
       "</tr>\n",
       "<tr>\n",
       "  <th>x24</th>  <td>-3758.2130</td> <td> 5426.590</td> <td>   -0.693</td> <td> 0.489</td> <td>-1.44e+04</td> <td> 6912.708</td>\n",
       "</tr>\n",
       "<tr>\n",
       "  <th>x25</th>  <td> 1.298e+04</td> <td> 5659.773</td> <td>    2.293</td> <td> 0.022</td> <td> 1850.949</td> <td> 2.41e+04</td>\n",
       "</tr>\n",
       "<tr>\n",
       "  <th>x26</th>  <td>   46.1278</td> <td> 1952.618</td> <td>    0.024</td> <td> 0.981</td> <td>-3793.526</td> <td> 3885.782</td>\n",
       "</tr>\n",
       "<tr>\n",
       "  <th>x27</th>  <td> 5315.4380</td> <td> 1467.413</td> <td>    3.622</td> <td> 0.000</td> <td> 2429.898</td> <td> 8200.978</td>\n",
       "</tr>\n",
       "<tr>\n",
       "  <th>x28</th>  <td>-1553.8521</td> <td> 5187.541</td> <td>   -0.300</td> <td> 0.765</td> <td>-1.18e+04</td> <td> 8647.000</td>\n",
       "</tr>\n",
       "<tr>\n",
       "  <th>x29</th>  <td>-6395.8827</td> <td> 5231.658</td> <td>   -1.223</td> <td> 0.222</td> <td>-1.67e+04</td> <td> 3891.721</td>\n",
       "</tr>\n",
       "<tr>\n",
       "  <th>x30</th>  <td> 2666.6705</td> <td> 5634.595</td> <td>    0.473</td> <td> 0.636</td> <td>-8413.274</td> <td> 1.37e+04</td>\n",
       "</tr>\n",
       "<tr>\n",
       "  <th>x31</th>  <td> 4932.5255</td> <td> 2139.849</td> <td>    2.305</td> <td> 0.022</td> <td>  724.698</td> <td> 9140.354</td>\n",
       "</tr>\n",
       "<tr>\n",
       "  <th>x32</th>  <td>-2.792e+05</td> <td> 2091.444</td> <td> -133.508</td> <td> 0.000</td> <td>-2.83e+05</td> <td>-2.75e+05</td>\n",
       "</tr>\n",
       "<tr>\n",
       "  <th>x33</th>  <td>-3746.7363</td> <td> 3234.598</td> <td>   -1.158</td> <td> 0.247</td> <td>-1.01e+04</td> <td> 2613.821</td>\n",
       "</tr>\n",
       "<tr>\n",
       "  <th>x34</th>  <td> 3089.3404</td> <td> 3543.870</td> <td>    0.872</td> <td> 0.384</td> <td>-3879.374</td> <td> 1.01e+04</td>\n",
       "</tr>\n",
       "<tr>\n",
       "  <th>x35</th>  <td> 3406.3741</td> <td> 1044.657</td> <td>    3.261</td> <td> 0.001</td> <td> 1352.146</td> <td> 5460.602</td>\n",
       "</tr>\n",
       "<tr>\n",
       "  <th>x36</th>  <td> 2.958e+04</td> <td> 2591.107</td> <td>   11.415</td> <td> 0.000</td> <td> 2.45e+04</td> <td> 3.47e+04</td>\n",
       "</tr>\n",
       "<tr>\n",
       "  <th>x37</th>  <td> 1.349e+04</td> <td> 2133.772</td> <td>    6.321</td> <td> 0.000</td> <td> 9291.442</td> <td> 1.77e+04</td>\n",
       "</tr>\n",
       "<tr>\n",
       "  <th>x38</th>  <td> -5.59e+05</td> <td> 4186.981</td> <td> -133.508</td> <td> 0.000</td> <td>-5.67e+05</td> <td>-5.51e+05</td>\n",
       "</tr>\n",
       "<tr>\n",
       "  <th>x39</th>  <td> 3758.2006</td> <td> 2373.531</td> <td>    1.583</td> <td> 0.114</td> <td> -909.143</td> <td> 8425.544</td>\n",
       "</tr>\n",
       "<tr>\n",
       "  <th>x40</th>  <td> 1.421e+04</td> <td> 4797.217</td> <td>    2.963</td> <td> 0.003</td> <td> 4781.548</td> <td> 2.36e+04</td>\n",
       "</tr>\n",
       "<tr>\n",
       "  <th>x41</th>  <td> 2.161e+04</td> <td> 3584.960</td> <td>    6.029</td> <td> 0.000</td> <td> 1.46e+04</td> <td> 2.87e+04</td>\n",
       "</tr>\n",
       "<tr>\n",
       "  <th>x42</th>  <td> 1.173e+04</td> <td> 2364.059</td> <td>    4.963</td> <td> 0.000</td> <td> 7083.135</td> <td> 1.64e+04</td>\n",
       "</tr>\n",
       "<tr>\n",
       "  <th>x43</th>  <td>  602.2065</td> <td> 2753.886</td> <td>    0.219</td> <td> 0.827</td> <td>-4813.072</td> <td> 6017.485</td>\n",
       "</tr>\n",
       "<tr>\n",
       "  <th>x44</th>  <td> 2.388e+04</td> <td> 5758.332</td> <td>    4.146</td> <td> 0.000</td> <td> 1.26e+04</td> <td> 3.52e+04</td>\n",
       "</tr>\n",
       "<tr>\n",
       "  <th>x45</th>  <td> 8425.0257</td> <td> 2411.575</td> <td>    3.494</td> <td> 0.001</td> <td> 3682.871</td> <td> 1.32e+04</td>\n",
       "</tr>\n",
       "<tr>\n",
       "  <th>x46</th>  <td> 2665.3330</td> <td>  808.393</td> <td>    3.297</td> <td> 0.001</td> <td> 1075.697</td> <td> 4254.969</td>\n",
       "</tr>\n",
       "<tr>\n",
       "  <th>x47</th>  <td>  487.6796</td> <td> 2481.003</td> <td>    0.197</td> <td> 0.844</td> <td>-4390.998</td> <td> 5366.357</td>\n",
       "</tr>\n",
       "<tr>\n",
       "  <th>x48</th>  <td>  768.9234</td> <td> 7290.504</td> <td>    0.105</td> <td> 0.916</td> <td>-1.36e+04</td> <td> 1.51e+04</td>\n",
       "</tr>\n",
       "<tr>\n",
       "  <th>x49</th>  <td> 1.572e+04</td> <td> 1.01e+04</td> <td>    1.559</td> <td> 0.120</td> <td>-4101.660</td> <td> 3.55e+04</td>\n",
       "</tr>\n",
       "<tr>\n",
       "  <th>x50</th>  <td>   68.4671</td> <td> 2809.726</td> <td>    0.024</td> <td> 0.981</td> <td>-5456.618</td> <td> 5593.552</td>\n",
       "</tr>\n",
       "<tr>\n",
       "  <th>x51</th>  <td>-1932.4259</td> <td> 1.16e+04</td> <td>   -0.167</td> <td> 0.868</td> <td>-2.47e+04</td> <td> 2.08e+04</td>\n",
       "</tr>\n",
       "<tr>\n",
       "  <th>x52</th>  <td>-2479.8260</td> <td> 9649.052</td> <td>   -0.257</td> <td> 0.797</td> <td>-2.15e+04</td> <td> 1.65e+04</td>\n",
       "</tr>\n",
       "<tr>\n",
       "  <th>x53</th>  <td> 1757.8098</td> <td> 1971.155</td> <td>    0.892</td> <td> 0.373</td> <td>-2118.297</td> <td> 5633.917</td>\n",
       "</tr>\n",
       "<tr>\n",
       "  <th>x54</th>  <td>  893.3221</td> <td> 2029.071</td> <td>    0.440</td> <td> 0.660</td> <td>-3096.671</td> <td> 4883.315</td>\n",
       "</tr>\n",
       "<tr>\n",
       "  <th>x55</th>  <td> 4434.7764</td> <td> 2471.312</td> <td>    1.795</td> <td> 0.074</td> <td> -424.845</td> <td> 9294.398</td>\n",
       "</tr>\n",
       "<tr>\n",
       "  <th>x56</th>  <td> 4567.9325</td> <td> 1598.157</td> <td>    2.858</td> <td> 0.005</td> <td> 1425.295</td> <td> 7710.570</td>\n",
       "</tr>\n",
       "<tr>\n",
       "  <th>x57</th>  <td> -462.4910</td> <td> 1185.686</td> <td>   -0.390</td> <td> 0.697</td> <td>-2794.040</td> <td> 1869.058</td>\n",
       "</tr>\n",
       "<tr>\n",
       "  <th>x58</th>  <td> -829.3906</td> <td> 1377.418</td> <td>   -0.602</td> <td> 0.547</td> <td>-3537.964</td> <td> 1879.182</td>\n",
       "</tr>\n",
       "<tr>\n",
       "  <th>x59</th>  <td> 2465.6103</td> <td> 1457.642</td> <td>    1.692</td> <td> 0.092</td> <td> -400.717</td> <td> 5331.938</td>\n",
       "</tr>\n",
       "<tr>\n",
       "  <th>x60</th>  <td>  831.5170</td> <td> 1775.888</td> <td>    0.468</td> <td> 0.640</td> <td>-2660.614</td> <td> 4323.648</td>\n",
       "</tr>\n",
       "<tr>\n",
       "  <th>x61</th>  <td> 1839.2967</td> <td> 1881.743</td> <td>    0.977</td> <td> 0.329</td> <td>-1860.988</td> <td> 5539.581</td>\n",
       "</tr>\n",
       "<tr>\n",
       "  <th>x62</th>  <td> -141.2694</td> <td> 3740.516</td> <td>   -0.038</td> <td> 0.970</td> <td>-7496.672</td> <td> 7214.133</td>\n",
       "</tr>\n",
       "<tr>\n",
       "  <th>x63</th>  <td>-3283.4826</td> <td> 2199.487</td> <td>   -1.493</td> <td> 0.136</td> <td>-7608.583</td> <td> 1041.618</td>\n",
       "</tr>\n",
       "<tr>\n",
       "  <th>x64</th>  <td>-6227.8751</td> <td> 3454.017</td> <td>   -1.803</td> <td> 0.072</td> <td> -1.3e+04</td> <td>  564.150</td>\n",
       "</tr>\n",
       "<tr>\n",
       "  <th>x65</th>  <td> 3529.7997</td> <td> 2775.228</td> <td>    1.272</td> <td> 0.204</td> <td>-1927.447</td> <td> 8987.046</td>\n",
       "</tr>\n",
       "<tr>\n",
       "  <th>x66</th>  <td>-5722.1487</td> <td> 3644.958</td> <td>   -1.570</td> <td> 0.117</td> <td>-1.29e+04</td> <td> 1445.347</td>\n",
       "</tr>\n",
       "<tr>\n",
       "  <th>x67</th>  <td>-2814.9595</td> <td> 3211.044</td> <td>   -0.877</td> <td> 0.381</td> <td>-9129.200</td> <td> 3499.281</td>\n",
       "</tr>\n",
       "<tr>\n",
       "  <th>x68</th>  <td> -156.0298</td> <td> 1129.275</td> <td>   -0.138</td> <td> 0.890</td> <td>-2376.651</td> <td> 2064.592</td>\n",
       "</tr>\n",
       "<tr>\n",
       "  <th>x69</th>  <td> -3.95e+05</td> <td> 2958.712</td> <td> -133.508</td> <td> 0.000</td> <td>-4.01e+05</td> <td>-3.89e+05</td>\n",
       "</tr>\n",
       "<tr>\n",
       "  <th>x70</th>  <td>-3971.3870</td> <td> 4107.043</td> <td>   -0.967</td> <td> 0.334</td> <td> -1.2e+04</td> <td> 4104.759</td>\n",
       "</tr>\n",
       "<tr>\n",
       "  <th>x71</th>  <td>-2.792e+05</td> <td> 2091.444</td> <td> -133.508</td> <td> 0.000</td> <td>-2.83e+05</td> <td>-2.75e+05</td>\n",
       "</tr>\n",
       "<tr>\n",
       "  <th>x72</th>  <td> -510.3418</td> <td> 2557.974</td> <td>   -0.200</td> <td> 0.842</td> <td>-5540.377</td> <td> 4519.694</td>\n",
       "</tr>\n",
       "<tr>\n",
       "  <th>x73</th>  <td>-3913.0557</td> <td> 2877.217</td> <td>   -1.360</td> <td> 0.175</td> <td>-9570.854</td> <td> 1744.743</td>\n",
       "</tr>\n",
       "<tr>\n",
       "  <th>x74</th>  <td>-4086.5706</td> <td> 4941.563</td> <td>   -0.827</td> <td> 0.409</td> <td>-1.38e+04</td> <td> 5630.586</td>\n",
       "</tr>\n",
       "<tr>\n",
       "  <th>x75</th>  <td>-1.159e+05</td> <td> 1544.046</td> <td>  -75.092</td> <td> 0.000</td> <td>-1.19e+05</td> <td>-1.13e+05</td>\n",
       "</tr>\n",
       "<tr>\n",
       "  <th>x76</th>  <td>-3219.3698</td> <td> 3185.355</td> <td>   -1.011</td> <td> 0.313</td> <td>-9483.095</td> <td> 3044.355</td>\n",
       "</tr>\n",
       "<tr>\n",
       "  <th>x77</th>  <td> 1390.0625</td> <td> 2101.264</td> <td>    0.662</td> <td> 0.509</td> <td>-2741.892</td> <td> 5522.017</td>\n",
       "</tr>\n",
       "<tr>\n",
       "  <th>x78</th>  <td> 6235.0888</td> <td> 3012.291</td> <td>    2.070</td> <td> 0.039</td> <td>  311.678</td> <td> 1.22e+04</td>\n",
       "</tr>\n",
       "<tr>\n",
       "  <th>x79</th>  <td>-4312.3861</td> <td> 4828.416</td> <td>   -0.893</td> <td> 0.372</td> <td>-1.38e+04</td> <td> 5182.278</td>\n",
       "</tr>\n",
       "<tr>\n",
       "  <th>x80</th>  <td> -758.5591</td> <td> 2437.028</td> <td>   -0.311</td> <td> 0.756</td> <td>-5550.765</td> <td> 4033.647</td>\n",
       "</tr>\n",
       "<tr>\n",
       "  <th>x81</th>  <td>  667.0403</td> <td> 3579.085</td> <td>    0.186</td> <td> 0.852</td> <td>-6370.921</td> <td> 7705.001</td>\n",
       "</tr>\n",
       "<tr>\n",
       "  <th>x82</th>  <td>-5699.8005</td> <td> 2738.218</td> <td>   -2.082</td> <td> 0.038</td> <td>-1.11e+04</td> <td> -315.332</td>\n",
       "</tr>\n",
       "<tr>\n",
       "  <th>x83</th>  <td>-2416.5643</td> <td> 4338.165</td> <td>   -0.557</td> <td> 0.578</td> <td>-1.09e+04</td> <td> 6114.062</td>\n",
       "</tr>\n",
       "<tr>\n",
       "  <th>x84</th>  <td> 7419.6278</td> <td> 2298.748</td> <td>    3.228</td> <td> 0.001</td> <td> 2899.338</td> <td> 1.19e+04</td>\n",
       "</tr>\n",
       "<tr>\n",
       "  <th>x85</th>  <td>-2047.5501</td> <td> 1965.671</td> <td>   -1.042</td> <td> 0.298</td> <td>-5912.872</td> <td> 1817.772</td>\n",
       "</tr>\n",
       "<tr>\n",
       "  <th>x86</th>  <td> 2669.0794</td> <td> 1544.908</td> <td>    1.728</td> <td> 0.085</td> <td> -368.849</td> <td> 5707.008</td>\n",
       "</tr>\n",
       "<tr>\n",
       "  <th>x87</th>  <td>-2631.2563</td> <td> 2052.677</td> <td>   -1.282</td> <td> 0.201</td> <td>-6667.669</td> <td> 1405.157</td>\n",
       "</tr>\n",
       "<tr>\n",
       "  <th>x88</th>  <td> -259.7338</td> <td> 2440.477</td> <td>   -0.106</td> <td> 0.915</td> <td>-5058.722</td> <td> 4539.255</td>\n",
       "</tr>\n",
       "<tr>\n",
       "  <th>x89</th>  <td> 1087.7125</td> <td> 1732.129</td> <td>    0.628</td> <td> 0.530</td> <td>-2318.370</td> <td> 4493.795</td>\n",
       "</tr>\n",
       "<tr>\n",
       "  <th>x90</th>  <td> 1671.8989</td> <td> 1845.649</td> <td>    0.906</td> <td> 0.366</td> <td>-1957.411</td> <td> 5301.208</td>\n",
       "</tr>\n",
       "<tr>\n",
       "  <th>x91</th>  <td>-2463.8623</td> <td> 2116.340</td> <td>   -1.164</td> <td> 0.245</td> <td>-6625.463</td> <td> 1697.738</td>\n",
       "</tr>\n",
       "<tr>\n",
       "  <th>x92</th>  <td>-1293.9081</td> <td> 1839.497</td> <td>   -0.703</td> <td> 0.482</td> <td>-4911.121</td> <td> 2323.305</td>\n",
       "</tr>\n",
       "<tr>\n",
       "  <th>x93</th>  <td> -252.9374</td> <td>  988.534</td> <td>   -0.256</td> <td> 0.798</td> <td>-2196.805</td> <td> 1690.930</td>\n",
       "</tr>\n",
       "<tr>\n",
       "  <th>x94</th>  <td> 3542.0926</td> <td> 2087.353</td> <td>    1.697</td> <td> 0.091</td> <td> -562.508</td> <td> 7646.693</td>\n",
       "</tr>\n",
       "<tr>\n",
       "  <th>x95</th>  <td> 3406.3741</td> <td> 1044.657</td> <td>    3.261</td> <td> 0.001</td> <td> 1352.146</td> <td> 5460.602</td>\n",
       "</tr>\n",
       "<tr>\n",
       "  <th>x96</th>  <td> 2665.3330</td> <td>  808.393</td> <td>    3.297</td> <td> 0.001</td> <td> 1075.697</td> <td> 4254.969</td>\n",
       "</tr>\n",
       "<tr>\n",
       "  <th>x97</th>  <td> 6838.8410</td> <td> 2127.372</td> <td>    3.215</td> <td> 0.001</td> <td> 2655.548</td> <td>  1.1e+04</td>\n",
       "</tr>\n",
       "<tr>\n",
       "  <th>x98</th>  <td> 7907.4242</td> <td> 2307.705</td> <td>    3.427</td> <td> 0.001</td> <td> 3369.521</td> <td> 1.24e+04</td>\n",
       "</tr>\n",
       "<tr>\n",
       "  <th>x99</th>  <td>  625.0336</td> <td> 2189.942</td> <td>    0.285</td> <td> 0.775</td> <td>-3681.297</td> <td> 4931.365</td>\n",
       "</tr>\n",
       "<tr>\n",
       "  <th>x100</th> <td>-1569.4605</td> <td> 9753.214</td> <td>   -0.161</td> <td> 0.872</td> <td>-2.07e+04</td> <td> 1.76e+04</td>\n",
       "</tr>\n",
       "<tr>\n",
       "  <th>x101</th> <td>-1276.8818</td> <td> 1828.513</td> <td>   -0.698</td> <td> 0.485</td> <td>-4872.494</td> <td> 2318.730</td>\n",
       "</tr>\n",
       "<tr>\n",
       "  <th>x102</th> <td> 1857.7327</td> <td> 2790.576</td> <td>    0.666</td> <td> 0.506</td> <td>-3629.694</td> <td> 7345.159</td>\n",
       "</tr>\n",
       "<tr>\n",
       "  <th>x103</th> <td>-3159.4479</td> <td> 8508.820</td> <td>   -0.371</td> <td> 0.711</td> <td>-1.99e+04</td> <td> 1.36e+04</td>\n",
       "</tr>\n",
       "<tr>\n",
       "  <th>x104</th> <td>-2440.9397</td> <td> 3535.622</td> <td>   -0.690</td> <td> 0.490</td> <td>-9393.435</td> <td> 4511.556</td>\n",
       "</tr>\n",
       "<tr>\n",
       "  <th>x105</th> <td> -1.63e+04</td> <td> 7409.074</td> <td>   -2.200</td> <td> 0.028</td> <td>-3.09e+04</td> <td>-1732.193</td>\n",
       "</tr>\n",
       "<tr>\n",
       "  <th>x106</th> <td> 2096.6607</td> <td> 1.09e+04</td> <td>    0.192</td> <td> 0.848</td> <td>-1.93e+04</td> <td> 2.35e+04</td>\n",
       "</tr>\n",
       "<tr>\n",
       "  <th>x107</th> <td>  476.9603</td> <td> 2432.629</td> <td>    0.196</td> <td> 0.845</td> <td>-4306.595</td> <td> 5260.516</td>\n",
       "</tr>\n",
       "<tr>\n",
       "  <th>x108</th> <td> 3311.4217</td> <td> 1.06e+04</td> <td>    0.312</td> <td> 0.755</td> <td>-1.75e+04</td> <td> 2.42e+04</td>\n",
       "</tr>\n",
       "<tr>\n",
       "  <th>x109</th> <td> 3620.0391</td> <td> 2694.867</td> <td>    1.343</td> <td> 0.180</td> <td>-1679.184</td> <td> 8919.262</td>\n",
       "</tr>\n",
       "<tr>\n",
       "  <th>x110</th> <td> -605.5227</td> <td> 1543.766</td> <td>   -0.392</td> <td> 0.695</td> <td>-3641.205</td> <td> 2430.159</td>\n",
       "</tr>\n",
       "<tr>\n",
       "  <th>x111</th> <td>-2.792e+05</td> <td> 2091.444</td> <td> -133.508</td> <td> 0.000</td> <td>-2.83e+05</td> <td>-2.75e+05</td>\n",
       "</tr>\n",
       "<tr>\n",
       "  <th>x112</th> <td>-3.144e+04</td> <td>  749.772</td> <td>  -41.932</td> <td> 0.000</td> <td>-3.29e+04</td> <td>   -3e+04</td>\n",
       "</tr>\n",
       "<tr>\n",
       "  <th>x113</th> <td> 4595.2972</td> <td> 3784.716</td> <td>    1.214</td> <td> 0.225</td> <td>-2847.021</td> <td>  1.2e+04</td>\n",
       "</tr>\n",
       "<tr>\n",
       "  <th>x114</th> <td> -3.95e+05</td> <td> 2958.712</td> <td> -133.508</td> <td> 0.000</td> <td>-4.01e+05</td> <td>-3.89e+05</td>\n",
       "</tr>\n",
       "<tr>\n",
       "  <th>x115</th> <td>  435.3560</td> <td> 1489.029</td> <td>    0.292</td> <td> 0.770</td> <td>-2492.691</td> <td> 3363.403</td>\n",
       "</tr>\n",
       "<tr>\n",
       "  <th>x116</th> <td> 4920.9797</td> <td> 9097.637</td> <td>    0.541</td> <td> 0.589</td> <td> -1.3e+04</td> <td> 2.28e+04</td>\n",
       "</tr>\n",
       "<tr>\n",
       "  <th>x117</th> <td>-2.792e+05</td> <td> 2091.444</td> <td> -133.508</td> <td> 0.000</td> <td>-2.83e+05</td> <td>-2.75e+05</td>\n",
       "</tr>\n",
       "<tr>\n",
       "  <th>x118</th> <td>-1.433e+04</td> <td> 9792.831</td> <td>   -1.463</td> <td> 0.144</td> <td>-3.36e+04</td> <td> 4926.252</td>\n",
       "</tr>\n",
       "<tr>\n",
       "  <th>x119</th> <td> -766.2153</td> <td> 7148.981</td> <td>   -0.107</td> <td> 0.915</td> <td>-1.48e+04</td> <td> 1.33e+04</td>\n",
       "</tr>\n",
       "<tr>\n",
       "  <th>x120</th> <td> -3.95e+05</td> <td> 2958.712</td> <td> -133.508</td> <td> 0.000</td> <td>-4.01e+05</td> <td>-3.89e+05</td>\n",
       "</tr>\n",
       "<tr>\n",
       "  <th>x121</th> <td> 2843.5693</td> <td> 2821.844</td> <td>    1.008</td> <td> 0.314</td> <td>-2705.343</td> <td> 8392.482</td>\n",
       "</tr>\n",
       "<tr>\n",
       "  <th>x122</th> <td>-1.444e+04</td> <td> 1.17e+04</td> <td>   -1.230</td> <td> 0.220</td> <td>-3.75e+04</td> <td> 8651.333</td>\n",
       "</tr>\n",
       "<tr>\n",
       "  <th>x123</th> <td> 2602.1345</td> <td> 8478.524</td> <td>    0.307</td> <td> 0.759</td> <td>-1.41e+04</td> <td> 1.93e+04</td>\n",
       "</tr>\n",
       "<tr>\n",
       "  <th>x124</th> <td>  826.3008</td> <td> 3582.944</td> <td>    0.231</td> <td> 0.818</td> <td>-6219.250</td> <td> 7871.851</td>\n",
       "</tr>\n",
       "<tr>\n",
       "  <th>x125</th> <td>-4.839e+05</td> <td> 3624.849</td> <td> -133.508</td> <td> 0.000</td> <td>-4.91e+05</td> <td>-4.77e+05</td>\n",
       "</tr>\n",
       "<tr>\n",
       "  <th>x126</th> <td> 1.084e+05</td> <td> 1710.951</td> <td>   63.371</td> <td> 0.000</td> <td> 1.05e+05</td> <td> 1.12e+05</td>\n",
       "</tr>\n",
       "<tr>\n",
       "  <th>x127</th> <td>-4085.8569</td> <td> 2744.834</td> <td>   -1.489</td> <td> 0.137</td> <td>-9483.336</td> <td> 1311.623</td>\n",
       "</tr>\n",
       "<tr>\n",
       "  <th>x128</th> <td> -3.95e+05</td> <td> 2958.712</td> <td> -133.508</td> <td> 0.000</td> <td>-4.01e+05</td> <td>-3.89e+05</td>\n",
       "</tr>\n",
       "<tr>\n",
       "  <th>x129</th> <td>  435.3560</td> <td> 1489.029</td> <td>    0.292</td> <td> 0.770</td> <td>-2492.691</td> <td> 3363.403</td>\n",
       "</tr>\n",
       "<tr>\n",
       "  <th>x130</th> <td>-8859.2701</td> <td> 7863.621</td> <td>   -1.127</td> <td> 0.261</td> <td>-2.43e+04</td> <td> 6603.862</td>\n",
       "</tr>\n",
       "<tr>\n",
       "  <th>x131</th> <td> -872.8257</td> <td> 2145.436</td> <td>   -0.407</td> <td> 0.684</td> <td>-5091.641</td> <td> 3345.989</td>\n",
       "</tr>\n",
       "<tr>\n",
       "  <th>x132</th> <td> 1.528e+04</td> <td> 8905.817</td> <td>    1.716</td> <td> 0.087</td> <td>-2230.294</td> <td> 3.28e+04</td>\n",
       "</tr>\n",
       "<tr>\n",
       "  <th>x133</th> <td>-4793.4832</td> <td> 6969.945</td> <td>   -0.688</td> <td> 0.492</td> <td>-1.85e+04</td> <td> 8912.313</td>\n",
       "</tr>\n",
       "<tr>\n",
       "  <th>x134</th> <td>  551.0733</td> <td> 1254.997</td> <td>    0.439</td> <td> 0.661</td> <td>-1916.770</td> <td> 3018.917</td>\n",
       "</tr>\n",
       "<tr>\n",
       "  <th>x135</th> <td>-1402.4893</td> <td> 2814.130</td> <td>   -0.498</td> <td> 0.619</td> <td>-6936.234</td> <td> 4131.255</td>\n",
       "</tr>\n",
       "<tr>\n",
       "  <th>x136</th> <td> 1.328e+04</td> <td> 1.09e+04</td> <td>    1.221</td> <td> 0.223</td> <td>-8115.960</td> <td> 3.47e+04</td>\n",
       "</tr>\n",
       "<tr>\n",
       "  <th>x137</th> <td>-3541.8831</td> <td> 7208.040</td> <td>   -0.491</td> <td> 0.623</td> <td>-1.77e+04</td> <td> 1.06e+04</td>\n",
       "</tr>\n",
       "<tr>\n",
       "  <th>x138</th> <td>-1785.7299</td> <td> 3712.920</td> <td>   -0.481</td> <td> 0.631</td> <td>-9086.866</td> <td> 5515.406</td>\n",
       "</tr>\n",
       "<tr>\n",
       "  <th>x139</th> <td> 1.214e+04</td> <td> 1.05e+04</td> <td>    1.160</td> <td> 0.247</td> <td>-8443.472</td> <td> 3.27e+04</td>\n",
       "</tr>\n",
       "<tr>\n",
       "  <th>x140</th> <td> 1.934e+04</td> <td> 1.12e+04</td> <td>    1.720</td> <td> 0.086</td> <td>-2773.889</td> <td> 4.15e+04</td>\n",
       "</tr>\n",
       "<tr>\n",
       "  <th>x141</th> <td> 1.156e+04</td> <td> 6255.004</td> <td>    1.848</td> <td> 0.065</td> <td> -743.488</td> <td> 2.39e+04</td>\n",
       "</tr>\n",
       "<tr>\n",
       "  <th>x142</th> <td> 6584.1779</td> <td> 3123.868</td> <td>    2.108</td> <td> 0.036</td> <td>  441.362</td> <td> 1.27e+04</td>\n",
       "</tr>\n",
       "<tr>\n",
       "  <th>x143</th> <td> 6252.4685</td> <td> 3576.792</td> <td>    1.748</td> <td> 0.081</td> <td> -780.984</td> <td> 1.33e+04</td>\n",
       "</tr>\n",
       "<tr>\n",
       "  <th>x144</th> <td> 6634.9668</td> <td> 2276.433</td> <td>    2.915</td> <td> 0.004</td> <td> 2158.557</td> <td> 1.11e+04</td>\n",
       "</tr>\n",
       "<tr>\n",
       "  <th>x145</th> <td>  248.2662</td> <td>  627.304</td> <td>    0.396</td> <td> 0.693</td> <td> -985.272</td> <td> 1481.805</td>\n",
       "</tr>\n",
       "<tr>\n",
       "  <th>x146</th> <td> -3.95e+05</td> <td> 2958.712</td> <td> -133.508</td> <td> 0.000</td> <td>-4.01e+05</td> <td>-3.89e+05</td>\n",
       "</tr>\n",
       "<tr>\n",
       "  <th>x147</th> <td>  -76.8352</td> <td> 1882.963</td> <td>   -0.041</td> <td> 0.967</td> <td>-3779.520</td> <td> 3625.849</td>\n",
       "</tr>\n",
       "<tr>\n",
       "  <th>x148</th> <td>-1111.0423</td> <td> 9706.886</td> <td>   -0.114</td> <td> 0.909</td> <td>-2.02e+04</td> <td>  1.8e+04</td>\n",
       "</tr>\n",
       "<tr>\n",
       "  <th>x149</th> <td> 2243.4634</td> <td> 2514.140</td> <td>    0.892</td> <td> 0.373</td> <td>-2700.376</td> <td> 7187.302</td>\n",
       "</tr>\n",
       "<tr>\n",
       "  <th>x150</th> <td> -931.8871</td> <td> 4971.372</td> <td>   -0.187</td> <td> 0.851</td> <td>-1.07e+04</td> <td> 8843.888</td>\n",
       "</tr>\n",
       "<tr>\n",
       "  <th>x151</th> <td>  357.2445</td> <td> 1696.801</td> <td>    0.211</td> <td> 0.833</td> <td>-2979.368</td> <td> 3693.858</td>\n",
       "</tr>\n",
       "<tr>\n",
       "  <th>x152</th> <td>-1108.8717</td> <td> 8554.488</td> <td>   -0.130</td> <td> 0.897</td> <td>-1.79e+04</td> <td> 1.57e+04</td>\n",
       "</tr>\n",
       "<tr>\n",
       "  <th>x153</th> <td> 1.289e+04</td> <td> 7514.432</td> <td>    1.716</td> <td> 0.087</td> <td>-1883.004</td> <td> 2.77e+04</td>\n",
       "</tr>\n",
       "<tr>\n",
       "  <th>x154</th> <td> 4872.4185</td> <td> 2209.803</td> <td>    2.205</td> <td> 0.028</td> <td>  527.033</td> <td> 9217.804</td>\n",
       "</tr>\n",
       "<tr>\n",
       "  <th>x155</th> <td> 1581.4923</td> <td>  714.869</td> <td>    2.212</td> <td> 0.028</td> <td>  175.765</td> <td> 2987.220</td>\n",
       "</tr>\n",
       "<tr>\n",
       "  <th>x156</th> <td> 1383.7309</td> <td> 1966.938</td> <td>    0.703</td> <td> 0.482</td> <td>-2484.083</td> <td> 5251.545</td>\n",
       "</tr>\n",
       "<tr>\n",
       "  <th>x157</th> <td>  653.3475</td> <td>  937.952</td> <td>    0.697</td> <td> 0.487</td> <td>-1191.054</td> <td> 2497.750</td>\n",
       "</tr>\n",
       "<tr>\n",
       "  <th>x158</th> <td>  181.6695</td> <td>  988.673</td> <td>    0.184</td> <td> 0.854</td> <td>-1762.471</td> <td> 2125.810</td>\n",
       "</tr>\n",
       "<tr>\n",
       "  <th>x159</th> <td> 2399.5800</td> <td> 2804.442</td> <td>    0.856</td> <td> 0.393</td> <td>-3115.114</td> <td> 7914.274</td>\n",
       "</tr>\n",
       "<tr>\n",
       "  <th>x160</th> <td> -5.59e+05</td> <td> 4186.981</td> <td> -133.508</td> <td> 0.000</td> <td>-5.67e+05</td> <td>-5.51e+05</td>\n",
       "</tr>\n",
       "<tr>\n",
       "  <th>x161</th> <td> -370.4300</td> <td> 3109.870</td> <td>   -0.119</td> <td> 0.905</td> <td>-6485.720</td> <td> 5744.860</td>\n",
       "</tr>\n",
       "</table>\n",
       "<table class=\"simpletable\">\n",
       "<tr>\n",
       "  <th>Omnibus:</th>       <td>46.525</td> <th>  Durbin-Watson:     </th> <td>   1.944</td>\n",
       "</tr>\n",
       "<tr>\n",
       "  <th>Prob(Omnibus):</th> <td> 0.000</td> <th>  Jarque-Bera (JB):  </th> <td> 178.597</td>\n",
       "</tr>\n",
       "<tr>\n",
       "  <th>Skew:</th>          <td> 0.298</td> <th>  Prob(JB):          </th> <td>1.65e-39</td>\n",
       "</tr>\n",
       "<tr>\n",
       "  <th>Kurtosis:</th>      <td> 5.828</td> <th>  Cond. No.          </th> <td>4.03e+16</td>\n",
       "</tr>\n",
       "</table><br/><br/>Warnings:<br/>[1] Standard Errors assume that the covariance matrix of the errors is correctly specified.<br/>[2] The smallest eigenvalue is 4.86e-30. This might indicate that there are<br/>strong multicollinearity problems or that the design matrix is singular."
      ],
      "text/plain": [
       "<class 'statsmodels.iolib.summary.Summary'>\n",
       "\"\"\"\n",
       "                            OLS Regression Results                            \n",
       "==============================================================================\n",
       "Dep. Variable:              saleprice   R-squared:                       0.942\n",
       "Model:                            OLS   Adj. R-squared:                  0.920\n",
       "Method:                 Least Squares   F-statistic:                     42.14\n",
       "Date:                Wed, 26 Aug 2020   Prob (F-statistic):          4.60e-167\n",
       "Time:                        11:17:48   Log-Likelihood:                -5814.5\n",
       "No. Observations:                 513   AIC:                         1.192e+04\n",
       "Df Residuals:                     369   BIC:                         1.253e+04\n",
       "Df Model:                         143                                         \n",
       "Covariance Type:            nonrobust                                         \n",
       "==============================================================================\n",
       "                 coef    std err          t      P>|t|      [0.025      0.975]\n",
       "------------------------------------------------------------------------------\n",
       "x1           847.7545   1310.234      0.647      0.518   -1728.707    3424.216\n",
       "x2          2418.4215   1088.044      2.223      0.027     278.877    4557.966\n",
       "x3            80.5613   1360.567      0.059      0.953   -2594.876    2755.999\n",
       "x4          1.188e+04   2828.846      4.200      0.000    6317.837    1.74e+04\n",
       "x5          1.128e+04   2342.914      4.813      0.000    6670.440    1.59e+04\n",
       "x6          1698.3816   2292.364      0.741      0.459   -2809.355    6206.118\n",
       "x7          5636.4977   2855.367      1.974      0.049      21.665    1.13e+04\n",
       "x8         -1523.3138   2276.583     -0.669      0.504   -6000.018    2953.391\n",
       "x9          8701.1988   1732.601      5.022      0.000    5294.188    1.21e+04\n",
       "x10         6491.9624   1602.900      4.050      0.000    3339.997    9643.928\n",
       "x11         1.123e+04   3396.420      3.306      0.001    4548.464    1.79e+04\n",
       "x12          263.3880   1767.446      0.149      0.882   -3212.143    3738.918\n",
       "x13        -1398.3323   1421.444     -0.984      0.326   -4193.480    1396.815\n",
       "x14         1887.0353   1.69e+04      0.111      0.911   -3.14e+04    3.52e+04\n",
       "x15         6389.2417   1.77e+04      0.361      0.718   -2.84e+04    4.12e+04\n",
       "x16         2.032e+04   2.15e+04      0.947      0.344   -2.19e+04    6.25e+04\n",
       "x17         5749.4309   2145.346      2.680      0.008    1530.793    9968.069\n",
       "x18        -1545.8987   2495.354     -0.620      0.536   -6452.797    3361.000\n",
       "x19         4124.4771   2490.632      1.656      0.099    -773.136    9022.090\n",
       "x20        -5745.7814   2680.559     -2.144      0.033    -1.1e+04    -474.694\n",
       "x21         1796.5470   2150.601      0.835      0.404   -2432.425    6025.519\n",
       "x22         2640.0590   2980.662      0.886      0.376   -3221.156    8501.274\n",
       "x23         5743.6574   3060.359      1.877      0.061    -274.274    1.18e+04\n",
       "x24        -3758.2130   5426.590     -0.693      0.489   -1.44e+04    6912.708\n",
       "x25         1.298e+04   5659.773      2.293      0.022    1850.949    2.41e+04\n",
       "x26           46.1278   1952.618      0.024      0.981   -3793.526    3885.782\n",
       "x27         5315.4380   1467.413      3.622      0.000    2429.898    8200.978\n",
       "x28        -1553.8521   5187.541     -0.300      0.765   -1.18e+04    8647.000\n",
       "x29        -6395.8827   5231.658     -1.223      0.222   -1.67e+04    3891.721\n",
       "x30         2666.6705   5634.595      0.473      0.636   -8413.274    1.37e+04\n",
       "x31         4932.5255   2139.849      2.305      0.022     724.698    9140.354\n",
       "x32        -2.792e+05   2091.444   -133.508      0.000   -2.83e+05   -2.75e+05\n",
       "x33        -3746.7363   3234.598     -1.158      0.247   -1.01e+04    2613.821\n",
       "x34         3089.3404   3543.870      0.872      0.384   -3879.374    1.01e+04\n",
       "x35         3406.3741   1044.657      3.261      0.001    1352.146    5460.602\n",
       "x36         2.958e+04   2591.107     11.415      0.000    2.45e+04    3.47e+04\n",
       "x37         1.349e+04   2133.772      6.321      0.000    9291.442    1.77e+04\n",
       "x38         -5.59e+05   4186.981   -133.508      0.000   -5.67e+05   -5.51e+05\n",
       "x39         3758.2006   2373.531      1.583      0.114    -909.143    8425.544\n",
       "x40         1.421e+04   4797.217      2.963      0.003    4781.548    2.36e+04\n",
       "x41         2.161e+04   3584.960      6.029      0.000    1.46e+04    2.87e+04\n",
       "x42         1.173e+04   2364.059      4.963      0.000    7083.135    1.64e+04\n",
       "x43          602.2065   2753.886      0.219      0.827   -4813.072    6017.485\n",
       "x44         2.388e+04   5758.332      4.146      0.000    1.26e+04    3.52e+04\n",
       "x45         8425.0257   2411.575      3.494      0.001    3682.871    1.32e+04\n",
       "x46         2665.3330    808.393      3.297      0.001    1075.697    4254.969\n",
       "x47          487.6796   2481.003      0.197      0.844   -4390.998    5366.357\n",
       "x48          768.9234   7290.504      0.105      0.916   -1.36e+04    1.51e+04\n",
       "x49         1.572e+04   1.01e+04      1.559      0.120   -4101.660    3.55e+04\n",
       "x50           68.4671   2809.726      0.024      0.981   -5456.618    5593.552\n",
       "x51        -1932.4259   1.16e+04     -0.167      0.868   -2.47e+04    2.08e+04\n",
       "x52        -2479.8260   9649.052     -0.257      0.797   -2.15e+04    1.65e+04\n",
       "x53         1757.8098   1971.155      0.892      0.373   -2118.297    5633.917\n",
       "x54          893.3221   2029.071      0.440      0.660   -3096.671    4883.315\n",
       "x55         4434.7764   2471.312      1.795      0.074    -424.845    9294.398\n",
       "x56         4567.9325   1598.157      2.858      0.005    1425.295    7710.570\n",
       "x57         -462.4910   1185.686     -0.390      0.697   -2794.040    1869.058\n",
       "x58         -829.3906   1377.418     -0.602      0.547   -3537.964    1879.182\n",
       "x59         2465.6103   1457.642      1.692      0.092    -400.717    5331.938\n",
       "x60          831.5170   1775.888      0.468      0.640   -2660.614    4323.648\n",
       "x61         1839.2967   1881.743      0.977      0.329   -1860.988    5539.581\n",
       "x62         -141.2694   3740.516     -0.038      0.970   -7496.672    7214.133\n",
       "x63        -3283.4826   2199.487     -1.493      0.136   -7608.583    1041.618\n",
       "x64        -6227.8751   3454.017     -1.803      0.072    -1.3e+04     564.150\n",
       "x65         3529.7997   2775.228      1.272      0.204   -1927.447    8987.046\n",
       "x66        -5722.1487   3644.958     -1.570      0.117   -1.29e+04    1445.347\n",
       "x67        -2814.9595   3211.044     -0.877      0.381   -9129.200    3499.281\n",
       "x68         -156.0298   1129.275     -0.138      0.890   -2376.651    2064.592\n",
       "x69         -3.95e+05   2958.712   -133.508      0.000   -4.01e+05   -3.89e+05\n",
       "x70        -3971.3870   4107.043     -0.967      0.334    -1.2e+04    4104.759\n",
       "x71        -2.792e+05   2091.444   -133.508      0.000   -2.83e+05   -2.75e+05\n",
       "x72         -510.3418   2557.974     -0.200      0.842   -5540.377    4519.694\n",
       "x73        -3913.0557   2877.217     -1.360      0.175   -9570.854    1744.743\n",
       "x74        -4086.5706   4941.563     -0.827      0.409   -1.38e+04    5630.586\n",
       "x75        -1.159e+05   1544.046    -75.092      0.000   -1.19e+05   -1.13e+05\n",
       "x76        -3219.3698   3185.355     -1.011      0.313   -9483.095    3044.355\n",
       "x77         1390.0625   2101.264      0.662      0.509   -2741.892    5522.017\n",
       "x78         6235.0888   3012.291      2.070      0.039     311.678    1.22e+04\n",
       "x79        -4312.3861   4828.416     -0.893      0.372   -1.38e+04    5182.278\n",
       "x80         -758.5591   2437.028     -0.311      0.756   -5550.765    4033.647\n",
       "x81          667.0403   3579.085      0.186      0.852   -6370.921    7705.001\n",
       "x82        -5699.8005   2738.218     -2.082      0.038   -1.11e+04    -315.332\n",
       "x83        -2416.5643   4338.165     -0.557      0.578   -1.09e+04    6114.062\n",
       "x84         7419.6278   2298.748      3.228      0.001    2899.338    1.19e+04\n",
       "x85        -2047.5501   1965.671     -1.042      0.298   -5912.872    1817.772\n",
       "x86         2669.0794   1544.908      1.728      0.085    -368.849    5707.008\n",
       "x87        -2631.2563   2052.677     -1.282      0.201   -6667.669    1405.157\n",
       "x88         -259.7338   2440.477     -0.106      0.915   -5058.722    4539.255\n",
       "x89         1087.7125   1732.129      0.628      0.530   -2318.370    4493.795\n",
       "x90         1671.8989   1845.649      0.906      0.366   -1957.411    5301.208\n",
       "x91        -2463.8623   2116.340     -1.164      0.245   -6625.463    1697.738\n",
       "x92        -1293.9081   1839.497     -0.703      0.482   -4911.121    2323.305\n",
       "x93         -252.9374    988.534     -0.256      0.798   -2196.805    1690.930\n",
       "x94         3542.0926   2087.353      1.697      0.091    -562.508    7646.693\n",
       "x95         3406.3741   1044.657      3.261      0.001    1352.146    5460.602\n",
       "x96         2665.3330    808.393      3.297      0.001    1075.697    4254.969\n",
       "x97         6838.8410   2127.372      3.215      0.001    2655.548     1.1e+04\n",
       "x98         7907.4242   2307.705      3.427      0.001    3369.521    1.24e+04\n",
       "x99          625.0336   2189.942      0.285      0.775   -3681.297    4931.365\n",
       "x100       -1569.4605   9753.214     -0.161      0.872   -2.07e+04    1.76e+04\n",
       "x101       -1276.8818   1828.513     -0.698      0.485   -4872.494    2318.730\n",
       "x102        1857.7327   2790.576      0.666      0.506   -3629.694    7345.159\n",
       "x103       -3159.4479   8508.820     -0.371      0.711   -1.99e+04    1.36e+04\n",
       "x104       -2440.9397   3535.622     -0.690      0.490   -9393.435    4511.556\n",
       "x105        -1.63e+04   7409.074     -2.200      0.028   -3.09e+04   -1732.193\n",
       "x106        2096.6607   1.09e+04      0.192      0.848   -1.93e+04    2.35e+04\n",
       "x107         476.9603   2432.629      0.196      0.845   -4306.595    5260.516\n",
       "x108        3311.4217   1.06e+04      0.312      0.755   -1.75e+04    2.42e+04\n",
       "x109        3620.0391   2694.867      1.343      0.180   -1679.184    8919.262\n",
       "x110        -605.5227   1543.766     -0.392      0.695   -3641.205    2430.159\n",
       "x111       -2.792e+05   2091.444   -133.508      0.000   -2.83e+05   -2.75e+05\n",
       "x112       -3.144e+04    749.772    -41.932      0.000   -3.29e+04      -3e+04\n",
       "x113        4595.2972   3784.716      1.214      0.225   -2847.021     1.2e+04\n",
       "x114        -3.95e+05   2958.712   -133.508      0.000   -4.01e+05   -3.89e+05\n",
       "x115         435.3560   1489.029      0.292      0.770   -2492.691    3363.403\n",
       "x116        4920.9797   9097.637      0.541      0.589    -1.3e+04    2.28e+04\n",
       "x117       -2.792e+05   2091.444   -133.508      0.000   -2.83e+05   -2.75e+05\n",
       "x118       -1.433e+04   9792.831     -1.463      0.144   -3.36e+04    4926.252\n",
       "x119        -766.2153   7148.981     -0.107      0.915   -1.48e+04    1.33e+04\n",
       "x120        -3.95e+05   2958.712   -133.508      0.000   -4.01e+05   -3.89e+05\n",
       "x121        2843.5693   2821.844      1.008      0.314   -2705.343    8392.482\n",
       "x122       -1.444e+04   1.17e+04     -1.230      0.220   -3.75e+04    8651.333\n",
       "x123        2602.1345   8478.524      0.307      0.759   -1.41e+04    1.93e+04\n",
       "x124         826.3008   3582.944      0.231      0.818   -6219.250    7871.851\n",
       "x125       -4.839e+05   3624.849   -133.508      0.000   -4.91e+05   -4.77e+05\n",
       "x126        1.084e+05   1710.951     63.371      0.000    1.05e+05    1.12e+05\n",
       "x127       -4085.8569   2744.834     -1.489      0.137   -9483.336    1311.623\n",
       "x128        -3.95e+05   2958.712   -133.508      0.000   -4.01e+05   -3.89e+05\n",
       "x129         435.3560   1489.029      0.292      0.770   -2492.691    3363.403\n",
       "x130       -8859.2701   7863.621     -1.127      0.261   -2.43e+04    6603.862\n",
       "x131        -872.8257   2145.436     -0.407      0.684   -5091.641    3345.989\n",
       "x132        1.528e+04   8905.817      1.716      0.087   -2230.294    3.28e+04\n",
       "x133       -4793.4832   6969.945     -0.688      0.492   -1.85e+04    8912.313\n",
       "x134         551.0733   1254.997      0.439      0.661   -1916.770    3018.917\n",
       "x135       -1402.4893   2814.130     -0.498      0.619   -6936.234    4131.255\n",
       "x136        1.328e+04   1.09e+04      1.221      0.223   -8115.960    3.47e+04\n",
       "x137       -3541.8831   7208.040     -0.491      0.623   -1.77e+04    1.06e+04\n",
       "x138       -1785.7299   3712.920     -0.481      0.631   -9086.866    5515.406\n",
       "x139        1.214e+04   1.05e+04      1.160      0.247   -8443.472    3.27e+04\n",
       "x140        1.934e+04   1.12e+04      1.720      0.086   -2773.889    4.15e+04\n",
       "x141        1.156e+04   6255.004      1.848      0.065    -743.488    2.39e+04\n",
       "x142        6584.1779   3123.868      2.108      0.036     441.362    1.27e+04\n",
       "x143        6252.4685   3576.792      1.748      0.081    -780.984    1.33e+04\n",
       "x144        6634.9668   2276.433      2.915      0.004    2158.557    1.11e+04\n",
       "x145         248.2662    627.304      0.396      0.693    -985.272    1481.805\n",
       "x146        -3.95e+05   2958.712   -133.508      0.000   -4.01e+05   -3.89e+05\n",
       "x147         -76.8352   1882.963     -0.041      0.967   -3779.520    3625.849\n",
       "x148       -1111.0423   9706.886     -0.114      0.909   -2.02e+04     1.8e+04\n",
       "x149        2243.4634   2514.140      0.892      0.373   -2700.376    7187.302\n",
       "x150        -931.8871   4971.372     -0.187      0.851   -1.07e+04    8843.888\n",
       "x151         357.2445   1696.801      0.211      0.833   -2979.368    3693.858\n",
       "x152       -1108.8717   8554.488     -0.130      0.897   -1.79e+04    1.57e+04\n",
       "x153        1.289e+04   7514.432      1.716      0.087   -1883.004    2.77e+04\n",
       "x154        4872.4185   2209.803      2.205      0.028     527.033    9217.804\n",
       "x155        1581.4923    714.869      2.212      0.028     175.765    2987.220\n",
       "x156        1383.7309   1966.938      0.703      0.482   -2484.083    5251.545\n",
       "x157         653.3475    937.952      0.697      0.487   -1191.054    2497.750\n",
       "x158         181.6695    988.673      0.184      0.854   -1762.471    2125.810\n",
       "x159        2399.5800   2804.442      0.856      0.393   -3115.114    7914.274\n",
       "x160        -5.59e+05   4186.981   -133.508      0.000   -5.67e+05   -5.51e+05\n",
       "x161        -370.4300   3109.870     -0.119      0.905   -6485.720    5744.860\n",
       "==============================================================================\n",
       "Omnibus:                       46.525   Durbin-Watson:                   1.944\n",
       "Prob(Omnibus):                  0.000   Jarque-Bera (JB):              178.597\n",
       "Skew:                           0.298   Prob(JB):                     1.65e-39\n",
       "Kurtosis:                       5.828   Cond. No.                     4.03e+16\n",
       "==============================================================================\n",
       "\n",
       "Warnings:\n",
       "[1] Standard Errors assume that the covariance matrix of the errors is correctly specified.\n",
       "[2] The smallest eigenvalue is 4.86e-30. This might indicate that there are\n",
       "strong multicollinearity problems or that the design matrix is singular.\n",
       "\"\"\""
      ]
     },
     "execution_count": 28,
     "metadata": {},
     "output_type": "execute_result"
    }
   ],
   "source": [
    "lr_1.summary()"
   ]
  },
  {
   "cell_type": "markdown",
   "metadata": {},
   "source": [
    "### 3.1.2 LASSO Regression"
   ]
  },
  {
   "cell_type": "markdown",
   "metadata": {},
   "source": [
    "- From the Linear Regression, the model was overfitting, and since we have high number of predictors, let's try Lasso for regularization to add penalty term, and help reduce the number of predictors as well.\n",
    "- The Lasso improved the model significantly in terms of performance on unseen data.\n",
    "  - $R{^2}$ of 0.85664 for 5k cross validation.\n",
    "  - $Adjusted-R{^2}$ is closer between the train (0.84727) and validation (0.81405) datasets, giving closer predictions on unseen data. \n",
    "- The slight trade-off here is small increase in bias vs. Linear Regression.\n",
    "\n",
    "*Note: model comparisons & analysis in the end after Elastic Net*\n"
   ]
  },
  {
   "cell_type": "code",
   "execution_count": 29,
   "metadata": {},
   "outputs": [
    {
     "name": "stdout",
     "output_type": "stream",
     "text": [
      "589.8225974396063\n"
     ]
    }
   ],
   "source": [
    "# Find optimal lasso alpha \n",
    "\n",
    "optimal_lasso = LassoCV(n_alphas=500, cv=5) #, verbose=1)    \n",
    "optimal_lasso.fit(X_train_scaled, y_train)\n",
    "print (optimal_lasso.alpha_)"
   ]
  },
  {
   "cell_type": "code",
   "execution_count": 30,
   "metadata": {
    "scrolled": true
   },
   "outputs": [
    {
     "name": "stdout",
     "output_type": "stream",
     "text": [
      "[0.90375964 0.89419522 0.86834805 0.8909903  0.72592168]\n",
      "0.8566429778763833\n"
     ]
    }
   ],
   "source": [
    "# Cross validate Lasso scores with the optimal alpha \n",
    "\n",
    "lasso = Lasso(alpha=optimal_lasso.alpha_)\n",
    "\n",
    "lasso_scores = cross_val_score(lasso, X_train_scaled, y_train, cv=5)\n",
    "\n",
    "print (lasso_scores)\n",
    "print (np.mean(lasso_scores))\n",
    "\n"
   ]
  },
  {
   "cell_type": "code",
   "execution_count": 31,
   "metadata": {},
   "outputs": [
    {
     "data": {
      "text/plain": [
       "Lasso(alpha=589.8225974396063)"
      ]
     },
     "execution_count": 31,
     "metadata": {},
     "output_type": "execute_result"
    }
   ],
   "source": [
    "lasso.fit(X_train, y_train)\n"
   ]
  },
  {
   "cell_type": "code",
   "execution_count": 32,
   "metadata": {},
   "outputs": [],
   "source": [
    "lasso_y_preds_train = lasso.predict(X_train)\n"
   ]
  },
  {
   "cell_type": "code",
   "execution_count": 33,
   "metadata": {},
   "outputs": [],
   "source": [
    "lasso_y_preds_validation = lasso.predict(X_validation)\n"
   ]
  },
  {
   "cell_type": "code",
   "execution_count": 34,
   "metadata": {},
   "outputs": [
    {
     "name": "stdout",
     "output_type": "stream",
     "text": [
      "Model                   =  lasso_1 - train-subset\n",
      "Mean squared error      =  821030001.5139595\n",
      "Root mean squared error =  28653.621089034445\n",
      "Median absolute error   =  13564.806964243602\n",
      "R^2                     =  0.8632849013279\n",
      "Adjusted R^2            =  0.8471539137205584\n"
     ]
    }
   ],
   "source": [
    "evaluate_model('lasso_1','train-subset', y_train, lasso_y_preds_train, X.shape[1])\n"
   ]
  },
  {
   "cell_type": "code",
   "execution_count": 35,
   "metadata": {},
   "outputs": [
    {
     "name": "stdout",
     "output_type": "stream",
     "text": [
      "Model                   =  lasso_1 - validation\n",
      "Mean squared error      =  904960206.3381426\n",
      "Root mean squared error =  30082.556512672632\n",
      "Median absolute error   =  15153.59556903856\n",
      "R^2                     =  0.8725221382991531\n",
      "Adjusted R^2            =  0.8135180994547612\n"
     ]
    }
   ],
   "source": [
    "evaluate_model('lasso_1','validation', y_validation, lasso_y_preds_validation, X.shape[1])\n"
   ]
  },
  {
   "cell_type": "code",
   "execution_count": null,
   "metadata": {},
   "outputs": [],
   "source": []
  },
  {
   "cell_type": "markdown",
   "metadata": {},
   "source": [
    "### 3.1.3 RIDGE Regression"
   ]
  },
  {
   "cell_type": "markdown",
   "metadata": {},
   "source": [
    "- Next, we'll explore Ridge for regularization.  \n",
    "- Ridge also improved the model vs. Linear Regression in terms of performance on unseen data, however Lasso generated slightly better predictions on unseen data based on $Adjusted-R{^2}$ (all are >0.8 for both Ridge & Lasso for train and validation datasets.\n",
    "- The root-mean-squared error is less than that of Lasso for both train (25,382) and validation (29,937).\n",
    "- Similar to Lasso, the slight trade-off here is the increase in bias vs. Linear Regression.\n",
    "\n",
    "*Note: model comparisons & analysis in the end after Elastic Net*\n"
   ]
  },
  {
   "cell_type": "code",
   "execution_count": 36,
   "metadata": {},
   "outputs": [
    {
     "name": "stdout",
     "output_type": "stream",
     "text": [
      "488.02515836544336\n"
     ]
    }
   ],
   "source": [
    "# Find optimal ridge alpha\n",
    "\n",
    "ridge_alphas = np.logspace(0, 5, 200)\n",
    "\n",
    "optimal_ridge = RidgeCV(alphas=ridge_alphas, cv=10)\n",
    "optimal_ridge.fit(X_train_scaled, y_train)\n",
    "\n",
    "print (optimal_ridge.alpha_)"
   ]
  },
  {
   "cell_type": "code",
   "execution_count": 37,
   "metadata": {},
   "outputs": [
    {
     "name": "stdout",
     "output_type": "stream",
     "text": [
      "[0.91039467 0.90011814 0.89074936 0.90168417 0.81702469 0.88016992\n",
      " 0.91160237 0.87734247 0.65322461 0.86031519]\n",
      "0.8602625593258972\n"
     ]
    }
   ],
   "source": [
    "ridge = Ridge(alpha=optimal_ridge.alpha_)\n",
    "\n",
    "ridge_scores = cross_val_score(ridge, X_train_scaled, y_train, cv=10)\n",
    "\n",
    "print (ridge_scores)\n",
    "print (np.mean(ridge_scores))"
   ]
  },
  {
   "cell_type": "code",
   "execution_count": 38,
   "metadata": {},
   "outputs": [
    {
     "data": {
      "text/plain": [
       "Ridge(alpha=488.02515836544336)"
      ]
     },
     "execution_count": 38,
     "metadata": {},
     "output_type": "execute_result"
    }
   ],
   "source": [
    "ridge.fit(X_train_scaled, y_train)"
   ]
  },
  {
   "cell_type": "code",
   "execution_count": 39,
   "metadata": {},
   "outputs": [],
   "source": [
    "ridge_y_preds_train = ridge.predict(X_train_scaled)"
   ]
  },
  {
   "cell_type": "code",
   "execution_count": 40,
   "metadata": {},
   "outputs": [],
   "source": [
    "ridge_y_preds_validation = ridge.predict(X_validation_scaled)"
   ]
  },
  {
   "cell_type": "code",
   "execution_count": 41,
   "metadata": {},
   "outputs": [
    {
     "name": "stdout",
     "output_type": "stream",
     "text": [
      "Model                   =  ridge_1 - train-subset\n",
      "Mean squared error      =  644253322.2934536\n",
      "Root mean squared error =  25382.145738559095\n",
      "Median absolute error   =  11085.608511866332\n",
      "R^2                     =  0.8927211473822372\n",
      "Adjusted R^2            =  0.8800633366582185\n"
     ]
    }
   ],
   "source": [
    "evaluate_model('ridge_1','train-subset', y_train, ridge_y_preds_train, X.shape[1])"
   ]
  },
  {
   "cell_type": "code",
   "execution_count": 42,
   "metadata": {},
   "outputs": [
    {
     "name": "stdout",
     "output_type": "stream",
     "text": [
      "Model                   =  ridge_1 - validation\n",
      "Mean squared error      =  896254862.6039386\n",
      "Root mean squared error =  29937.51597250411\n",
      "Median absolute error   =  14398.896065415058\n",
      "R^2                     =  0.8737484227223077\n",
      "Adjusted R^2            =  0.8153119783823473\n"
     ]
    }
   ],
   "source": [
    "evaluate_model('ridge_1', 'validation', y_validation, ridge_y_preds_validation, X.shape[1])"
   ]
  },
  {
   "cell_type": "markdown",
   "metadata": {},
   "source": [
    "### 3.1.4 ELASTICNET Regression"
   ]
  },
  {
   "cell_type": "markdown",
   "metadata": {},
   "source": [
    "- The optimal values for l1-ratio (based on linspace) is 1, which is the same as Lasso, with the difference being the alpha 501.0169243613495  (vs. 589.8225974396063 from previous Lasso Modelling.\n",
    "- Summary with comparisons of all models will be in the following section.\n"
   ]
  },
  {
   "cell_type": "code",
   "execution_count": 43,
   "metadata": {},
   "outputs": [
    {
     "name": "stdout",
     "output_type": "stream",
     "text": [
      "501.0169243613495\n",
      "1.0\n"
     ]
    }
   ],
   "source": [
    "\n",
    "l1_ratios = np.linspace(0.01, 1.0, 25)\n",
    "\n",
    "optimal_enet = ElasticNetCV(l1_ratio=l1_ratios, n_alphas=100, cv=10) #, verbose=1)   \n",
    "optimal_enet.fit(X_train_scaled, y_train)\n",
    "\n",
    "print (optimal_enet.alpha_)\n",
    "print (optimal_enet.l1_ratio_)"
   ]
  },
  {
   "cell_type": "code",
   "execution_count": 44,
   "metadata": {},
   "outputs": [
    {
     "name": "stdout",
     "output_type": "stream",
     "text": [
      "[0.89500272 0.88818067 0.85833091 0.88095006 0.64617501]\n",
      "0.8337278726635985\n"
     ]
    }
   ],
   "source": [
    "enet = ElasticNet(alpha=optimal_enet.alpha_, l1_ratio=optimal_enet.l1_ratio_)\n",
    "enet.fit(X_train_scaled, y_train)\n",
    "enet_scores = cross_val_score(enet, X_train, y_train, cv=5)\n",
    "\n",
    "print (enet_scores)\n",
    "print (np.mean(enet_scores))"
   ]
  },
  {
   "cell_type": "code",
   "execution_count": 45,
   "metadata": {},
   "outputs": [
    {
     "data": {
      "text/plain": [
       "0.8958503962836211"
      ]
     },
     "execution_count": 45,
     "metadata": {},
     "output_type": "execute_result"
    }
   ],
   "source": [
    "enet.score(X_train_scaled, y_train)"
   ]
  },
  {
   "cell_type": "code",
   "execution_count": 46,
   "metadata": {},
   "outputs": [
    {
     "data": {
      "text/plain": [
       "0.8810774284984569"
      ]
     },
     "execution_count": 46,
     "metadata": {},
     "output_type": "execute_result"
    }
   ],
   "source": [
    "enet.score(X_validation_scaled, y_validation)"
   ]
  },
  {
   "cell_type": "code",
   "execution_count": 47,
   "metadata": {},
   "outputs": [],
   "source": [
    "enet_y_preds_train = enet.predict(X_train_scaled)"
   ]
  },
  {
   "cell_type": "code",
   "execution_count": 48,
   "metadata": {},
   "outputs": [],
   "source": [
    "enet_y_preds_validation = enet.predict(X_validation_scaled)"
   ]
  },
  {
   "cell_type": "code",
   "execution_count": 49,
   "metadata": {},
   "outputs": [
    {
     "name": "stdout",
     "output_type": "stream",
     "text": [
      "Model                   =  enet_1 - train_subset\n",
      "Mean squared error      =  625460904.6658815\n",
      "Root mean squared error =  25009.21639447909\n",
      "Median absolute error   =  11162.133538968134\n",
      "R^2                     =  0.8958503962836211\n",
      "Adjusted R^2            =  0.883561805022111\n"
     ]
    }
   ],
   "source": [
    "evaluate_model('enet_1','train_subset', y_train, enet_y_preds_train, X.shape[1])"
   ]
  },
  {
   "cell_type": "code",
   "execution_count": 50,
   "metadata": {
    "scrolled": true
   },
   "outputs": [
    {
     "name": "stdout",
     "output_type": "stream",
     "text": [
      "Model                   =  enet_1 - validation\n",
      "Mean squared error      =  844226545.7578189\n",
      "Root mean squared error =  29055.576844348125\n",
      "Median absolute error   =  15035.79969569936\n",
      "R^2                     =  0.8810774284984569\n",
      "Adjusted R^2            =  0.8260332668320285\n"
     ]
    }
   ],
   "source": [
    "evaluate_model('enet_1','validation',y_validation, enet_y_preds_validation, X.shape[1])"
   ]
  },
  {
   "cell_type": "markdown",
   "metadata": {},
   "source": [
    "### Round 1 : Modelling Results\n",
    "\n"
   ]
  },
  {
   "cell_type": "markdown",
   "metadata": {},
   "source": [
    "- <span style='color:darkblue'>**Linear Regression**</span> has the best score on train-subset (RMSE 24,012, Adjusted R2 0.89), however significantly **overfitting**, hence does not generalise well on the validation data with huge RMSE and negative Adjusted R2.  Negative R2 also shows that the model performed worse than the baseline (using the mean of `saleprice` for predictions.\n",
    "\n",
    "\n",
    "- <span style='color:darkblue'>**Lasso, Ridge, and ElasticNet**</span> performed similarly, with more consistent Adjusted R2 and RMSE between the train-subset and validation.  \n",
    "  - Adjusted R2's are >0.8 meaning that the majority of the variances are explained by the model, and is better than the baseline of 0 (using the mean of the `saleprice` to predict).  \n",
    "  - Root Mean Squared Error, measures the errors.  The Linear Regression has the lowest error on the train-subset (as it is overfitting), the other models generate errors between 25,009 - 30,083.  \n",
    "  - Although Ridge and ElasticNet performed better on the train-subset:  less error (RMSE) and higher accuracy (R2), but overall **Lasso is better at generalising and hence performed better on unseen data** (less variation between the train-subset and validation on both the errors (RMSE 30,082-28,653 = 1429), and accuracy (R2 0.847-0.814)\n",
    "  \n",
    "\n",
    "- <span style='color:firebrick'>**Next Steps:**</span>\n",
    "  - We will futher use Lasso in **Round 2 Modelling** to further reduce features.\n",
    "\n"
   ]
  },
  {
   "cell_type": "code",
   "execution_count": 51,
   "metadata": {},
   "outputs": [
    {
     "data": {
      "text/html": [
       "<div>\n",
       "<style scoped>\n",
       "    .dataframe tbody tr th:only-of-type {\n",
       "        vertical-align: middle;\n",
       "    }\n",
       "\n",
       "    .dataframe tbody tr th {\n",
       "        vertical-align: top;\n",
       "    }\n",
       "\n",
       "    .dataframe thead th {\n",
       "        text-align: right;\n",
       "    }\n",
       "</style>\n",
       "<table border=\"1\" class=\"dataframe\">\n",
       "  <thead>\n",
       "    <tr style=\"text-align: right;\">\n",
       "      <th></th>\n",
       "      <th>model</th>\n",
       "      <th>dataset</th>\n",
       "      <th>mean_sq_error</th>\n",
       "      <th>rt_mean_sq_error</th>\n",
       "      <th>mean_abs_error</th>\n",
       "      <th>r2</th>\n",
       "      <th>r2_adj</th>\n",
       "    </tr>\n",
       "  </thead>\n",
       "  <tbody>\n",
       "    <tr>\n",
       "      <th>0</th>\n",
       "      <td>linear_1</td>\n",
       "      <td>train-subset</td>\n",
       "      <td>576586451.12740</td>\n",
       "      <td>24012.21462</td>\n",
       "      <td>11634.99343</td>\n",
       "      <td>0.90399</td>\n",
       "      <td>0.89274</td>\n",
       "    </tr>\n",
       "    <tr>\n",
       "      <th>1</th>\n",
       "      <td>linear_1</td>\n",
       "      <td>validation</td>\n",
       "      <td>1036837547288192206378106880.00000</td>\n",
       "      <td>32199961914390.39844</td>\n",
       "      <td>15423.94337</td>\n",
       "      <td>-146054856924904480.00000</td>\n",
       "      <td>-213048680186755232.00000</td>\n",
       "    </tr>\n",
       "    <tr>\n",
       "      <th>2</th>\n",
       "      <td>lasso_1</td>\n",
       "      <td>train-subset</td>\n",
       "      <td>821030001.51396</td>\n",
       "      <td>28653.62109</td>\n",
       "      <td>13564.80696</td>\n",
       "      <td>0.86328</td>\n",
       "      <td>0.84715</td>\n",
       "    </tr>\n",
       "    <tr>\n",
       "      <th>3</th>\n",
       "      <td>lasso_1</td>\n",
       "      <td>validation</td>\n",
       "      <td>904960206.33814</td>\n",
       "      <td>30082.55651</td>\n",
       "      <td>15153.59557</td>\n",
       "      <td>0.87252</td>\n",
       "      <td>0.81352</td>\n",
       "    </tr>\n",
       "    <tr>\n",
       "      <th>4</th>\n",
       "      <td>ridge_1</td>\n",
       "      <td>train-subset</td>\n",
       "      <td>644253322.29345</td>\n",
       "      <td>25382.14574</td>\n",
       "      <td>11085.60851</td>\n",
       "      <td>0.89272</td>\n",
       "      <td>0.88006</td>\n",
       "    </tr>\n",
       "    <tr>\n",
       "      <th>5</th>\n",
       "      <td>ridge_1</td>\n",
       "      <td>validation</td>\n",
       "      <td>896254862.60394</td>\n",
       "      <td>29937.51597</td>\n",
       "      <td>14398.89607</td>\n",
       "      <td>0.87375</td>\n",
       "      <td>0.81531</td>\n",
       "    </tr>\n",
       "    <tr>\n",
       "      <th>6</th>\n",
       "      <td>enet_1</td>\n",
       "      <td>train_subset</td>\n",
       "      <td>625460904.66588</td>\n",
       "      <td>25009.21639</td>\n",
       "      <td>11162.13354</td>\n",
       "      <td>0.89585</td>\n",
       "      <td>0.88356</td>\n",
       "    </tr>\n",
       "    <tr>\n",
       "      <th>7</th>\n",
       "      <td>enet_1</td>\n",
       "      <td>validation</td>\n",
       "      <td>844226545.75782</td>\n",
       "      <td>29055.57684</td>\n",
       "      <td>15035.79970</td>\n",
       "      <td>0.88108</td>\n",
       "      <td>0.82603</td>\n",
       "    </tr>\n",
       "  </tbody>\n",
       "</table>\n",
       "</div>"
      ],
      "text/plain": [
       "      model       dataset                      mean_sq_error  \\\n",
       "0  linear_1  train-subset                    576586451.12740   \n",
       "1  linear_1    validation 1036837547288192206378106880.00000   \n",
       "2   lasso_1  train-subset                    821030001.51396   \n",
       "3   lasso_1    validation                    904960206.33814   \n",
       "4   ridge_1  train-subset                    644253322.29345   \n",
       "5   ridge_1    validation                    896254862.60394   \n",
       "6    enet_1  train_subset                    625460904.66588   \n",
       "7    enet_1    validation                    844226545.75782   \n",
       "\n",
       "      rt_mean_sq_error  mean_abs_error                        r2  \\\n",
       "0          24012.21462     11634.99343                   0.90399   \n",
       "1 32199961914390.39844     15423.94337 -146054856924904480.00000   \n",
       "2          28653.62109     13564.80696                   0.86328   \n",
       "3          30082.55651     15153.59557                   0.87252   \n",
       "4          25382.14574     11085.60851                   0.89272   \n",
       "5          29937.51597     14398.89607                   0.87375   \n",
       "6          25009.21639     11162.13354                   0.89585   \n",
       "7          29055.57684     15035.79970                   0.88108   \n",
       "\n",
       "                     r2_adj  \n",
       "0                   0.89274  \n",
       "1 -213048680186755232.00000  \n",
       "2                   0.84715  \n",
       "3                   0.81352  \n",
       "4                   0.88006  \n",
       "5                   0.81531  \n",
       "6                   0.88356  \n",
       "7                   0.82603  "
      ]
     },
     "execution_count": 51,
     "metadata": {},
     "output_type": "execute_result"
    }
   ],
   "source": [
    "summary_model_evaluations = pd.DataFrame(model_evaluations)\n",
    "round(summary_model_evaluations,5)"
   ]
  },
  {
   "cell_type": "markdown",
   "metadata": {},
   "source": [
    "## <span style='color:teal'>Round 2:  Lasso modelling & feature selection</span>"
   ]
  },
  {
   "cell_type": "markdown",
   "metadata": {},
   "source": [
    "From the selected Lasso model from round 1 (alpha=589.8225974396063), let's look at the coefficients"
   ]
  },
  {
   "cell_type": "code",
   "execution_count": 52,
   "metadata": {
    "scrolled": true
   },
   "outputs": [
    {
     "data": {
      "text/html": [
       "<div>\n",
       "<style scoped>\n",
       "    .dataframe tbody tr th:only-of-type {\n",
       "        vertical-align: middle;\n",
       "    }\n",
       "\n",
       "    .dataframe tbody tr th {\n",
       "        vertical-align: top;\n",
       "    }\n",
       "\n",
       "    .dataframe thead th {\n",
       "        text-align: right;\n",
       "    }\n",
       "</style>\n",
       "<table border=\"1\" class=\"dataframe\">\n",
       "  <thead>\n",
       "    <tr style=\"text-align: right;\">\n",
       "      <th></th>\n",
       "      <th>variable</th>\n",
       "      <th>coef</th>\n",
       "      <th>abs_coef</th>\n",
       "    </tr>\n",
       "  </thead>\n",
       "  <tbody>\n",
       "    <tr>\n",
       "      <th>77</th>\n",
       "      <td>neighborhood_NridgHt</td>\n",
       "      <td>16637.10057</td>\n",
       "      <td>16637.10057</td>\n",
       "    </tr>\n",
       "    <tr>\n",
       "      <th>3</th>\n",
       "      <td>overall_qual</td>\n",
       "      <td>10943.68507</td>\n",
       "      <td>10943.68507</td>\n",
       "    </tr>\n",
       "    <tr>\n",
       "      <th>83</th>\n",
       "      <td>neighborhood_StoneBr</td>\n",
       "      <td>9867.93726</td>\n",
       "      <td>9867.93726</td>\n",
       "    </tr>\n",
       "    <tr>\n",
       "      <th>5</th>\n",
       "      <td>exter_qual</td>\n",
       "      <td>9599.93785</td>\n",
       "      <td>9599.93785</td>\n",
       "    </tr>\n",
       "    <tr>\n",
       "      <th>16</th>\n",
       "      <td>kitchen_qual</td>\n",
       "      <td>9069.24781</td>\n",
       "      <td>9069.24781</td>\n",
       "    </tr>\n",
       "  </tbody>\n",
       "</table>\n",
       "</div>"
      ],
      "text/plain": [
       "                variable        coef    abs_coef\n",
       "77  neighborhood_NridgHt 16637.10057 16637.10057\n",
       "3           overall_qual 10943.68507 10943.68507\n",
       "83  neighborhood_StoneBr  9867.93726  9867.93726\n",
       "5             exter_qual  9599.93785  9599.93785\n",
       "16          kitchen_qual  9069.24781  9069.24781"
      ]
     },
     "execution_count": 52,
     "metadata": {},
     "output_type": "execute_result"
    }
   ],
   "source": [
    "# Summarize all the lasso_coefficients into a Data Frame\n",
    "\n",
    "lasso_coefs = pd.DataFrame({'variable':X_train.columns,\n",
    "                            'coef':lasso.coef_,\n",
    "                            'abs_coef':np.abs(lasso.coef_)})\n",
    "\n",
    "lasso_coefs.sort_values('abs_coef', inplace=True, ascending=False)\n",
    "\n",
    "lasso_coefs.head()\n"
   ]
  },
  {
   "cell_type": "markdown",
   "metadata": {},
   "source": [
    "### Analysis of coefficients from Lasso Model\n",
    "\n",
    "\n",
    "**1. Features \"zeroed out\" = 126**"
   ]
  },
  {
   "cell_type": "code",
   "execution_count": 53,
   "metadata": {
    "scrolled": false
   },
   "outputs": [
    {
     "data": {
      "text/html": [
       "<div>\n",
       "<style scoped>\n",
       "    .dataframe tbody tr th:only-of-type {\n",
       "        vertical-align: middle;\n",
       "    }\n",
       "\n",
       "    .dataframe tbody tr th {\n",
       "        vertical-align: top;\n",
       "    }\n",
       "\n",
       "    .dataframe thead th {\n",
       "        text-align: right;\n",
       "    }\n",
       "</style>\n",
       "<table border=\"1\" class=\"dataframe\">\n",
       "  <thead>\n",
       "    <tr style=\"text-align: right;\">\n",
       "      <th></th>\n",
       "      <th>variable</th>\n",
       "      <th>coef</th>\n",
       "      <th>abs_coef</th>\n",
       "    </tr>\n",
       "  </thead>\n",
       "  <tbody>\n",
       "    <tr>\n",
       "      <th>105</th>\n",
       "      <td>roof_style_Gable</td>\n",
       "      <td>-0.00000</td>\n",
       "      <td>0.00000</td>\n",
       "    </tr>\n",
       "    <tr>\n",
       "      <th>114</th>\n",
       "      <td>exterior_1st_CemntBd</td>\n",
       "      <td>0.00000</td>\n",
       "      <td>0.00000</td>\n",
       "    </tr>\n",
       "    <tr>\n",
       "      <th>122</th>\n",
       "      <td>exterior_1st_Wd Sdng</td>\n",
       "      <td>-0.00000</td>\n",
       "      <td>0.00000</td>\n",
       "    </tr>\n",
       "    <tr>\n",
       "      <th>121</th>\n",
       "      <td>exterior_1st_VinylSd</td>\n",
       "      <td>0.00000</td>\n",
       "      <td>0.00000</td>\n",
       "    </tr>\n",
       "    <tr>\n",
       "      <th>120</th>\n",
       "      <td>exterior_1st_Stucco</td>\n",
       "      <td>-0.00000</td>\n",
       "      <td>0.00000</td>\n",
       "    </tr>\n",
       "    <tr>\n",
       "      <th>...</th>\n",
       "      <td>...</td>\n",
       "      <td>...</td>\n",
       "      <td>...</td>\n",
       "    </tr>\n",
       "    <tr>\n",
       "      <th>63</th>\n",
       "      <td>neighborhood_CollgCr</td>\n",
       "      <td>-0.00000</td>\n",
       "      <td>0.00000</td>\n",
       "    </tr>\n",
       "    <tr>\n",
       "      <th>62</th>\n",
       "      <td>neighborhood_ClearCr</td>\n",
       "      <td>0.00000</td>\n",
       "      <td>0.00000</td>\n",
       "    </tr>\n",
       "    <tr>\n",
       "      <th>61</th>\n",
       "      <td>neighborhood_BrkSide</td>\n",
       "      <td>0.00000</td>\n",
       "      <td>0.00000</td>\n",
       "    </tr>\n",
       "    <tr>\n",
       "      <th>60</th>\n",
       "      <td>neighborhood_BrDale</td>\n",
       "      <td>-0.00000</td>\n",
       "      <td>0.00000</td>\n",
       "    </tr>\n",
       "    <tr>\n",
       "      <th>160</th>\n",
       "      <td>sale_type_WD</td>\n",
       "      <td>-0.00000</td>\n",
       "      <td>0.00000</td>\n",
       "    </tr>\n",
       "  </tbody>\n",
       "</table>\n",
       "<p>126 rows × 3 columns</p>\n",
       "</div>"
      ],
      "text/plain": [
       "                 variable     coef  abs_coef\n",
       "105      roof_style_Gable -0.00000   0.00000\n",
       "114  exterior_1st_CemntBd  0.00000   0.00000\n",
       "122  exterior_1st_Wd Sdng -0.00000   0.00000\n",
       "121  exterior_1st_VinylSd  0.00000   0.00000\n",
       "120   exterior_1st_Stucco -0.00000   0.00000\n",
       "..                    ...      ...       ...\n",
       "63   neighborhood_CollgCr -0.00000   0.00000\n",
       "62   neighborhood_ClearCr  0.00000   0.00000\n",
       "61   neighborhood_BrkSide  0.00000   0.00000\n",
       "60    neighborhood_BrDale -0.00000   0.00000\n",
       "160         sale_type_WD  -0.00000   0.00000\n",
       "\n",
       "[126 rows x 3 columns]"
      ]
     },
     "execution_count": 53,
     "metadata": {},
     "output_type": "execute_result"
    }
   ],
   "source": [
    "# There are 126 features that has been zeroed out from our initial Lasso model!!\n",
    "\n",
    "lasso_coefs[(lasso_coefs.abs_coef == 0)]"
   ]
  },
  {
   "cell_type": "code",
   "execution_count": 54,
   "metadata": {},
   "outputs": [],
   "source": [
    "# save list of cols_to_drop to apply to train & test datasets.\n",
    "\n",
    "cols_to_drop = lasso_coefs[(lasso_coefs.abs_coef == 0)]['variable'].values.tolist()"
   ]
  },
  {
   "cell_type": "code",
   "execution_count": 55,
   "metadata": {},
   "outputs": [
    {
     "data": {
      "text/plain": [
       "(35, 3)"
      ]
     },
     "execution_count": 55,
     "metadata": {},
     "output_type": "execute_result"
    }
   ],
   "source": [
    "# drop the zero coefs from the lasso_coefs list\n",
    "\n",
    "drop_index = lasso_coefs[(lasso_coefs.abs_coef == 0)].index\n",
    "lasso_coefs.drop(index=drop_index, inplace=True)\n",
    "lasso_coefs.shape"
   ]
  },
  {
   "cell_type": "markdown",
   "metadata": {},
   "source": [
    "**2. Remaining features = 34** \n",
    "\n",
    "- <span style='color:mediumblue'>**Remodelling 1: All remaining 34 features**</span>\n",
    "- Total of 35, but we will exclude 'id' from the modelling.  This is for identification only, and to keep consistent with test (which we will need 'id' for submission). "
   ]
  },
  {
   "cell_type": "code",
   "execution_count": 56,
   "metadata": {},
   "outputs": [
    {
     "data": {
      "text/plain": [
       "variable    35\n",
       "coef        35\n",
       "abs_coef    35\n",
       "dtype: int64"
      ]
     },
     "execution_count": 56,
     "metadata": {},
     "output_type": "execute_result"
    }
   ],
   "source": [
    "lasso_coefs[~(lasso_coefs.abs_coef == 0)].count()"
   ]
  },
  {
   "cell_type": "code",
   "execution_count": 57,
   "metadata": {},
   "outputs": [
    {
     "data": {
      "text/html": [
       "<div>\n",
       "<style scoped>\n",
       "    .dataframe tbody tr th:only-of-type {\n",
       "        vertical-align: middle;\n",
       "    }\n",
       "\n",
       "    .dataframe tbody tr th {\n",
       "        vertical-align: top;\n",
       "    }\n",
       "\n",
       "    .dataframe thead th {\n",
       "        text-align: right;\n",
       "    }\n",
       "</style>\n",
       "<table border=\"1\" class=\"dataframe\">\n",
       "  <thead>\n",
       "    <tr style=\"text-align: right;\">\n",
       "      <th></th>\n",
       "      <th>variable</th>\n",
       "      <th>coef</th>\n",
       "      <th>abs_coef</th>\n",
       "    </tr>\n",
       "  </thead>\n",
       "  <tbody>\n",
       "    <tr>\n",
       "      <th>77</th>\n",
       "      <td>neighborhood_NridgHt</td>\n",
       "      <td>16637.10057</td>\n",
       "      <td>16637.10057</td>\n",
       "    </tr>\n",
       "    <tr>\n",
       "      <th>3</th>\n",
       "      <td>overall_qual</td>\n",
       "      <td>10943.68507</td>\n",
       "      <td>10943.68507</td>\n",
       "    </tr>\n",
       "  </tbody>\n",
       "</table>\n",
       "</div>"
      ],
      "text/plain": [
       "                variable        coef    abs_coef\n",
       "77  neighborhood_NridgHt 16637.10057 16637.10057\n",
       "3           overall_qual 10943.68507 10943.68507"
      ]
     },
     "execution_count": 57,
     "metadata": {},
     "output_type": "execute_result"
    }
   ],
   "source": [
    "lasso_coefs[~(lasso_coefs.abs_coef == 0)].head(2)"
   ]
  },
  {
   "cell_type": "code",
   "execution_count": 58,
   "metadata": {
    "scrolled": false
   },
   "outputs": [
    {
     "data": {
      "text/html": [
       "<div>\n",
       "<style scoped>\n",
       "    .dataframe tbody tr th:only-of-type {\n",
       "        vertical-align: middle;\n",
       "    }\n",
       "\n",
       "    .dataframe tbody tr th {\n",
       "        vertical-align: top;\n",
       "    }\n",
       "\n",
       "    .dataframe thead th {\n",
       "        text-align: right;\n",
       "    }\n",
       "</style>\n",
       "<table border=\"1\" class=\"dataframe\">\n",
       "  <thead>\n",
       "    <tr style=\"text-align: right;\">\n",
       "      <th></th>\n",
       "      <th>variable</th>\n",
       "      <th>coef</th>\n",
       "      <th>abs_coef</th>\n",
       "    </tr>\n",
       "  </thead>\n",
       "  <tbody>\n",
       "    <tr>\n",
       "      <th>1</th>\n",
       "      <td>lot_area</td>\n",
       "      <td>0.52950</td>\n",
       "      <td>0.52950</td>\n",
       "    </tr>\n",
       "    <tr>\n",
       "      <th>0</th>\n",
       "      <td>id</td>\n",
       "      <td>-0.44416</td>\n",
       "      <td>0.44416</td>\n",
       "    </tr>\n",
       "  </tbody>\n",
       "</table>\n",
       "</div>"
      ],
      "text/plain": [
       "   variable     coef  abs_coef\n",
       "1  lot_area  0.52950   0.52950\n",
       "0        id -0.44416   0.44416"
      ]
     },
     "execution_count": 58,
     "metadata": {},
     "output_type": "execute_result"
    }
   ],
   "source": [
    "lasso_coefs[~(lasso_coefs.abs_coef == 0)].tail(2)"
   ]
  },
  {
   "cell_type": "code",
   "execution_count": 59,
   "metadata": {},
   "outputs": [
    {
     "data": {
      "text/html": [
       "<div>\n",
       "<style scoped>\n",
       "    .dataframe tbody tr th:only-of-type {\n",
       "        vertical-align: middle;\n",
       "    }\n",
       "\n",
       "    .dataframe tbody tr th {\n",
       "        vertical-align: top;\n",
       "    }\n",
       "\n",
       "    .dataframe thead th {\n",
       "        text-align: right;\n",
       "    }\n",
       "</style>\n",
       "<table border=\"1\" class=\"dataframe\">\n",
       "  <thead>\n",
       "    <tr style=\"text-align: right;\">\n",
       "      <th></th>\n",
       "      <th>variable</th>\n",
       "      <th>coef</th>\n",
       "      <th>abs_coef</th>\n",
       "    </tr>\n",
       "  </thead>\n",
       "  <tbody>\n",
       "    <tr>\n",
       "      <th>77</th>\n",
       "      <td>neighborhood_NridgHt</td>\n",
       "      <td>16637.10057</td>\n",
       "      <td>16637.10057</td>\n",
       "    </tr>\n",
       "    <tr>\n",
       "      <th>3</th>\n",
       "      <td>overall_qual</td>\n",
       "      <td>10943.68507</td>\n",
       "      <td>10943.68507</td>\n",
       "    </tr>\n",
       "    <tr>\n",
       "      <th>83</th>\n",
       "      <td>neighborhood_StoneBr</td>\n",
       "      <td>9867.93726</td>\n",
       "      <td>9867.93726</td>\n",
       "    </tr>\n",
       "    <tr>\n",
       "      <th>5</th>\n",
       "      <td>exter_qual</td>\n",
       "      <td>9599.93785</td>\n",
       "      <td>9599.93785</td>\n",
       "    </tr>\n",
       "    <tr>\n",
       "      <th>16</th>\n",
       "      <td>kitchen_qual</td>\n",
       "      <td>9069.24781</td>\n",
       "      <td>9069.24781</td>\n",
       "    </tr>\n",
       "    <tr>\n",
       "      <th>35</th>\n",
       "      <td>ms_subclass_20</td>\n",
       "      <td>8929.19857</td>\n",
       "      <td>8929.19857</td>\n",
       "    </tr>\n",
       "    <tr>\n",
       "      <th>158</th>\n",
       "      <td>sale_type_New</td>\n",
       "      <td>8447.37885</td>\n",
       "      <td>8447.37885</td>\n",
       "    </tr>\n",
       "    <tr>\n",
       "      <th>52</th>\n",
       "      <td>land_contour_HLS</td>\n",
       "      <td>7199.61403</td>\n",
       "      <td>7199.61403</td>\n",
       "    </tr>\n",
       "    <tr>\n",
       "      <th>107</th>\n",
       "      <td>roof_style_Hip</td>\n",
       "      <td>6770.64804</td>\n",
       "      <td>6770.64804</td>\n",
       "    </tr>\n",
       "    <tr>\n",
       "      <th>8</th>\n",
       "      <td>bsmt_exposure</td>\n",
       "      <td>5716.47633</td>\n",
       "      <td>5716.47633</td>\n",
       "    </tr>\n",
       "    <tr>\n",
       "      <th>138</th>\n",
       "      <td>mas_vnr_type_BrkFace</td>\n",
       "      <td>-4321.46895</td>\n",
       "      <td>4321.46895</td>\n",
       "    </tr>\n",
       "    <tr>\n",
       "      <th>30</th>\n",
       "      <td>bathrooms</td>\n",
       "      <td>3846.34461</td>\n",
       "      <td>3846.34461</td>\n",
       "    </tr>\n",
       "    <tr>\n",
       "      <th>19</th>\n",
       "      <td>fireplace_qu</td>\n",
       "      <td>3308.74281</td>\n",
       "      <td>3308.74281</td>\n",
       "    </tr>\n",
       "    <tr>\n",
       "      <th>9</th>\n",
       "      <td>bsmtfin_type_1</td>\n",
       "      <td>2658.42724</td>\n",
       "      <td>2658.42724</td>\n",
       "    </tr>\n",
       "    <tr>\n",
       "      <th>11</th>\n",
       "      <td>heating_qc</td>\n",
       "      <td>2308.07853</td>\n",
       "      <td>2308.07853</td>\n",
       "    </tr>\n",
       "    <tr>\n",
       "      <th>87</th>\n",
       "      <td>condition_1_Norm</td>\n",
       "      <td>2141.05079</td>\n",
       "      <td>2141.05079</td>\n",
       "    </tr>\n",
       "    <tr>\n",
       "      <th>17</th>\n",
       "      <td>total_rooms_xbath</td>\n",
       "      <td>1636.30520</td>\n",
       "      <td>1636.30520</td>\n",
       "    </tr>\n",
       "    <tr>\n",
       "      <th>139</th>\n",
       "      <td>mas_vnr_type_None</td>\n",
       "      <td>1321.40778</td>\n",
       "      <td>1321.40778</td>\n",
       "    </tr>\n",
       "    <tr>\n",
       "      <th>97</th>\n",
       "      <td>bldg_type_TwnhsE</td>\n",
       "      <td>-1253.70754</td>\n",
       "      <td>1253.70754</td>\n",
       "    </tr>\n",
       "    <tr>\n",
       "      <th>102</th>\n",
       "      <td>house_style_2Story</td>\n",
       "      <td>-1010.90435</td>\n",
       "      <td>1010.90435</td>\n",
       "    </tr>\n",
       "    <tr>\n",
       "      <th>6</th>\n",
       "      <td>bsmt_qual</td>\n",
       "      <td>821.31895</td>\n",
       "      <td>821.31895</td>\n",
       "    </tr>\n",
       "    <tr>\n",
       "      <th>50</th>\n",
       "      <td>ms_zoning_RL</td>\n",
       "      <td>461.83672</td>\n",
       "      <td>461.83672</td>\n",
       "    </tr>\n",
       "    <tr>\n",
       "      <th>28</th>\n",
       "      <td>remod_age</td>\n",
       "      <td>-175.20754</td>\n",
       "      <td>175.20754</td>\n",
       "    </tr>\n",
       "    <tr>\n",
       "      <th>27</th>\n",
       "      <td>house_age</td>\n",
       "      <td>-169.32439</td>\n",
       "      <td>169.32439</td>\n",
       "    </tr>\n",
       "    <tr>\n",
       "      <th>20</th>\n",
       "      <td>garage_finish</td>\n",
       "      <td>74.27049</td>\n",
       "      <td>74.27049</td>\n",
       "    </tr>\n",
       "    <tr>\n",
       "      <th>4</th>\n",
       "      <td>mas_vnr_area</td>\n",
       "      <td>35.44357</td>\n",
       "      <td>35.44357</td>\n",
       "    </tr>\n",
       "    <tr>\n",
       "      <th>22</th>\n",
       "      <td>garage_area</td>\n",
       "      <td>27.13550</td>\n",
       "      <td>27.13550</td>\n",
       "    </tr>\n",
       "    <tr>\n",
       "      <th>13</th>\n",
       "      <td>first_flr_sf</td>\n",
       "      <td>24.53809</td>\n",
       "      <td>24.53809</td>\n",
       "    </tr>\n",
       "    <tr>\n",
       "      <th>26</th>\n",
       "      <td>deck_porch_sf</td>\n",
       "      <td>22.55148</td>\n",
       "      <td>22.55148</td>\n",
       "    </tr>\n",
       "    <tr>\n",
       "      <th>15</th>\n",
       "      <td>gr_liv_area</td>\n",
       "      <td>21.31629</td>\n",
       "      <td>21.31629</td>\n",
       "    </tr>\n",
       "    <tr>\n",
       "      <th>14</th>\n",
       "      <td>second_flr_sf</td>\n",
       "      <td>19.33899</td>\n",
       "      <td>19.33899</td>\n",
       "    </tr>\n",
       "    <tr>\n",
       "      <th>10</th>\n",
       "      <td>total_bsmt_sf</td>\n",
       "      <td>3.75230</td>\n",
       "      <td>3.75230</td>\n",
       "    </tr>\n",
       "    <tr>\n",
       "      <th>29</th>\n",
       "      <td>ages_interaction</td>\n",
       "      <td>0.94723</td>\n",
       "      <td>0.94723</td>\n",
       "    </tr>\n",
       "    <tr>\n",
       "      <th>1</th>\n",
       "      <td>lot_area</td>\n",
       "      <td>0.52950</td>\n",
       "      <td>0.52950</td>\n",
       "    </tr>\n",
       "    <tr>\n",
       "      <th>0</th>\n",
       "      <td>id</td>\n",
       "      <td>-0.44416</td>\n",
       "      <td>0.44416</td>\n",
       "    </tr>\n",
       "  </tbody>\n",
       "</table>\n",
       "</div>"
      ],
      "text/plain": [
       "                 variable        coef    abs_coef\n",
       "77   neighborhood_NridgHt 16637.10057 16637.10057\n",
       "3            overall_qual 10943.68507 10943.68507\n",
       "83   neighborhood_StoneBr  9867.93726  9867.93726\n",
       "5              exter_qual  9599.93785  9599.93785\n",
       "16           kitchen_qual  9069.24781  9069.24781\n",
       "35         ms_subclass_20  8929.19857  8929.19857\n",
       "158         sale_type_New  8447.37885  8447.37885\n",
       "52       land_contour_HLS  7199.61403  7199.61403\n",
       "107        roof_style_Hip  6770.64804  6770.64804\n",
       "8           bsmt_exposure  5716.47633  5716.47633\n",
       "138  mas_vnr_type_BrkFace -4321.46895  4321.46895\n",
       "30              bathrooms  3846.34461  3846.34461\n",
       "19           fireplace_qu  3308.74281  3308.74281\n",
       "9          bsmtfin_type_1  2658.42724  2658.42724\n",
       "11             heating_qc  2308.07853  2308.07853\n",
       "87       condition_1_Norm  2141.05079  2141.05079\n",
       "17      total_rooms_xbath  1636.30520  1636.30520\n",
       "139     mas_vnr_type_None  1321.40778  1321.40778\n",
       "97       bldg_type_TwnhsE -1253.70754  1253.70754\n",
       "102    house_style_2Story -1010.90435  1010.90435\n",
       "6               bsmt_qual   821.31895   821.31895\n",
       "50           ms_zoning_RL   461.83672   461.83672\n",
       "28              remod_age  -175.20754   175.20754\n",
       "27              house_age  -169.32439   169.32439\n",
       "20          garage_finish    74.27049    74.27049\n",
       "4            mas_vnr_area    35.44357    35.44357\n",
       "22            garage_area    27.13550    27.13550\n",
       "13           first_flr_sf    24.53809    24.53809\n",
       "26          deck_porch_sf    22.55148    22.55148\n",
       "15            gr_liv_area    21.31629    21.31629\n",
       "14          second_flr_sf    19.33899    19.33899\n",
       "10          total_bsmt_sf     3.75230     3.75230\n",
       "29       ages_interaction     0.94723     0.94723\n",
       "1                lot_area     0.52950     0.52950\n",
       "0                      id    -0.44416     0.44416"
      ]
     },
     "execution_count": 59,
     "metadata": {},
     "output_type": "execute_result"
    }
   ],
   "source": [
    "lasso_coefs.loc[~(lasso_coefs.abs_coef == 0)]  #,['variable']].values.tolist()"
   ]
  },
  {
   "cell_type": "code",
   "execution_count": 60,
   "metadata": {},
   "outputs": [
    {
     "data": {
      "text/plain": [
       "34"
      ]
     },
     "execution_count": 60,
     "metadata": {},
     "output_type": "execute_result"
    }
   ],
   "source": [
    "remod1_features = lasso_coefs[~(lasso_coefs.abs_coef == 0)]['variable'].values.tolist()\n",
    "remod1_features.remove('id')\n",
    "len(remod1_features)"
   ]
  },
  {
   "cell_type": "markdown",
   "metadata": {},
   "source": [
    "**Analysis of the \"non-zero\" Lasso coefficients:**\n",
    "\n",
    "- <span style='color:mediumblue'>**Remodelling 2: There are 26 Features with absolute coefficient that are above 25% quantile**</span>\n",
    "- **Histograms** below showed the distributions of the coefficients and absolute coefficients showed majority of the coefficients in low values (around 0), and a long tail to the right indiciating few 'high-value' coefficients.\n",
    "- We will focus on the **absolute coefficients** since we want to include predictors with both positive and negative correlation to `'saleprice'`.  There are **26 Features** if we exclude the lowest 25% quantile.\n"
   ]
  },
  {
   "cell_type": "code",
   "execution_count": 61,
   "metadata": {},
   "outputs": [
    {
     "data": {
      "text/html": [
       "<div>\n",
       "<style scoped>\n",
       "    .dataframe tbody tr th:only-of-type {\n",
       "        vertical-align: middle;\n",
       "    }\n",
       "\n",
       "    .dataframe tbody tr th {\n",
       "        vertical-align: top;\n",
       "    }\n",
       "\n",
       "    .dataframe thead th {\n",
       "        text-align: right;\n",
       "    }\n",
       "</style>\n",
       "<table border=\"1\" class=\"dataframe\">\n",
       "  <thead>\n",
       "    <tr style=\"text-align: right;\">\n",
       "      <th></th>\n",
       "      <th>coef</th>\n",
       "      <th>abs_coef</th>\n",
       "    </tr>\n",
       "  </thead>\n",
       "  <tbody>\n",
       "    <tr>\n",
       "      <th>count</th>\n",
       "      <td>35.00000</td>\n",
       "      <td>35.00000</td>\n",
       "    </tr>\n",
       "    <tr>\n",
       "      <th>mean</th>\n",
       "      <td>2999.52867</td>\n",
       "      <td>3395.58907</td>\n",
       "    </tr>\n",
       "    <tr>\n",
       "      <th>std</th>\n",
       "      <td>4551.19702</td>\n",
       "      <td>4255.11995</td>\n",
       "    </tr>\n",
       "    <tr>\n",
       "      <th>min</th>\n",
       "      <td>-4321.46895</td>\n",
       "      <td>0.44416</td>\n",
       "    </tr>\n",
       "    <tr>\n",
       "      <th>25%</th>\n",
       "      <td>11.54565</td>\n",
       "      <td>31.28953</td>\n",
       "    </tr>\n",
       "    <tr>\n",
       "      <th>50%</th>\n",
       "      <td>821.31895</td>\n",
       "      <td>1321.40778</td>\n",
       "    </tr>\n",
       "    <tr>\n",
       "      <th>75%</th>\n",
       "      <td>6243.56218</td>\n",
       "      <td>6243.56218</td>\n",
       "    </tr>\n",
       "    <tr>\n",
       "      <th>max</th>\n",
       "      <td>16637.10057</td>\n",
       "      <td>16637.10057</td>\n",
       "    </tr>\n",
       "  </tbody>\n",
       "</table>\n",
       "</div>"
      ],
      "text/plain": [
       "             coef    abs_coef\n",
       "count    35.00000    35.00000\n",
       "mean   2999.52867  3395.58907\n",
       "std    4551.19702  4255.11995\n",
       "min   -4321.46895     0.44416\n",
       "25%      11.54565    31.28953\n",
       "50%     821.31895  1321.40778\n",
       "75%    6243.56218  6243.56218\n",
       "max   16637.10057 16637.10057"
      ]
     },
     "execution_count": 61,
     "metadata": {},
     "output_type": "execute_result"
    }
   ],
   "source": [
    "lasso_coefs.describe()"
   ]
  },
  {
   "cell_type": "code",
   "execution_count": 62,
   "metadata": {},
   "outputs": [
    {
     "data": {
      "image/png": "[encoded data removed]",
      "text/plain": [
       "<Figure size 432x288 with 1 Axes>"
      ]
     },
     "metadata": {
      "needs_background": "light"
     },
     "output_type": "display_data"
    }
   ],
   "source": [
    "plot_histograms(lasso_coefs, ['coef'],ymax=20,bins=20)\n"
   ]
  },
  {
   "cell_type": "code",
   "execution_count": 63,
   "metadata": {
    "scrolled": true
   },
   "outputs": [
    {
     "data": {
      "image/png": "[encoded data removed]",
      "text/plain": [
       "<Figure size 432x288 with 1 Axes>"
      ]
     },
     "metadata": {
      "needs_background": "light"
     },
     "output_type": "display_data"
    }
   ],
   "source": [
    "plot_histograms(lasso_coefs, ['abs_coef'],ymax=20,bins=20)"
   ]
  },
  {
   "cell_type": "code",
   "execution_count": 64,
   "metadata": {
    "scrolled": true
   },
   "outputs": [
    {
     "data": {
      "text/plain": [
       "26"
      ]
     },
     "execution_count": 64,
     "metadata": {},
     "output_type": "execute_result"
    }
   ],
   "source": [
    "remod2_features = lasso_coefs[(lasso_coefs.abs_coef > lasso_coefs.abs_coef.quantile(0.25))]['variable'].values.tolist()\n",
    "len(remod2_features)"
   ]
  },
  {
   "cell_type": "markdown",
   "metadata": {},
   "source": [
    "**Analysis of the \"non-zero\" Lasso coefficients:** *(Continued)*\n",
    "\n",
    "- <span style='color:mediumblue'>**Remodelling 3: There are 22 features with strong +/- correlation to `'saleprice'` and less collinearity with other features**</span>\n",
    "- **Correlation Heatmap** of the 35 features from Lasso:\n",
    "  - 12 features with low correlation (+/-0.3) to `'saleprice'` let's remove them.\n",
    "  - `'ages_interaction'` that was created earlier to see if it can replace `'house_age'` and `'remod_age'`, but that doesn't seem to be the case.  We will remove `'ages_interaction'`.\n"
   ]
  },
  {
   "cell_type": "code",
   "execution_count": 65,
   "metadata": {},
   "outputs": [],
   "source": [
    "cols_non_zero = lasso_coefs[~(lasso_coefs.abs_coef == 0)]['variable'].values.tolist()\n",
    "cols_non_zero.append('saleprice')"
   ]
  },
  {
   "cell_type": "code",
   "execution_count": 66,
   "metadata": {},
   "outputs": [
    {
     "data": {
      "image/png": "[encoded data removed]",
      "text/plain": [
       "<Figure size 864x864 with 2 Axes>"
      ]
     },
     "metadata": {
      "needs_background": "light"
     },
     "output_type": "display_data"
    }
   ],
   "source": [
    "selected_corr = pd.DataFrame(train[cols_non_zero].corr()['saleprice'])\n",
    "selected_corr.sort_values('saleprice',ascending=False, inplace=True)\n",
    "plot_heatmap_no_mask('35 non-zero features from Lasso', selected_corr , cmap='RdBu')"
   ]
  },
  {
   "cell_type": "code",
   "execution_count": 67,
   "metadata": {
    "scrolled": false
   },
   "outputs": [
    {
     "data": {
      "text/html": [
       "<div>\n",
       "<style scoped>\n",
       "    .dataframe tbody tr th:only-of-type {\n",
       "        vertical-align: middle;\n",
       "    }\n",
       "\n",
       "    .dataframe tbody tr th {\n",
       "        vertical-align: top;\n",
       "    }\n",
       "\n",
       "    .dataframe thead th {\n",
       "        text-align: right;\n",
       "    }\n",
       "</style>\n",
       "<table border=\"1\" class=\"dataframe\">\n",
       "  <thead>\n",
       "    <tr style=\"text-align: right;\">\n",
       "      <th></th>\n",
       "      <th>saleprice</th>\n",
       "    </tr>\n",
       "  </thead>\n",
       "  <tbody>\n",
       "    <tr>\n",
       "      <th>lot_area</th>\n",
       "      <td>0.29754</td>\n",
       "    </tr>\n",
       "    <tr>\n",
       "      <th>roof_style_Hip</th>\n",
       "      <td>0.26578</td>\n",
       "    </tr>\n",
       "    <tr>\n",
       "      <th>mas_vnr_type_BrkFace</th>\n",
       "      <td>0.25835</td>\n",
       "    </tr>\n",
       "    <tr>\n",
       "      <th>neighborhood_StoneBr</th>\n",
       "      <td>0.25711</td>\n",
       "    </tr>\n",
       "    <tr>\n",
       "      <th>second_flr_sf</th>\n",
       "      <td>0.24830</td>\n",
       "    </tr>\n",
       "    <tr>\n",
       "      <th>ms_zoning_RL</th>\n",
       "      <td>0.23129</td>\n",
       "    </tr>\n",
       "    <tr>\n",
       "      <th>land_contour_HLS</th>\n",
       "      <td>0.21240</td>\n",
       "    </tr>\n",
       "    <tr>\n",
       "      <th>house_style_2Story</th>\n",
       "      <td>0.20135</td>\n",
       "    </tr>\n",
       "    <tr>\n",
       "      <th>condition_1_Norm</th>\n",
       "      <td>0.11120</td>\n",
       "    </tr>\n",
       "    <tr>\n",
       "      <th>ms_subclass_20</th>\n",
       "      <td>0.07708</td>\n",
       "    </tr>\n",
       "    <tr>\n",
       "      <th>bldg_type_TwnhsE</th>\n",
       "      <td>0.06220</td>\n",
       "    </tr>\n",
       "    <tr>\n",
       "      <th>id</th>\n",
       "      <td>-0.05156</td>\n",
       "    </tr>\n",
       "  </tbody>\n",
       "</table>\n",
       "</div>"
      ],
      "text/plain": [
       "                      saleprice\n",
       "lot_area                0.29754\n",
       "roof_style_Hip          0.26578\n",
       "mas_vnr_type_BrkFace    0.25835\n",
       "neighborhood_StoneBr    0.25711\n",
       "second_flr_sf           0.24830\n",
       "ms_zoning_RL            0.23129\n",
       "land_contour_HLS        0.21240\n",
       "house_style_2Story      0.20135\n",
       "condition_1_Norm        0.11120\n",
       "ms_subclass_20          0.07708\n",
       "bldg_type_TwnhsE        0.06220\n",
       "id                     -0.05156"
      ]
     },
     "execution_count": 67,
     "metadata": {},
     "output_type": "execute_result"
    }
   ],
   "source": [
    "# There are 12 features with low correlation to 'saleprice' (+/- 0.3)\n",
    "\n",
    "selected_corr.loc[((selected_corr.saleprice < 0.3) & (selected_corr.saleprice > -0.3)),['saleprice']]"
   ]
  },
  {
   "cell_type": "code",
   "execution_count": 68,
   "metadata": {},
   "outputs": [
    {
     "data": {
      "text/plain": [
       "['overall_qual',\n",
       " 'exter_qual',\n",
       " 'gr_liv_area',\n",
       " 'kitchen_qual',\n",
       " 'garage_area',\n",
       " 'total_bsmt_sf',\n",
       " 'first_flr_sf',\n",
       " 'bathrooms',\n",
       " 'bsmt_qual',\n",
       " 'garage_finish',\n",
       " 'fireplace_qu',\n",
       " 'mas_vnr_area',\n",
       " 'total_rooms_xbath',\n",
       " 'heating_qc',\n",
       " 'neighborhood_NridgHt',\n",
       " 'bsmt_exposure',\n",
       " 'deck_porch_sf',\n",
       " 'bsmtfin_type_1',\n",
       " 'sale_type_New',\n",
       " 'mas_vnr_type_None',\n",
       " 'ages_interaction',\n",
       " 'remod_age',\n",
       " 'house_age']"
      ]
     },
     "execution_count": 68,
     "metadata": {},
     "output_type": "execute_result"
    }
   ],
   "source": [
    "remod3_features = selected_corr.loc[~(((selected_corr.saleprice < 0.3) & (selected_corr.saleprice > -0.3))),\n",
    "                                    ['saleprice']].index.tolist()\n",
    "\n",
    "remod3_features.remove('saleprice')   # removing 'saleprice' that we've added to analyse correlation\n",
    "remod3_features "
   ]
  },
  {
   "cell_type": "code",
   "execution_count": 69,
   "metadata": {
    "scrolled": false
   },
   "outputs": [
    {
     "data": {
      "image/png": "[encoded data removed]",
      "text/plain": [
       "<Figure size 288x288 with 2 Axes>"
      ]
     },
     "metadata": {
      "needs_background": "light"
     },
     "output_type": "display_data"
    }
   ],
   "source": [
    "# 'ages interaction' that we've added during the EDA did not help reduce features after Lasso Regression\n",
    "# we will drop 'ages interaction' because it has high correlation wtih 'remod_age' which we will keep\n",
    "\n",
    "ages_corr = train[['ages_interaction', 'house_age','remod_age','saleprice']].corr()\n",
    "plot_heatmap('Ages',ages_corr , figsize=(4,4),cmap='Blues')"
   ]
  },
  {
   "cell_type": "code",
   "execution_count": 70,
   "metadata": {},
   "outputs": [
    {
     "data": {
      "text/plain": [
       "22"
      ]
     },
     "execution_count": 70,
     "metadata": {},
     "output_type": "execute_result"
    }
   ],
   "source": [
    "# we have final of 22 features\n",
    "\n",
    "remod3_features.remove('ages_interaction')   \n",
    "len(remod3_features)"
   ]
  },
  {
   "cell_type": "markdown",
   "metadata": {},
   "source": [
    "### Selected features for round 2 modelling:\n",
    "\n",
    "- <span style='color:mediumblue'>**Remodelling 1: All remaining 34 features**</span>"
   ]
  },
  {
   "cell_type": "code",
   "execution_count": 71,
   "metadata": {},
   "outputs": [],
   "source": [
    "X1 = train[remod1_features]\n",
    "y1 = train['saleprice'] \n"
   ]
  },
  {
   "cell_type": "code",
   "execution_count": 72,
   "metadata": {},
   "outputs": [
    {
     "data": {
      "text/plain": [
       "(2049, 34)"
      ]
     },
     "execution_count": 72,
     "metadata": {},
     "output_type": "execute_result"
    }
   ],
   "source": [
    "X1.shape"
   ]
  },
  {
   "cell_type": "code",
   "execution_count": 73,
   "metadata": {},
   "outputs": [
    {
     "data": {
      "text/plain": [
       "(2049,)"
      ]
     },
     "execution_count": 73,
     "metadata": {},
     "output_type": "execute_result"
    }
   ],
   "source": [
    "y1.shape"
   ]
  },
  {
   "cell_type": "code",
   "execution_count": 74,
   "metadata": {},
   "outputs": [],
   "source": [
    "X1_train, X1_validation, y1_train, y1_validation = train_test_split(X1,y1,random_state=42)  \n",
    "\n",
    "ss = StandardScaler()\n",
    "X1_train_scaled = ss.fit_transform(X1_train)\n",
    "X1_validation_scaled = ss.transform(X1_validation)"
   ]
  },
  {
   "cell_type": "code",
   "execution_count": 75,
   "metadata": {},
   "outputs": [],
   "source": [
    "mod1 = LinearRegression()"
   ]
  },
  {
   "cell_type": "code",
   "execution_count": 76,
   "metadata": {},
   "outputs": [
    {
     "data": {
      "text/plain": [
       "LinearRegression()"
      ]
     },
     "execution_count": 76,
     "metadata": {},
     "output_type": "execute_result"
    }
   ],
   "source": [
    "mod1.fit(X1_train_scaled, y1_train)"
   ]
  },
  {
   "cell_type": "code",
   "execution_count": 77,
   "metadata": {},
   "outputs": [],
   "source": [
    "# Generate predictions\n",
    "\n",
    "y1_train_preds = mod1.predict(X1_train_scaled)\n",
    "y1_validation_preds = mod1.predict(X1_validation_scaled)"
   ]
  },
  {
   "cell_type": "code",
   "execution_count": 78,
   "metadata": {},
   "outputs": [],
   "source": [
    "R2_CV5 = cross_val_score(mod1, X1_train_scaled, y1_train, cv=5).mean()\n",
    "MSE_CV5 = abs(cross_val_score(mod1, X1_train_scaled, y1_train, cv=5, scoring='neg_mean_squared_error')).mean()\n",
    "RMSE_CV5 = np.sqrt(MSE_CV5)"
   ]
  },
  {
   "cell_type": "code",
   "execution_count": 79,
   "metadata": {},
   "outputs": [
    {
     "data": {
      "text/plain": [
       "0.8485005069441577"
      ]
     },
     "execution_count": 79,
     "metadata": {},
     "output_type": "execute_result"
    }
   ],
   "source": [
    "cross_val_score(mod1, X1_train_scaled, y1_train, cv=5).mean()"
   ]
  },
  {
   "cell_type": "code",
   "execution_count": 80,
   "metadata": {},
   "outputs": [
    {
     "name": "stdout",
     "output_type": "stream",
     "text": [
      "Model                   =  Model 1 - train-subset\n",
      "Mean squared error      =  752919666.4620537\n",
      "Root mean squared error =  27439.381670548875\n",
      "Median absolute error   =  12741.483385478889\n",
      "R^2                     =  0.8746264006154298\n",
      "Adjusted R^2            =  0.8717864923015888\n"
     ]
    }
   ],
   "source": [
    "evaluate_model('Model 1','train-subset', y1_train, y1_train_preds, X1.shape[1])"
   ]
  },
  {
   "cell_type": "code",
   "execution_count": 81,
   "metadata": {},
   "outputs": [
    {
     "name": "stdout",
     "output_type": "stream",
     "text": [
      "Model                   =  Model 1 - validation\n",
      "Mean squared error      =  906762938.4018548\n",
      "Root mean squared error =  30112.50468496194\n",
      "Median absolute error   =  14164.86492809339\n",
      "R^2                     =  0.8722681951676297\n",
      "Adjusted R^2            =  0.863182669300892\n"
     ]
    }
   ],
   "source": [
    "evaluate_model('Model 1','validation', y1_validation, y1_validation_preds, X1.shape[1])"
   ]
  },
  {
   "cell_type": "markdown",
   "metadata": {},
   "source": [
    "- <span style='color:mediumblue'>**Remodelling 2: There are 26 Features with absolute coefficient that are above 25% quantile**</span>"
   ]
  },
  {
   "cell_type": "code",
   "execution_count": 82,
   "metadata": {},
   "outputs": [
    {
     "name": "stdout",
     "output_type": "stream",
     "text": [
      "(2049, 26)\n",
      "(2049,)\n"
     ]
    }
   ],
   "source": [
    "X2 = train[remod2_features]\n",
    "y2 = train['saleprice'] \n",
    "print(X2.shape)\n",
    "print(y2.shape)"
   ]
  },
  {
   "cell_type": "code",
   "execution_count": 83,
   "metadata": {},
   "outputs": [],
   "source": [
    "X2_train, X2_validation, y2_train, y2_validation = train_test_split(X2,y2,random_state=42)  \n",
    "\n",
    "ss = StandardScaler()\n",
    "X2_train_scaled = ss.fit_transform(X2_train)\n",
    "X2_validation_scaled = ss.transform(X2_validation)"
   ]
  },
  {
   "cell_type": "code",
   "execution_count": 84,
   "metadata": {},
   "outputs": [],
   "source": [
    "mod2 = LinearRegression()\n",
    "mod2.fit(X2_train_scaled, y2_train)\n",
    "\n",
    "# Generate predictions\n",
    "\n",
    "y2_train_preds = mod2.predict(X2_train_scaled)\n",
    "y2_validation_preds = mod2.predict(X2_validation_scaled)\n"
   ]
  },
  {
   "cell_type": "code",
   "execution_count": 85,
   "metadata": {},
   "outputs": [],
   "source": [
    "R2_CV5 = cross_val_score(mod2, X2_train_scaled, y2_train, cv=5).mean()\n",
    "MSE_CV5 = abs(cross_val_score(mod2, X2_train_scaled, y2_train, cv=5, scoring='neg_mean_squared_error')).mean()\n",
    "RMSE_CV5 = np.sqrt(MSE_CV5)"
   ]
  },
  {
   "cell_type": "code",
   "execution_count": 86,
   "metadata": {},
   "outputs": [
    {
     "data": {
      "text/plain": [
       "0.8353891185560863"
      ]
     },
     "execution_count": 86,
     "metadata": {},
     "output_type": "execute_result"
    }
   ],
   "source": [
    "cross_val_score(mod2, X2_train_scaled, y2_train, cv=5).mean()"
   ]
  },
  {
   "cell_type": "code",
   "execution_count": 87,
   "metadata": {},
   "outputs": [
    {
     "name": "stdout",
     "output_type": "stream",
     "text": [
      "Model                   =  Model 2 - train-subset\n",
      "Mean squared error      =  909898039.5636395\n",
      "Root mean squared error =  30164.516232879312\n",
      "Median absolute error   =  15095.038258071334\n",
      "R^2                     =  0.8484869005625756\n",
      "Adjusted R^2            =  0.8458763368877095\n"
     ]
    }
   ],
   "source": [
    "evaluate_model('Model 2','train-subset', y2_train, y2_train_preds, X2.shape[1])"
   ]
  },
  {
   "cell_type": "code",
   "execution_count": 88,
   "metadata": {},
   "outputs": [
    {
     "name": "stdout",
     "output_type": "stream",
     "text": [
      "Model                   =  Model 2 - validation\n",
      "Mean squared error      =  1250407391.7580204\n",
      "Root mean squared error =  35361.099979469254\n",
      "Median absolute error   =  18288.9790090413\n",
      "R^2                     =  0.8238604753669297\n",
      "Adjusted R^2            =  0.8144373732260659\n"
     ]
    }
   ],
   "source": [
    "evaluate_model('Model 2','validation', y2_validation, y2_validation_preds, X2.shape[1])"
   ]
  },
  {
   "cell_type": "markdown",
   "metadata": {},
   "source": [
    "- <span style='color:mediumblue'>**Remodelling 3: There are 22 features with strong +/- correlation to `'saleprice'` and less collinearity with other features**</span>"
   ]
  },
  {
   "cell_type": "code",
   "execution_count": 89,
   "metadata": {},
   "outputs": [
    {
     "name": "stdout",
     "output_type": "stream",
     "text": [
      "(2049, 22)\n",
      "(2049,)\n"
     ]
    }
   ],
   "source": [
    "X3 = train[remod3_features]\n",
    "y3 = train['saleprice'] \n",
    "print(X3.shape)\n",
    "print(y3.shape)"
   ]
  },
  {
   "cell_type": "code",
   "execution_count": 90,
   "metadata": {},
   "outputs": [],
   "source": [
    "X3_train, X3_validation, y3_train, y3_validation = train_test_split(X3,y3,random_state=42)  \n",
    "\n",
    "ss = StandardScaler()\n",
    "X3_train_scaled = ss.fit_transform(X3_train)\n",
    "X3_validation_scaled = ss.transform(X3_validation)"
   ]
  },
  {
   "cell_type": "code",
   "execution_count": 91,
   "metadata": {},
   "outputs": [],
   "source": [
    "mod3 = LinearRegression()\n",
    "mod3.fit(X3_train_scaled, y3_train)\n",
    "\n",
    "# Generate predictions\n",
    "\n",
    "y3_train_preds = mod3.predict(X3_train_scaled)\n",
    "y3_validation_preds = mod3.predict(X3_validation_scaled)\n"
   ]
  },
  {
   "cell_type": "code",
   "execution_count": 92,
   "metadata": {},
   "outputs": [],
   "source": [
    "R2_CV5 = cross_val_score(mod3, X3_train_scaled, y3_train, cv=5).mean()\n",
    "MSE_CV5 = abs(cross_val_score(mod3, X3_train_scaled, y3_train, cv=5, scoring='neg_mean_squared_error')).mean()\n",
    "RMSE_CV5 = np.sqrt(MSE_CV5)"
   ]
  },
  {
   "cell_type": "code",
   "execution_count": 93,
   "metadata": {},
   "outputs": [
    {
     "data": {
      "text/plain": [
       "0.8317273735728465"
      ]
     },
     "execution_count": 93,
     "metadata": {},
     "output_type": "execute_result"
    }
   ],
   "source": [
    "cross_val_score(mod3, X3_train_scaled, y3_train, cv=5).mean()"
   ]
  },
  {
   "cell_type": "code",
   "execution_count": 94,
   "metadata": {
    "scrolled": true
   },
   "outputs": [
    {
     "name": "stdout",
     "output_type": "stream",
     "text": [
      "Model                   =  Model 3 - train-subset\n",
      "Mean squared error      =  880618454.0836387\n",
      "Root mean squared error =  29675.21615900445\n",
      "Median absolute error   =  14755.081356845869\n",
      "R^2                     =  0.8533624366703855\n",
      "Adjusted R^2            =  0.8512302315195253\n"
     ]
    }
   ],
   "source": [
    "evaluate_model('Model 3','train-subset', y3_train, y3_train_preds, X3.shape[1])"
   ]
  },
  {
   "cell_type": "code",
   "execution_count": 95,
   "metadata": {},
   "outputs": [
    {
     "name": "stdout",
     "output_type": "stream",
     "text": [
      "Model                   =  Model 3 - validation\n",
      "Mean squared error      =  991900956.7543797\n",
      "Root mean squared error =  31494.459143703036\n",
      "Median absolute error   =  16545.54485397428\n",
      "R^2                     =  0.8602751677913829\n",
      "Adjusted R^2            =  0.8540018079779348\n"
     ]
    }
   ],
   "source": [
    "evaluate_model('Model 3','validation', y3_validation, y3_validation_preds, X3.shape[1])"
   ]
  },
  {
   "cell_type": "code",
   "execution_count": 96,
   "metadata": {},
   "outputs": [
    {
     "data": {
      "text/html": [
       "<div>\n",
       "<style scoped>\n",
       "    .dataframe tbody tr th:only-of-type {\n",
       "        vertical-align: middle;\n",
       "    }\n",
       "\n",
       "    .dataframe tbody tr th {\n",
       "        vertical-align: top;\n",
       "    }\n",
       "\n",
       "    .dataframe thead th {\n",
       "        text-align: right;\n",
       "    }\n",
       "</style>\n",
       "<table border=\"1\" class=\"dataframe\">\n",
       "  <thead>\n",
       "    <tr style=\"text-align: right;\">\n",
       "      <th></th>\n",
       "      <th>model</th>\n",
       "      <th>dataset</th>\n",
       "      <th>mean_sq_error</th>\n",
       "      <th>rt_mean_sq_error</th>\n",
       "      <th>mean_abs_error</th>\n",
       "      <th>r2</th>\n",
       "      <th>r2_adj</th>\n",
       "    </tr>\n",
       "  </thead>\n",
       "  <tbody>\n",
       "    <tr>\n",
       "      <th>0</th>\n",
       "      <td>linear_1</td>\n",
       "      <td>train-subset</td>\n",
       "      <td>576586451.12740</td>\n",
       "      <td>24012.21462</td>\n",
       "      <td>11634.99343</td>\n",
       "      <td>0.90399</td>\n",
       "      <td>0.89274</td>\n",
       "    </tr>\n",
       "    <tr>\n",
       "      <th>1</th>\n",
       "      <td>linear_1</td>\n",
       "      <td>validation</td>\n",
       "      <td>1036837547288192206378106880.00000</td>\n",
       "      <td>32199961914390.39844</td>\n",
       "      <td>15423.94337</td>\n",
       "      <td>-146054856924904480.00000</td>\n",
       "      <td>-213048680186755232.00000</td>\n",
       "    </tr>\n",
       "    <tr>\n",
       "      <th>2</th>\n",
       "      <td>lasso_1</td>\n",
       "      <td>train-subset</td>\n",
       "      <td>821030001.51396</td>\n",
       "      <td>28653.62109</td>\n",
       "      <td>13564.80696</td>\n",
       "      <td>0.86328</td>\n",
       "      <td>0.84715</td>\n",
       "    </tr>\n",
       "    <tr>\n",
       "      <th>3</th>\n",
       "      <td>lasso_1</td>\n",
       "      <td>validation</td>\n",
       "      <td>904960206.33814</td>\n",
       "      <td>30082.55651</td>\n",
       "      <td>15153.59557</td>\n",
       "      <td>0.87252</td>\n",
       "      <td>0.81352</td>\n",
       "    </tr>\n",
       "    <tr>\n",
       "      <th>4</th>\n",
       "      <td>ridge_1</td>\n",
       "      <td>train-subset</td>\n",
       "      <td>644253322.29345</td>\n",
       "      <td>25382.14574</td>\n",
       "      <td>11085.60851</td>\n",
       "      <td>0.89272</td>\n",
       "      <td>0.88006</td>\n",
       "    </tr>\n",
       "    <tr>\n",
       "      <th>5</th>\n",
       "      <td>ridge_1</td>\n",
       "      <td>validation</td>\n",
       "      <td>896254862.60394</td>\n",
       "      <td>29937.51597</td>\n",
       "      <td>14398.89607</td>\n",
       "      <td>0.87375</td>\n",
       "      <td>0.81531</td>\n",
       "    </tr>\n",
       "    <tr>\n",
       "      <th>6</th>\n",
       "      <td>enet_1</td>\n",
       "      <td>train_subset</td>\n",
       "      <td>625460904.66588</td>\n",
       "      <td>25009.21639</td>\n",
       "      <td>11162.13354</td>\n",
       "      <td>0.89585</td>\n",
       "      <td>0.88356</td>\n",
       "    </tr>\n",
       "    <tr>\n",
       "      <th>7</th>\n",
       "      <td>enet_1</td>\n",
       "      <td>validation</td>\n",
       "      <td>844226545.75782</td>\n",
       "      <td>29055.57684</td>\n",
       "      <td>15035.79970</td>\n",
       "      <td>0.88108</td>\n",
       "      <td>0.82603</td>\n",
       "    </tr>\n",
       "    <tr>\n",
       "      <th>8</th>\n",
       "      <td>Model 1</td>\n",
       "      <td>train-subset</td>\n",
       "      <td>752919666.46205</td>\n",
       "      <td>27439.38167</td>\n",
       "      <td>12741.48339</td>\n",
       "      <td>0.87463</td>\n",
       "      <td>0.87179</td>\n",
       "    </tr>\n",
       "    <tr>\n",
       "      <th>9</th>\n",
       "      <td>Model 1</td>\n",
       "      <td>validation</td>\n",
       "      <td>906762938.40185</td>\n",
       "      <td>30112.50468</td>\n",
       "      <td>14164.86493</td>\n",
       "      <td>0.87227</td>\n",
       "      <td>0.86318</td>\n",
       "    </tr>\n",
       "    <tr>\n",
       "      <th>10</th>\n",
       "      <td>Model 2</td>\n",
       "      <td>train-subset</td>\n",
       "      <td>909898039.56364</td>\n",
       "      <td>30164.51623</td>\n",
       "      <td>15095.03826</td>\n",
       "      <td>0.84849</td>\n",
       "      <td>0.84588</td>\n",
       "    </tr>\n",
       "    <tr>\n",
       "      <th>11</th>\n",
       "      <td>Model 2</td>\n",
       "      <td>validation</td>\n",
       "      <td>1250407391.75802</td>\n",
       "      <td>35361.09998</td>\n",
       "      <td>18288.97901</td>\n",
       "      <td>0.82386</td>\n",
       "      <td>0.81444</td>\n",
       "    </tr>\n",
       "    <tr>\n",
       "      <th>12</th>\n",
       "      <td>Model 3</td>\n",
       "      <td>train-subset</td>\n",
       "      <td>880618454.08364</td>\n",
       "      <td>29675.21616</td>\n",
       "      <td>14755.08136</td>\n",
       "      <td>0.85336</td>\n",
       "      <td>0.85123</td>\n",
       "    </tr>\n",
       "    <tr>\n",
       "      <th>13</th>\n",
       "      <td>Model 3</td>\n",
       "      <td>validation</td>\n",
       "      <td>991900956.75438</td>\n",
       "      <td>31494.45914</td>\n",
       "      <td>16545.54485</td>\n",
       "      <td>0.86028</td>\n",
       "      <td>0.85400</td>\n",
       "    </tr>\n",
       "  </tbody>\n",
       "</table>\n",
       "</div>"
      ],
      "text/plain": [
       "       model       dataset                      mean_sq_error  \\\n",
       "0   linear_1  train-subset                    576586451.12740   \n",
       "1   linear_1    validation 1036837547288192206378106880.00000   \n",
       "2    lasso_1  train-subset                    821030001.51396   \n",
       "3    lasso_1    validation                    904960206.33814   \n",
       "4    ridge_1  train-subset                    644253322.29345   \n",
       "5    ridge_1    validation                    896254862.60394   \n",
       "6     enet_1  train_subset                    625460904.66588   \n",
       "7     enet_1    validation                    844226545.75782   \n",
       "8    Model 1  train-subset                    752919666.46205   \n",
       "9    Model 1    validation                    906762938.40185   \n",
       "10   Model 2  train-subset                    909898039.56364   \n",
       "11   Model 2    validation                   1250407391.75802   \n",
       "12   Model 3  train-subset                    880618454.08364   \n",
       "13   Model 3    validation                    991900956.75438   \n",
       "\n",
       "       rt_mean_sq_error  mean_abs_error                        r2  \\\n",
       "0           24012.21462     11634.99343                   0.90399   \n",
       "1  32199961914390.39844     15423.94337 -146054856924904480.00000   \n",
       "2           28653.62109     13564.80696                   0.86328   \n",
       "3           30082.55651     15153.59557                   0.87252   \n",
       "4           25382.14574     11085.60851                   0.89272   \n",
       "5           29937.51597     14398.89607                   0.87375   \n",
       "6           25009.21639     11162.13354                   0.89585   \n",
       "7           29055.57684     15035.79970                   0.88108   \n",
       "8           27439.38167     12741.48339                   0.87463   \n",
       "9           30112.50468     14164.86493                   0.87227   \n",
       "10          30164.51623     15095.03826                   0.84849   \n",
       "11          35361.09998     18288.97901                   0.82386   \n",
       "12          29675.21616     14755.08136                   0.85336   \n",
       "13          31494.45914     16545.54485                   0.86028   \n",
       "\n",
       "                      r2_adj  \n",
       "0                    0.89274  \n",
       "1  -213048680186755232.00000  \n",
       "2                    0.84715  \n",
       "3                    0.81352  \n",
       "4                    0.88006  \n",
       "5                    0.81531  \n",
       "6                    0.88356  \n",
       "7                    0.82603  \n",
       "8                    0.87179  \n",
       "9                    0.86318  \n",
       "10                   0.84588  \n",
       "11                   0.81444  \n",
       "12                   0.85123  \n",
       "13                   0.85400  "
      ]
     },
     "execution_count": 96,
     "metadata": {},
     "output_type": "execute_result"
    }
   ],
   "source": [
    "summary_model_evaluations = pd.DataFrame(model_evaluations)\n",
    "round(summary_model_evaluations,5)"
   ]
  },
  {
   "cell_type": "code",
   "execution_count": null,
   "metadata": {},
   "outputs": [],
   "source": []
  },
  {
   "cell_type": "code",
   "execution_count": 97,
   "metadata": {},
   "outputs": [
    {
     "ename": "NameError",
     "evalue": "name 'stop' is not defined",
     "output_type": "error",
     "traceback": [
      "\u001b[0;31m---------------------------------------------------------------------------\u001b[0m",
      "\u001b[0;31mNameError\u001b[0m                                 Traceback (most recent call last)",
      "\u001b[0;32m<ipython-input-97-4f76a9dad686>\u001b[0m in \u001b[0;36m<module>\u001b[0;34m\u001b[0m\n\u001b[0;32m----> 1\u001b[0;31m \u001b[0mstop\u001b[0m\u001b[0;34m\u001b[0m\u001b[0;34m\u001b[0m\u001b[0m\n\u001b[0m",
      "\u001b[0;31mNameError\u001b[0m: name 'stop' is not defined"
     ]
    }
   ],
   "source": [
    "stop"
   ]
  },
  {
   "cell_type": "code",
   "execution_count": null,
   "metadata": {},
   "outputs": [],
   "source": []
  },
  {
   "cell_type": "code",
   "execution_count": null,
   "metadata": {},
   "outputs": [],
   "source": []
  },
  {
   "cell_type": "code",
   "execution_count": null,
   "metadata": {},
   "outputs": [],
   "source": []
  },
  {
   "cell_type": "code",
   "execution_count": null,
   "metadata": {},
   "outputs": [],
   "source": []
  },
  {
   "cell_type": "code",
   "execution_count": null,
   "metadata": {},
   "outputs": [],
   "source": []
  },
  {
   "cell_type": "code",
   "execution_count": null,
   "metadata": {},
   "outputs": [],
   "source": []
  },
  {
   "cell_type": "code",
   "execution_count": null,
   "metadata": {},
   "outputs": [],
   "source": []
  },
  {
   "cell_type": "code",
   "execution_count": null,
   "metadata": {},
   "outputs": [],
   "source": []
  },
  {
   "cell_type": "code",
   "execution_count": null,
   "metadata": {},
   "outputs": [],
   "source": []
  },
  {
   "cell_type": "code",
   "execution_count": null,
   "metadata": {},
   "outputs": [],
   "source": []
  },
  {
   "cell_type": "code",
   "execution_count": null,
   "metadata": {},
   "outputs": [],
   "source": [
    "cols_non_zero = lasso_coefs[~(lasso_coefs.abs_coef == 0)]['variable'].values.tolist()\n",
    "cols_non_zero.append('saleprice')"
   ]
  },
  {
   "cell_type": "code",
   "execution_count": null,
   "metadata": {
    "scrolled": false
   },
   "outputs": [],
   "source": [
    "selected_corr = train[cols_non_zero].corr()#['saleprice']\n",
    "plot_heatmap('35 non-zero features from Lasso',selected_corr , figsize=(20,12),cmap='coolwarm')"
   ]
  },
  {
   "cell_type": "code",
   "execution_count": null,
   "metadata": {},
   "outputs": [],
   "source": []
  },
  {
   "cell_type": "code",
   "execution_count": null,
   "metadata": {},
   "outputs": [],
   "source": []
  },
  {
   "cell_type": "code",
   "execution_count": null,
   "metadata": {},
   "outputs": [],
   "source": []
  },
  {
   "cell_type": "code",
   "execution_count": null,
   "metadata": {},
   "outputs": [],
   "source": [
    "lasso_coefs[(lasso_coefs.abs_coef > lasso_coefs.abs_coef.quantile(0.25))].count()"
   ]
  },
  {
   "cell_type": "code",
   "execution_count": null,
   "metadata": {},
   "outputs": [],
   "source": []
  },
  {
   "cell_type": "code",
   "execution_count": null,
   "metadata": {},
   "outputs": [],
   "source": [
    "lasso_coefs[(lasso_coefs.abs_coef > lasso_coefs.abs_coef.quantile(0.5))].count()\n"
   ]
  },
  {
   "cell_type": "code",
   "execution_count": null,
   "metadata": {},
   "outputs": [],
   "source": [
    "def plot_heatmap(title, corr, figsize = (12,12),cmap=\"RdBu_r\"):"
   ]
  },
  {
   "cell_type": "markdown",
   "metadata": {},
   "source": [
    "#### Try Kaggle submission :"
   ]
  },
  {
   "cell_type": "markdown",
   "metadata": {},
   "source": [
    "- Drop columns based on selected model\n",
    "- Check columns is train & test are in line\n",
    "- Generate predictions and submit kaggle"
   ]
  },
  {
   "cell_type": "code",
   "execution_count": null,
   "metadata": {},
   "outputs": [],
   "source": []
  },
  {
   "cell_type": "code",
   "execution_count": null,
   "metadata": {},
   "outputs": [],
   "source": []
  },
  {
   "cell_type": "code",
   "execution_count": null,
   "metadata": {},
   "outputs": [],
   "source": []
  },
  {
   "cell_type": "code",
   "execution_count": null,
   "metadata": {},
   "outputs": [],
   "source": [
    "# try on test dataset and submit kaggle :)\n",
    "\n",
    "# lasso_y_test = lasso.predict(X_test_scaled)\n",
    "# lasso_y_test"
   ]
  },
  {
   "cell_type": "code",
   "execution_count": null,
   "metadata": {},
   "outputs": [],
   "source": [
    "# test['saleprice'] = lasso_y_test\n",
    "# submission_2 = test[['id','saleprice']]\n",
    "# submission_2"
   ]
  },
  {
   "cell_type": "code",
   "execution_count": null,
   "metadata": {},
   "outputs": [],
   "source": []
  },
  {
   "cell_type": "code",
   "execution_count": null,
   "metadata": {},
   "outputs": [],
   "source": [
    "def coef_plotter(alphas, coefs, feature_names, to_alpha, regtype='ridge'):\n",
    "    \n",
    "    # Get the full range of alphas before subsetting to keep the plots from \n",
    "    # resetting axes each time. (We use these values to set static axes later).\n",
    "    amin = np.min(alphas)\n",
    "    amax = np.max(alphas)\n",
    "    \n",
    "    # Subset the alphas and coefficients to just the ones below the set limit\n",
    "    # from the interactive widget:\n",
    "    alphas = [a for a in alphas if a <= to_alpha]\n",
    "    coefs = coefs[0:len(alphas)]\n",
    "    \n",
    "    # Get some colors from seaborn:\n",
    "    colors = sns.color_palette(\"husl\", len(coefs[0]))\n",
    "    \n",
    "    # Get the figure and reset the size to be wider:\n",
    "    fig = plt.figure()\n",
    "    fig.set_size_inches(18,5)\n",
    "\n",
    "    # We have two axes this time on our figure. \n",
    "    # The fig.add_subplot adds axes to our figure. The number inside stands for:\n",
    "    #[figure_rows|figure_cols|position_of_current_axes]\n",
    "    ax1 = fig.add_subplot(121)\n",
    "    \n",
    "    # Give it the color cycler:\n",
    "    ax1.set_prop_cycle(cycler('color', colors))\n",
    "    \n",
    "    # Print a vertical line showing our current alpha threshold:\n",
    "    ax1.axvline(to_alpha, lw=2, ls='dashed', c='k', alpha=0.4)\n",
    "    \n",
    "    # Plot the lines of the alphas on x-axis and coefficients on y-axis\n",
    "    ax1.plot(alphas, coefs, lw=2)\n",
    "    \n",
    "    # set labels for axes:\n",
    "    ax1.set_xlabel('alpha', fontsize=20)\n",
    "    ax1.set_ylabel('coefficients', fontsize=20)\n",
    "    \n",
    "    # If this is for the ridge, set this to a log scale on the x-axis:\n",
    "    if regtype == 'ridge':\n",
    "        ax1.set_xscale('log')\n",
    "    \n",
    "    # Enforce the axis limits:\n",
    "    ax1.set_xlim([amin, amax])\n",
    "    \n",
    "    # Put a title on the axis\n",
    "    ax1.set_title(regtype+' coef paths\\n', fontsize=20)\n",
    "    \n",
    "    # Get the ymin and ymax for this axis to enforce it to be the same on the \n",
    "    # second chart:\n",
    "    ymin, ymax = ax1.get_ylim()\n",
    "\n",
    "    # Add our second axes for the barplot in position 2:\n",
    "    ax2 = fig.add_subplot(122)\n",
    "    \n",
    "    # Position the bars according to their index from the feature names variable:\n",
    "    ax2.bar(list(range(1, len(feature_names)+1)), coefs[-1], align='center', color=colors)\n",
    "    ax2.set_xticks(list(range(1, len(feature_names)+1)))\n",
    "    \n",
    "    # Reset the ticks from numbers to acutally be the names:\n",
    "    ax2.set_xticklabels(feature_names, rotation=65, fontsize=12)\n",
    "    \n",
    "    # enforce limits and add titles, labels\n",
    "    ax2.set_ylim([ymin, ymax])\n",
    "    ax2.set_title(regtype+' predictor coefs\\n', fontsize=20)\n",
    "    ax2.set_xlabel('coefficients', fontsize=20)\n",
    "    ax2.set_ylabel('alpha', fontsize=20)\n",
    "    \n",
    "    plt.show()\n"
   ]
  },
  {
   "cell_type": "code",
   "execution_count": null,
   "metadata": {},
   "outputs": [],
   "source": []
  },
  {
   "cell_type": "code",
   "execution_count": null,
   "metadata": {},
   "outputs": [],
   "source": []
  },
  {
   "cell_type": "code",
   "execution_count": null,
   "metadata": {},
   "outputs": [],
   "source": [
    "stop"
   ]
  },
  {
   "cell_type": "code",
   "execution_count": null,
   "metadata": {},
   "outputs": [],
   "source": []
  },
  {
   "cell_type": "code",
   "execution_count": null,
   "metadata": {},
   "outputs": [],
   "source": [
    "a_list = ['house_age',\n",
    " 'remod_age',\n",
    " 'ages_interaction',\n",
    " 'mas_vnr_area',\n",
    " 'total_bsmt_sf',\n",
    " 'first_flr_sf',\n",
    " 'gr_liv_area',\n",
    " 'garage_area',\n",
    " 'total_rooms_xbath',\n",
    " 'garage_cars',\n",
    " 'bathrooms',\n",
    " 'overall_qual',\n",
    " 'exter_qual',\n",
    " 'bsmt_qual',\n",
    " 'kitchen_qual',\n",
    " 'fireplace_qu',\n",
    " 'garage_finish',\n",
    " 'neighborhood',\n",
    " 'condition_1',\n",
    " 'ms_subclass',\n",
    " 'ms_zoning',\n",
    " 'land_contour',\n",
    " 'exterior_1st',\n",
    " 'exterior_2nd',\n",
    " 'mas_vnr_type',\n",
    " 'foundation',\n",
    " 'central_air',\n",
    " 'garage_type',\n",
    " 'sale_type']\n"
   ]
  },
  {
   "cell_type": "code",
   "execution_count": null,
   "metadata": {},
   "outputs": [],
   "source": [
    "b_list = ['lot_area',\n",
    " 'second_flr_sf',\n",
    " 'deck_porch_sf',\n",
    " 'fireplaces',\n",
    " 'lot_shape',\n",
    " 'bsmt_cond',\n",
    " 'bsmt_exposure',\n",
    " 'bsmtfin_type1',\n",
    " 'heating_qc',\n",
    " 'garage_qual',\n",
    " 'garage_cond',\n",
    " 'paved_drive',\n",
    " 'electrical',\n",
    " 'lot_config',\n",
    " 'bldg_type',\n",
    " 'house_style',\n",
    " 'roof_style']"
   ]
  },
  {
   "cell_type": "code",
   "execution_count": null,
   "metadata": {},
   "outputs": [],
   "source": [
    "train.columns"
   ]
  },
  {
   "cell_type": "code",
   "execution_count": null,
   "metadata": {},
   "outputs": [],
   "source": []
  },
  {
   "cell_type": "code",
   "execution_count": null,
   "metadata": {},
   "outputs": [],
   "source": []
  },
  {
   "cell_type": "code",
   "execution_count": null,
   "metadata": {},
   "outputs": [],
   "source": [
    "#saleprice_corr = train.corr()['saleprice']\n",
    "\n",
    "#fig = plt.figure(figsize=(20,20))\n",
    "# sns.heatmap(train.corr(), annot=True,cmap='RdBu', )\n",
    "\n",
    "\n"
   ]
  },
  {
   "cell_type": "code",
   "execution_count": null,
   "metadata": {},
   "outputs": [],
   "source": [
    "train.corr()['saleprice']"
   ]
  },
  {
   "cell_type": "code",
   "execution_count": null,
   "metadata": {},
   "outputs": [],
   "source": []
  },
  {
   "cell_type": "code",
   "execution_count": null,
   "metadata": {},
   "outputs": [],
   "source": []
  },
  {
   "cell_type": "code",
   "execution_count": null,
   "metadata": {},
   "outputs": [],
   "source": []
  },
  {
   "cell_type": "code",
   "execution_count": null,
   "metadata": {},
   "outputs": [],
   "source": []
  },
  {
   "cell_type": "code",
   "execution_count": null,
   "metadata": {},
   "outputs": [],
   "source": []
  }
 ],
 "metadata": {
  "kernelspec": {
   "display_name": "Python 3",
   "language": "python",
   "name": "python3"
  },
  "language_info": {
   "codemirror_mode": {
    "name": "ipython",
    "version": 3
   },
   "file_extension": ".py",
   "mimetype": "text/x-python",
   "name": "python",
   "nbconvert_exporter": "python",
   "pygments_lexer": "ipython3",
   "version": "3.7.6"
  }
 },
 "nbformat": 4,
 "nbformat_minor": 4
}
