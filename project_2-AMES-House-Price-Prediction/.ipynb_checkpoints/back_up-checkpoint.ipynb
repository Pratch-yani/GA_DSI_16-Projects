{
 "cells": [
  {
   "cell_type": "markdown",
   "metadata": {},
   "source": [
    "# <span style='color:royalblue'>Project 2 - Ames Housing Data and Kaggle Challenge</span>"
   ]
  },
  {
   "cell_type": "markdown",
   "metadata": {},
   "source": [
    "## Part 2 : Modelling and Evaluations"
   ]
  },
  {
   "cell_type": "markdown",
   "metadata": {},
   "source": [
    "## 1. Import all libraries and read in `.csv` data files\n",
    "\n",
    "\n",
    "\n"
   ]
  },
  {
   "cell_type": "code",
   "execution_count": 1,
   "metadata": {},
   "outputs": [],
   "source": [
    "# standard imports\n",
    "import pandas as pd\n",
    "import numpy as np\n",
    "import matplotlib.pyplot as plt\n",
    "import seaborn as sns\n",
    "\n",
    "#%config InlineBackend.figure_format = 'retina'\n",
    "%matplotlib inline\n",
    "\n",
    "\n",
    "# modeling imports\n",
    "\n",
    "from sklearn.linear_model import LinearRegression, Lasso, LassoCV, Ridge, RidgeCV, ElasticNet, ElasticNetCV\n",
    "from sklearn.preprocessing import StandardScaler, PolynomialFeatures\n",
    "from sklearn.model_selection import train_test_split, cross_val_score, cross_val_predict\n",
    "from sklearn.metrics import r2_score, mean_squared_error, mean_squared_log_error, median_absolute_error\n",
    "import statsmodels.api as sm\n",
    "\n",
    "\n"
   ]
  },
  {
   "cell_type": "code",
   "execution_count": 2,
   "metadata": {},
   "outputs": [],
   "source": [
    "# read the csv files after cleaning, eda, and some feature selection\n",
    "\n",
    "train = pd.read_csv('datasets/train_after_eda.csv')\n",
    "test = pd.read_csv('datasets/test_after_eda.csv')"
   ]
  },
  {
   "cell_type": "markdown",
   "metadata": {},
   "source": [
    "**Data are correct:**\n",
    "- Correct shape for both train & test \n",
    "- No unnamed columns."
   ]
  },
  {
   "cell_type": "code",
   "execution_count": 3,
   "metadata": {},
   "outputs": [
    {
     "name": "stdout",
     "output_type": "stream",
     "text": [
      "train : (2049, 162)\n",
      "test : (879, 153)\n"
     ]
    }
   ],
   "source": [
    "print(f'train : {train.shape}')\n",
    "print(f'test : {test.shape}')"
   ]
  },
  {
   "cell_type": "code",
   "execution_count": 4,
   "metadata": {},
   "outputs": [
    {
     "data": {
      "text/html": [
       "<div>\n",
       "<style scoped>\n",
       "    .dataframe tbody tr th:only-of-type {\n",
       "        vertical-align: middle;\n",
       "    }\n",
       "\n",
       "    .dataframe tbody tr th {\n",
       "        vertical-align: top;\n",
       "    }\n",
       "\n",
       "    .dataframe thead th {\n",
       "        text-align: right;\n",
       "    }\n",
       "</style>\n",
       "<table border=\"1\" class=\"dataframe\">\n",
       "  <thead>\n",
       "    <tr style=\"text-align: right;\">\n",
       "      <th></th>\n",
       "      <th>0</th>\n",
       "      <th>1</th>\n",
       "      <th>2</th>\n",
       "      <th>3</th>\n",
       "      <th>4</th>\n",
       "      <th>5</th>\n",
       "      <th>6</th>\n",
       "      <th>7</th>\n",
       "      <th>8</th>\n",
       "      <th>9</th>\n",
       "    </tr>\n",
       "  </thead>\n",
       "  <tbody>\n",
       "    <tr>\n",
       "      <th>id</th>\n",
       "      <td>109.0</td>\n",
       "      <td>544.0</td>\n",
       "      <td>153.0</td>\n",
       "      <td>318.0</td>\n",
       "      <td>255.0</td>\n",
       "      <td>138.0</td>\n",
       "      <td>2827.0</td>\n",
       "      <td>145.0</td>\n",
       "      <td>1942.0</td>\n",
       "      <td>1956.0</td>\n",
       "    </tr>\n",
       "    <tr>\n",
       "      <th>lot_area</th>\n",
       "      <td>13517.0</td>\n",
       "      <td>11492.0</td>\n",
       "      <td>7922.0</td>\n",
       "      <td>9802.0</td>\n",
       "      <td>14235.0</td>\n",
       "      <td>16492.0</td>\n",
       "      <td>3675.0</td>\n",
       "      <td>12160.0</td>\n",
       "      <td>15783.0</td>\n",
       "      <td>11606.0</td>\n",
       "    </tr>\n",
       "    <tr>\n",
       "      <th>lot_shape</th>\n",
       "      <td>2.0</td>\n",
       "      <td>2.0</td>\n",
       "      <td>3.0</td>\n",
       "      <td>3.0</td>\n",
       "      <td>2.0</td>\n",
       "      <td>2.0</td>\n",
       "      <td>3.0</td>\n",
       "      <td>2.0</td>\n",
       "      <td>3.0</td>\n",
       "      <td>2.0</td>\n",
       "    </tr>\n",
       "    <tr>\n",
       "      <th>overall_qual</th>\n",
       "      <td>6.0</td>\n",
       "      <td>7.0</td>\n",
       "      <td>5.0</td>\n",
       "      <td>5.0</td>\n",
       "      <td>6.0</td>\n",
       "      <td>6.0</td>\n",
       "      <td>6.0</td>\n",
       "      <td>5.0</td>\n",
       "      <td>5.0</td>\n",
       "      <td>5.0</td>\n",
       "    </tr>\n",
       "    <tr>\n",
       "      <th>mas_vnr_area</th>\n",
       "      <td>289.0</td>\n",
       "      <td>132.0</td>\n",
       "      <td>0.0</td>\n",
       "      <td>0.0</td>\n",
       "      <td>0.0</td>\n",
       "      <td>0.0</td>\n",
       "      <td>82.0</td>\n",
       "      <td>180.0</td>\n",
       "      <td>0.0</td>\n",
       "      <td>192.0</td>\n",
       "    </tr>\n",
       "    <tr>\n",
       "      <th>...</th>\n",
       "      <td>...</td>\n",
       "      <td>...</td>\n",
       "      <td>...</td>\n",
       "      <td>...</td>\n",
       "      <td>...</td>\n",
       "      <td>...</td>\n",
       "      <td>...</td>\n",
       "      <td>...</td>\n",
       "      <td>...</td>\n",
       "      <td>...</td>\n",
       "    </tr>\n",
       "    <tr>\n",
       "      <th>sale_type_ConLI</th>\n",
       "      <td>0.0</td>\n",
       "      <td>0.0</td>\n",
       "      <td>0.0</td>\n",
       "      <td>0.0</td>\n",
       "      <td>0.0</td>\n",
       "      <td>0.0</td>\n",
       "      <td>0.0</td>\n",
       "      <td>0.0</td>\n",
       "      <td>0.0</td>\n",
       "      <td>0.0</td>\n",
       "    </tr>\n",
       "    <tr>\n",
       "      <th>sale_type_ConLw</th>\n",
       "      <td>0.0</td>\n",
       "      <td>0.0</td>\n",
       "      <td>0.0</td>\n",
       "      <td>0.0</td>\n",
       "      <td>0.0</td>\n",
       "      <td>0.0</td>\n",
       "      <td>0.0</td>\n",
       "      <td>0.0</td>\n",
       "      <td>0.0</td>\n",
       "      <td>0.0</td>\n",
       "    </tr>\n",
       "    <tr>\n",
       "      <th>sale_type_New</th>\n",
       "      <td>0.0</td>\n",
       "      <td>0.0</td>\n",
       "      <td>0.0</td>\n",
       "      <td>0.0</td>\n",
       "      <td>0.0</td>\n",
       "      <td>0.0</td>\n",
       "      <td>1.0</td>\n",
       "      <td>0.0</td>\n",
       "      <td>0.0</td>\n",
       "      <td>0.0</td>\n",
       "    </tr>\n",
       "    <tr>\n",
       "      <th>sale_type_Oth</th>\n",
       "      <td>0.0</td>\n",
       "      <td>0.0</td>\n",
       "      <td>0.0</td>\n",
       "      <td>0.0</td>\n",
       "      <td>0.0</td>\n",
       "      <td>0.0</td>\n",
       "      <td>0.0</td>\n",
       "      <td>0.0</td>\n",
       "      <td>0.0</td>\n",
       "      <td>0.0</td>\n",
       "    </tr>\n",
       "    <tr>\n",
       "      <th>sale_type_WD</th>\n",
       "      <td>1.0</td>\n",
       "      <td>1.0</td>\n",
       "      <td>1.0</td>\n",
       "      <td>1.0</td>\n",
       "      <td>1.0</td>\n",
       "      <td>1.0</td>\n",
       "      <td>0.0</td>\n",
       "      <td>0.0</td>\n",
       "      <td>1.0</td>\n",
       "      <td>1.0</td>\n",
       "    </tr>\n",
       "  </tbody>\n",
       "</table>\n",
       "<p>162 rows × 10 columns</p>\n",
       "</div>"
      ],
      "text/plain": [
       "                       0        1       2       3        4        5       6  \\\n",
       "id                 109.0    544.0   153.0   318.0    255.0    138.0  2827.0   \n",
       "lot_area         13517.0  11492.0  7922.0  9802.0  14235.0  16492.0  3675.0   \n",
       "lot_shape            2.0      2.0     3.0     3.0      2.0      2.0     3.0   \n",
       "overall_qual         6.0      7.0     5.0     5.0      6.0      6.0     6.0   \n",
       "mas_vnr_area       289.0    132.0     0.0     0.0      0.0      0.0    82.0   \n",
       "...                  ...      ...     ...     ...      ...      ...     ...   \n",
       "sale_type_ConLI      0.0      0.0     0.0     0.0      0.0      0.0     0.0   \n",
       "sale_type_ConLw      0.0      0.0     0.0     0.0      0.0      0.0     0.0   \n",
       "sale_type_New        0.0      0.0     0.0     0.0      0.0      0.0     1.0   \n",
       "sale_type_Oth        0.0      0.0     0.0     0.0      0.0      0.0     0.0   \n",
       "sale_type_WD         1.0      1.0     1.0     1.0      1.0      1.0     0.0   \n",
       "\n",
       "                       7        8        9  \n",
       "id                 145.0   1942.0   1956.0  \n",
       "lot_area         12160.0  15783.0  11606.0  \n",
       "lot_shape            2.0      3.0      2.0  \n",
       "overall_qual         5.0      5.0      5.0  \n",
       "mas_vnr_area       180.0      0.0    192.0  \n",
       "...                  ...      ...      ...  \n",
       "sale_type_ConLI      0.0      0.0      0.0  \n",
       "sale_type_ConLw      0.0      0.0      0.0  \n",
       "sale_type_New        0.0      0.0      0.0  \n",
       "sale_type_Oth        0.0      0.0      0.0  \n",
       "sale_type_WD         0.0      1.0      1.0  \n",
       "\n",
       "[162 rows x 10 columns]"
      ]
     },
     "execution_count": 4,
     "metadata": {},
     "output_type": "execute_result"
    }
   ],
   "source": [
    "train.head(10).T"
   ]
  },
  {
   "cell_type": "code",
   "execution_count": 5,
   "metadata": {
    "scrolled": false
   },
   "outputs": [
    {
     "data": {
      "text/html": [
       "<div>\n",
       "<style scoped>\n",
       "    .dataframe tbody tr th:only-of-type {\n",
       "        vertical-align: middle;\n",
       "    }\n",
       "\n",
       "    .dataframe tbody tr th {\n",
       "        vertical-align: top;\n",
       "    }\n",
       "\n",
       "    .dataframe thead th {\n",
       "        text-align: right;\n",
       "    }\n",
       "</style>\n",
       "<table border=\"1\" class=\"dataframe\">\n",
       "  <thead>\n",
       "    <tr style=\"text-align: right;\">\n",
       "      <th></th>\n",
       "      <th>0</th>\n",
       "      <th>1</th>\n",
       "      <th>2</th>\n",
       "      <th>3</th>\n",
       "      <th>4</th>\n",
       "      <th>5</th>\n",
       "      <th>6</th>\n",
       "      <th>7</th>\n",
       "      <th>8</th>\n",
       "      <th>9</th>\n",
       "    </tr>\n",
       "  </thead>\n",
       "  <tbody>\n",
       "    <tr>\n",
       "      <th>id</th>\n",
       "      <td>2658.0</td>\n",
       "      <td>2718.0</td>\n",
       "      <td>2414.0</td>\n",
       "      <td>1989.0</td>\n",
       "      <td>625.0</td>\n",
       "      <td>333.0</td>\n",
       "      <td>1327.0</td>\n",
       "      <td>858.0</td>\n",
       "      <td>95.0</td>\n",
       "      <td>1568.0</td>\n",
       "    </tr>\n",
       "    <tr>\n",
       "      <th>lot_area</th>\n",
       "      <td>9142.0</td>\n",
       "      <td>9662.0</td>\n",
       "      <td>17104.0</td>\n",
       "      <td>8520.0</td>\n",
       "      <td>9500.0</td>\n",
       "      <td>1890.0</td>\n",
       "      <td>8516.0</td>\n",
       "      <td>9286.0</td>\n",
       "      <td>3515.0</td>\n",
       "      <td>10125.0</td>\n",
       "    </tr>\n",
       "    <tr>\n",
       "      <th>lot_shape</th>\n",
       "      <td>3.0</td>\n",
       "      <td>2.0</td>\n",
       "      <td>2.0</td>\n",
       "      <td>3.0</td>\n",
       "      <td>2.0</td>\n",
       "      <td>3.0</td>\n",
       "      <td>3.0</td>\n",
       "      <td>2.0</td>\n",
       "      <td>3.0</td>\n",
       "      <td>3.0</td>\n",
       "    </tr>\n",
       "    <tr>\n",
       "      <th>overall_qual</th>\n",
       "      <td>6.0</td>\n",
       "      <td>5.0</td>\n",
       "      <td>7.0</td>\n",
       "      <td>5.0</td>\n",
       "      <td>6.0</td>\n",
       "      <td>4.0</td>\n",
       "      <td>4.0</td>\n",
       "      <td>5.0</td>\n",
       "      <td>7.0</td>\n",
       "      <td>6.0</td>\n",
       "    </tr>\n",
       "    <tr>\n",
       "      <th>mas_vnr_area</th>\n",
       "      <td>0.0</td>\n",
       "      <td>0.0</td>\n",
       "      <td>0.0</td>\n",
       "      <td>0.0</td>\n",
       "      <td>247.0</td>\n",
       "      <td>0.0</td>\n",
       "      <td>0.0</td>\n",
       "      <td>0.0</td>\n",
       "      <td>0.0</td>\n",
       "      <td>0.0</td>\n",
       "    </tr>\n",
       "    <tr>\n",
       "      <th>...</th>\n",
       "      <td>...</td>\n",
       "      <td>...</td>\n",
       "      <td>...</td>\n",
       "      <td>...</td>\n",
       "      <td>...</td>\n",
       "      <td>...</td>\n",
       "      <td>...</td>\n",
       "      <td>...</td>\n",
       "      <td>...</td>\n",
       "      <td>...</td>\n",
       "    </tr>\n",
       "    <tr>\n",
       "      <th>sale_type_ConLI</th>\n",
       "      <td>0.0</td>\n",
       "      <td>0.0</td>\n",
       "      <td>0.0</td>\n",
       "      <td>0.0</td>\n",
       "      <td>0.0</td>\n",
       "      <td>0.0</td>\n",
       "      <td>0.0</td>\n",
       "      <td>0.0</td>\n",
       "      <td>0.0</td>\n",
       "      <td>0.0</td>\n",
       "    </tr>\n",
       "    <tr>\n",
       "      <th>sale_type_ConLw</th>\n",
       "      <td>0.0</td>\n",
       "      <td>0.0</td>\n",
       "      <td>0.0</td>\n",
       "      <td>0.0</td>\n",
       "      <td>0.0</td>\n",
       "      <td>0.0</td>\n",
       "      <td>0.0</td>\n",
       "      <td>0.0</td>\n",
       "      <td>0.0</td>\n",
       "      <td>0.0</td>\n",
       "    </tr>\n",
       "    <tr>\n",
       "      <th>sale_type_New</th>\n",
       "      <td>0.0</td>\n",
       "      <td>0.0</td>\n",
       "      <td>1.0</td>\n",
       "      <td>0.0</td>\n",
       "      <td>0.0</td>\n",
       "      <td>0.0</td>\n",
       "      <td>0.0</td>\n",
       "      <td>0.0</td>\n",
       "      <td>0.0</td>\n",
       "      <td>0.0</td>\n",
       "    </tr>\n",
       "    <tr>\n",
       "      <th>sale_type_Oth</th>\n",
       "      <td>0.0</td>\n",
       "      <td>0.0</td>\n",
       "      <td>0.0</td>\n",
       "      <td>0.0</td>\n",
       "      <td>0.0</td>\n",
       "      <td>0.0</td>\n",
       "      <td>0.0</td>\n",
       "      <td>0.0</td>\n",
       "      <td>0.0</td>\n",
       "      <td>0.0</td>\n",
       "    </tr>\n",
       "    <tr>\n",
       "      <th>sale_type_WD</th>\n",
       "      <td>1.0</td>\n",
       "      <td>1.0</td>\n",
       "      <td>0.0</td>\n",
       "      <td>1.0</td>\n",
       "      <td>1.0</td>\n",
       "      <td>1.0</td>\n",
       "      <td>1.0</td>\n",
       "      <td>1.0</td>\n",
       "      <td>1.0</td>\n",
       "      <td>1.0</td>\n",
       "    </tr>\n",
       "  </tbody>\n",
       "</table>\n",
       "<p>153 rows × 10 columns</p>\n",
       "</div>"
      ],
      "text/plain": [
       "                      0       1        2       3       4       5       6  \\\n",
       "id               2658.0  2718.0   2414.0  1989.0   625.0   333.0  1327.0   \n",
       "lot_area         9142.0  9662.0  17104.0  8520.0  9500.0  1890.0  8516.0   \n",
       "lot_shape           3.0     2.0      2.0     3.0     2.0     3.0     3.0   \n",
       "overall_qual        6.0     5.0      7.0     5.0     6.0     4.0     4.0   \n",
       "mas_vnr_area        0.0     0.0      0.0     0.0   247.0     0.0     0.0   \n",
       "...                 ...     ...      ...     ...     ...     ...     ...   \n",
       "sale_type_ConLI     0.0     0.0      0.0     0.0     0.0     0.0     0.0   \n",
       "sale_type_ConLw     0.0     0.0      0.0     0.0     0.0     0.0     0.0   \n",
       "sale_type_New       0.0     0.0      1.0     0.0     0.0     0.0     0.0   \n",
       "sale_type_Oth       0.0     0.0      0.0     0.0     0.0     0.0     0.0   \n",
       "sale_type_WD        1.0     1.0      0.0     1.0     1.0     1.0     1.0   \n",
       "\n",
       "                      7       8        9  \n",
       "id                858.0    95.0   1568.0  \n",
       "lot_area         9286.0  3515.0  10125.0  \n",
       "lot_shape           2.0     3.0      3.0  \n",
       "overall_qual        5.0     7.0      6.0  \n",
       "mas_vnr_area        0.0     0.0      0.0  \n",
       "...                 ...     ...      ...  \n",
       "sale_type_ConLI     0.0     0.0      0.0  \n",
       "sale_type_ConLw     0.0     0.0      0.0  \n",
       "sale_type_New       0.0     0.0      0.0  \n",
       "sale_type_Oth       0.0     0.0      0.0  \n",
       "sale_type_WD        1.0     1.0      1.0  \n",
       "\n",
       "[153 rows x 10 columns]"
      ]
     },
     "execution_count": 5,
     "metadata": {},
     "output_type": "execute_result"
    }
   ],
   "source": [
    "test.head(10).T"
   ]
  },
  {
   "cell_type": "markdown",
   "metadata": {},
   "source": [
    "**Define functions to evaluate models:**"
   ]
  },
  {
   "cell_type": "code",
   "execution_count": 6,
   "metadata": {},
   "outputs": [],
   "source": [
    "def r2_adj(y_true, y_preds, p):\n",
    "    n = len(y_true)\n",
    "    y_mean = np.mean(y_true)\n",
    "    numerator = np.sum(np.square(y_true - y_preds)) / (n - p - 1)\n",
    "    denominator = np.sum(np.square(y_true - y_mean)) / (n - 1)\n",
    "    return 1 - numerator / denominator"
   ]
  },
  {
   "cell_type": "code",
   "execution_count": 7,
   "metadata": {},
   "outputs": [],
   "source": [
    "import sklearn.metrics as metrics\n",
    "\n",
    "model_evaluations = []\n",
    "\n",
    "def evaluate_model(mod_name, train_val, y_true, y_pred, p):\n",
    "    mse = metrics.mean_squared_error(y_true, y_pred)\n",
    "    rmse = np.sqrt(mse)\n",
    "    mae = metrics.median_absolute_error(y_true, y_pred)\n",
    "    r2 = metrics.r2_score(y_true, y_pred)\n",
    "    r2a = r2_adj(y_true, y_pred, p)\n",
    "    print('Model                   = ', mod_name,'-',train_val )    \n",
    "    print('Mean squared error      = ', mse)\n",
    "    print('Root mean squared error = ', rmse)\n",
    "    print('Median absolute error   = ', mae)\n",
    "    print('R^2                     = ', r2)\n",
    "    print('Adjusted R^2            = ', r2a)\n",
    "    model_eval = {}\n",
    "    model_eval['model'] = mod_name\n",
    "    model_eval['dataset'] = train_val\n",
    "    model_eval['mean_sq_error'] = mse\n",
    "    model_eval['rt_mean_sq_error'] = rmse\n",
    "    model_eval['mean_abs_error'] = mae\n",
    "    model_eval['r2'] = r2\n",
    "    model_eval['r2_adj'] = r2a\n",
    "    model_evaluations.append(model_eval)\n",
    "\n"
   ]
  },
  {
   "cell_type": "markdown",
   "metadata": {},
   "source": [
    "**Define functions for dropping columns & rows:**"
   ]
  },
  {
   "cell_type": "code",
   "execution_count": 8,
   "metadata": {},
   "outputs": [],
   "source": [
    "# create functions for dropping columns and rows to be used throughout the project\n",
    "# for columns - using list of columns to help drop multiple columns at a time (as part of feature selection)\n",
    "# for rows - dropping one at a time to be more careful in losing number observations\n",
    "\n",
    "dropped_col_train =[]\n",
    "dropped_col_test = []\n",
    "dropped_row_train = []\n",
    "dropped_row_test = []\n",
    "\n",
    "def drop_col_train(df, list_columns_to_drop):\n",
    "    \"\"\"drop list of columns from train dataset\"\"\"\n",
    "    print (f'train.shape before: {df.shape}\\n')\n",
    "    for col in list_columns_to_drop:        \n",
    "        print (f'Dropped column : {col}')\n",
    "        dropped_col_train.append(col)\n",
    "        df.drop(columns = [col], inplace=True)\n",
    "    print (f'\\ntrain.shape after: {df.shape}\\n')\n",
    "    print ('\\n')\n",
    "        \n",
    "def drop_col_test(df, list_columns_to_drop):\n",
    "    \"\"\"drop list of columns from test dataset\"\"\"\n",
    "    print (f'test.shape before: {df.shape}\\n')\n",
    "    for col in list_columns_to_drop:        \n",
    "        print (f'Dropped column : {col}')\n",
    "        dropped_col_test.append(col)\n",
    "        df.drop(columns = [col], inplace=True)\n",
    "    print (f'\\ntest.shape after: {df.shape}\\n')\n",
    "    print ('\\n')\n",
    "\n",
    "def drop_column(df, list_columns_to_drop):\n",
    "    \"\"\"drop list of columns from ANY dataset - no need to keep track\"\"\"\n",
    "    print (f'shape before: {df.shape}\\n')\n",
    "    for col in list_columns_to_drop:        \n",
    "        # print (f'Dropped column : {col}')\n",
    "        df.drop(columns = [col], inplace=True)\n",
    "    print (f'\\nshape after: {df.shape}\\n')\n",
    "    print ('\\n')\n",
    "\n",
    "    \n",
    "def drop_row_train(df, index_row_to_drop):\n",
    "    \"\"\"drop row (one at a time) from train dataset\"\"\"\n",
    "    print (f'train.shape before: {df.shape}\\n')    \n",
    "    print (f'Dropped row : {index_row_to_drop}')\n",
    "    dropped_row_train.append(index_row_to_drop)\n",
    "    df.drop(df.index[index_row_to_drop], inplace=True)\n",
    "    print (f'\\ntrain.shape after: {df.shape}\\n')\n",
    "    print ('\\n')\n",
    "    \n",
    "def drop_row_test(df, index_row_to_drop):\n",
    "    \"\"\"drop row (one at a time) from train dataset\"\"\"\n",
    "    print (f'test.shape before: {df.shape}\\n')    \n",
    "    print (f'Dropped row : {index_row_to_drop}')\n",
    "    dropped_row_test.append(index_row_to_drop)\n",
    "    df.drop(df.index[index_row_to_drop], inplace=True)\n",
    "    print (f'\\ntest.shape after: {df.shape}\\n')\n",
    "    print ('\\n')\n",
    "    \n"
   ]
  },
  {
   "cell_type": "markdown",
   "metadata": {},
   "source": [
    "**Define functions to plot visualizations:**"
   ]
  },
  {
   "cell_type": "code",
   "execution_count": 9,
   "metadata": {},
   "outputs": [],
   "source": [
    "def plot_heatmap(title, corr, figsize = (12,12),cmap=\"RdBu_r\"):\n",
    "    fig = plt.figure(figsize=figsize)\n",
    "    mask = np.zeros_like(corr)\n",
    "    mask[np.triu_indices_from(mask)] = True\n",
    "    ax = sns.heatmap(corr, mask=mask, annot=True,cmap=cmap)\n",
    "    ax.set_title(f'Correlation Heatmap: {title}')\n",
    "\n",
    "# plt.savefig('../plots/corr_heatmap.png');"
   ]
  },
  {
   "cell_type": "code",
   "execution_count": 10,
   "metadata": {},
   "outputs": [],
   "source": [
    "def plot_heatmap_no_mask(title, corr, figsize = (12,12),cmap=\"RdBu_r\"):\n",
    "    fig = plt.figure(figsize=figsize)\n",
    "    ax = sns.heatmap(corr, annot=True,cmap=cmap, vmin=-1,vmax=1)\n",
    "    ax.set_title(f'Correlation Heatmap: {title}')\n",
    "\n",
    "# plt.savefig('../plots/corr_heatmap.png');"
   ]
  },
  {
   "cell_type": "code",
   "execution_count": 11,
   "metadata": {},
   "outputs": [],
   "source": [
    "def plot_jointplot(df, list_of_columns, y, figsize = (6,4), legend=True):\n",
    "    for col in list_of_columns:\n",
    "        fig = plt.figure(figsize=figsize)\n",
    "        ax = sns.jointplot(data=df, x=col, y=y, kind='reg')"
   ]
  },
  {
   "cell_type": "code",
   "execution_count": 12,
   "metadata": {},
   "outputs": [],
   "source": [
    "def plot_histograms(df, list_of_columns, ylabel=None, xlabel=None, bins=20,figsize=(6,4),\n",
    "                    vlines_list=None,ymax=100):\n",
    "    for i, col in enumerate(list_of_columns):\n",
    "        fig = plt.figure(figsize=figsize)\n",
    "        ax = plt.hist(df[col], bins=bins, edgecolor='cornflowerblue')\n",
    "        plt.vlines(x=df[col].mean(),\n",
    "           ymin = 0,\n",
    "           ymax = ymax,\n",
    "           color='firebrick',\n",
    "           linestyle = 'solid',label='Mean')\n",
    "        plt.vlines(x=df[col].median(),\n",
    "           ymin = 0,\n",
    "           ymax = ymax,\n",
    "           color='salmon',\n",
    "           linestyle = 'dashed',label='Median')\n",
    "        plt.vlines(x=df[col].quantile(q=0.25),\n",
    "           ymin = 0,\n",
    "           ymax = ymax,\n",
    "           color='lightsalmon',\n",
    "           linestyle = 'dotted',label='25% Quantile')\n",
    "        plt.vlines(x=df[col].quantile(q=0.75),\n",
    "           ymin = 0,\n",
    "           ymax = ymax,\n",
    "           color='lightsalmon',\n",
    "           linestyle = 'dotted',label='75% Quantile')\n",
    "        if vlines_list != None:\n",
    "            for num in vlines_list:\n",
    "                plt.vlines(x=num,\n",
    "                           ymin = 0, ymax = ymax, color='dimgrey',\n",
    "                           linestyle = 'solid',label=f'{num}')\n",
    "        plt.title(f'histogram: {col}',fontsize=18)\n",
    "        plt.ylabel(ylabel, fontsize=10)\n",
    "        plt.xlabel(xlabel, fontsize=10)\n",
    "        plt.legend(fontsize=10);\n",
    "        # plt.savefig('../plots/corr_heatmap.png');"
   ]
  },
  {
   "cell_type": "code",
   "execution_count": null,
   "metadata": {},
   "outputs": [],
   "source": []
  },
  {
   "cell_type": "code",
   "execution_count": null,
   "metadata": {},
   "outputs": [],
   "source": []
  },
  {
   "cell_type": "markdown",
   "metadata": {},
   "source": [
    "## 2. Model Preparation & Pre-Processing"
   ]
  },
  {
   "cell_type": "markdown",
   "metadata": {},
   "source": [
    "- For now, we will be using only the `train` dataset, and we will use the `test` dataset once we've identified the best model to generate predictions & submit to kaggle.\n",
    "- For the `train` dataset, we will split this into `train` (subset) and `validation` using the `train_test_split`, and we will also use cross validation (5-folds). "
   ]
  },
  {
   "cell_type": "code",
   "execution_count": 13,
   "metadata": {},
   "outputs": [],
   "source": [
    "# assign features:\n",
    "\n",
    "train_features = (col for col in train._get_numeric_data().columns if col != 'saleprice')\n"
   ]
  },
  {
   "cell_type": "code",
   "execution_count": 14,
   "metadata": {},
   "outputs": [],
   "source": [
    "X = train[train_features]\n",
    "y = train['saleprice']\n"
   ]
  },
  {
   "cell_type": "code",
   "execution_count": 15,
   "metadata": {},
   "outputs": [],
   "source": [
    "# Train-Validation Split, using 25% default value for validation\n",
    "\n",
    "X_train, X_validation, y_train, y_validation = train_test_split(X,y,random_state=42)  "
   ]
  },
  {
   "cell_type": "code",
   "execution_count": 16,
   "metadata": {},
   "outputs": [],
   "source": [
    "# Scaling is needed as we have different units of measures (i.e. sqft, rooms, ordinal scales, etc)\n",
    "\n",
    "ss = StandardScaler()\n",
    "X_train_scaled = ss.fit_transform(X_train)\n",
    "X_validation_scaled = ss.transform(X_validation)"
   ]
  },
  {
   "cell_type": "code",
   "execution_count": 17,
   "metadata": {},
   "outputs": [],
   "source": [
    "# assign for test\n",
    "\n",
    "# test_features = (col for col in test._get_numeric_data().columns)\n",
    "# X_test = test[test_features]\n",
    "# X_test_scaled = ss.transform(X_test)"
   ]
  },
  {
   "cell_type": "markdown",
   "metadata": {},
   "source": [
    "## 3. Building & Evaluating Models\n",
    "\n",
    "\n",
    "## <span style='color:teal'>Round 1:  Linear Regression, Lasso, Ridge, and Elastic Net</span>"
   ]
  },
  {
   "cell_type": "markdown",
   "metadata": {},
   "source": [
    "### 3.1.1 Linear Regression"
   ]
  },
  {
   "cell_type": "markdown",
   "metadata": {},
   "source": [
    "- The first model is linear regression, using all the 162 features.\n",
    "- **Evaluate the model:**\n",
    "  - This model performs well on the train dataset with root mean square error of 24,012.22, and $Adjusted-R{^2}$ of 0.89.  -->  **Low Bias**\n",
    "  - However, the model has a very high variance and does not generalise will wtih unseen data. --> **High Variance**\n",
    "    - $Adjusted-R{^2}$ decreased significantly from 0.99 for the training dataset, to -2.1304868746228192e+17 when fitted to the validation dataset, and the $R{^2}$ for 5k cross validation -1.1607115878829397e+24. \n",
    "    - The root mean squared error on the validation dataset also increased significantly 1.0368375826957771e+27 !!!\n",
    "  - This model is highly **overfitting**, hence we will explore regularizations in the next sections.\n",
    "  - We will not be using **polynomial features** in this case because the model is already **overfitting** but will focus more on **feature selection**.\n",
    "- **Performance vs. baseline model:**\n",
    "  - The baseline model assumes that we use the mean of y_train `'saleprice'` in the training set to predict the validations.  This will result in $R{^2}$ = 1.  Since our model has negative $R{^2}$, we can evaluate that this linear regression is performing worse than the baseline model, which is just using the mean to predict the `'saleprice'`.\n",
    "  \n",
    "*Note: model comparisons & analysis in the end after Elastic Net*"
   ]
  },
  {
   "cell_type": "code",
   "execution_count": 18,
   "metadata": {},
   "outputs": [],
   "source": [
    "# instantiate the model\n",
    "\n",
    "lr_1 = LinearRegression()"
   ]
  },
  {
   "cell_type": "code",
   "execution_count": 19,
   "metadata": {
    "scrolled": true
   },
   "outputs": [
    {
     "data": {
      "text/plain": [
       "LinearRegression()"
      ]
     },
     "execution_count": 19,
     "metadata": {},
     "output_type": "execute_result"
    }
   ],
   "source": [
    "# fit model to data\n",
    "\n",
    "lr_1.fit(X_train_scaled,y_train)"
   ]
  },
  {
   "cell_type": "code",
   "execution_count": 20,
   "metadata": {},
   "outputs": [],
   "source": [
    "# Generate predictions\n",
    "\n",
    "y_train_preds = lr_1.predict(X_train_scaled)\n",
    "y_validation_preds = lr_1.predict(X_validation_scaled)"
   ]
  },
  {
   "cell_type": "code",
   "execution_count": 21,
   "metadata": {},
   "outputs": [
    {
     "data": {
      "text/plain": [
       "0.9039888025851408"
      ]
     },
     "execution_count": 21,
     "metadata": {},
     "output_type": "execute_result"
    }
   ],
   "source": [
    "metrics.r2_score(y_train,y_train_preds)"
   ]
  },
  {
   "cell_type": "markdown",
   "metadata": {},
   "source": [
    "#### Evaluate the model"
   ]
  },
  {
   "cell_type": "code",
   "execution_count": 22,
   "metadata": {},
   "outputs": [],
   "source": [
    "# Training\n",
    "\n",
    "R2_train = lr_1.score(X_train_scaled, y_train)\n",
    "MSE_train = metrics.mean_squared_error(y_train, y_train_preds)\n",
    "RMSE_train = np.sqrt(MSE_train)"
   ]
  },
  {
   "cell_type": "code",
   "execution_count": 23,
   "metadata": {},
   "outputs": [],
   "source": [
    "# Cross-validation \n",
    "\n",
    "R2_CV5 = cross_val_score(lr_1, X_train_scaled, y_train, cv=5).mean()\n",
    "MSE_CV5 = abs(cross_val_score(lr_1, X_train_scaled, y_train, cv=5, scoring='neg_mean_squared_error')).mean()\n",
    "RMSE_CV5 = np.sqrt(MSE_CV5)"
   ]
  },
  {
   "cell_type": "code",
   "execution_count": 24,
   "metadata": {
    "scrolled": true
   },
   "outputs": [],
   "source": [
    "# Prediction on Validation data\n",
    "\n",
    "R2_validation = lr_1.score(X_validation_scaled, y_validation)\n",
    "MSE_validation = metrics.mean_squared_error(y_validation, y_validation_preds)\n",
    "RMSE_validation = np.sqrt(MSE_validation)"
   ]
  },
  {
   "cell_type": "code",
   "execution_count": 25,
   "metadata": {
    "scrolled": true
   },
   "outputs": [
    {
     "name": "stdout",
     "output_type": "stream",
     "text": [
      "training: \n",
      "R2 = 0.9039888025851408\n",
      "MSE = 576586451.1274039\n",
      "RMSE = 24012.214623549487\n",
      "\n",
      "cross-validation: \n",
      "R2 = -1.1607115878829397e+24\n",
      "MSE = 7.595745915756341e+33\n",
      "RMSE = 8.715357660908898e+16\n",
      "\n",
      "validation: \n",
      "R2 = -1.4605485692490448e+17\n",
      "MSE = 1.0368375472881922e+27\n",
      "RMSE = 32199961914390.4\n",
      "\n"
     ]
    }
   ],
   "source": [
    "# Print Summary Scores\n",
    "\n",
    "pd.set_option('display.float_format', lambda x: '%.5f' % x)\n",
    "\n",
    "print(f'training: \\nR2 = {R2_train}\\nMSE = {MSE_train}\\nRMSE = {RMSE_train}\\n')\n",
    "print(f'cross-validation: \\nR2 = {R2_CV5}\\nMSE = {MSE_CV5}\\nRMSE = {RMSE_CV5}\\n')\n",
    "print(f'validation: \\nR2 = {R2_validation}\\nMSE = {MSE_validation}\\nRMSE = {RMSE_validation}\\n')"
   ]
  },
  {
   "cell_type": "markdown",
   "metadata": {},
   "source": [
    "#### Key Metrics:  This will be summarized across different models"
   ]
  },
  {
   "cell_type": "code",
   "execution_count": 26,
   "metadata": {
    "scrolled": true
   },
   "outputs": [
    {
     "name": "stdout",
     "output_type": "stream",
     "text": [
      "Model                   =  linear_1 - train-subset\n",
      "Mean squared error      =  576586451.1274039\n",
      "Root mean squared error =  24012.214623549487\n",
      "Median absolute error   =  11634.993427878551\n",
      "R^2                     =  0.9039888025851408\n",
      "Adjusted R^2            =  0.8927385822184797\n"
     ]
    }
   ],
   "source": [
    "# metrics for y_train\n",
    "\n",
    "evaluate_model('linear_1','train-subset', y_train, y_train_preds, X.shape[1])"
   ]
  },
  {
   "cell_type": "code",
   "execution_count": 27,
   "metadata": {},
   "outputs": [
    {
     "name": "stdout",
     "output_type": "stream",
     "text": [
      "Model                   =  linear_1 - validation\n",
      "Mean squared error      =  1.0368375472881922e+27\n",
      "Root mean squared error =  32199961914390.4\n",
      "Median absolute error   =  15423.943368822802\n",
      "R^2                     =  -1.4605485692490448e+17\n",
      "Adjusted R^2            =  -2.1304868018675523e+17\n"
     ]
    }
   ],
   "source": [
    "# metrics for y_validation\n",
    "\n",
    "evaluate_model('linear_1','validation', y_validation, y_validation_preds, X.shape[1])"
   ]
  },
  {
   "cell_type": "markdown",
   "metadata": {},
   "source": [
    "### 3.1.2 LASSO Regression"
   ]
  },
  {
   "cell_type": "markdown",
   "metadata": {},
   "source": [
    "- From the Linear Regression, the model was overfitting, and since we have high number of predictors, let's try Lasso for regularization to add penalty term, and help reduce the number of predictors as well.\n",
    "- The Lasso improved the model significantly in terms of performance on unseen data.\n",
    "  - $R{^2}$ of 0.85664 for 5k cross validation.\n",
    "  - $Adjusted-R{^2}$ is closer between the train (0.84727) and validation (0.81405) datasets, giving closer predictions on unseen data. \n",
    "- The slight trade-off here is small increase in bias vs. Linear Regression.\n",
    "\n",
    "*Note: model comparisons & analysis in the end after Elastic Net*\n"
   ]
  },
  {
   "cell_type": "code",
   "execution_count": 28,
   "metadata": {},
   "outputs": [
    {
     "name": "stdout",
     "output_type": "stream",
     "text": [
      "589.8225974396063\n"
     ]
    }
   ],
   "source": [
    "# Find optimal lasso alpha \n",
    "\n",
    "optimal_lasso = LassoCV(n_alphas=500, cv=5) #, verbose=1)    \n",
    "optimal_lasso.fit(X_train_scaled, y_train)\n",
    "print (optimal_lasso.alpha_)"
   ]
  },
  {
   "cell_type": "code",
   "execution_count": 29,
   "metadata": {
    "scrolled": true
   },
   "outputs": [
    {
     "name": "stdout",
     "output_type": "stream",
     "text": [
      "[0.90375964 0.89419522 0.86834805 0.8909903  0.72592168]\n",
      "0.8566429778763833\n"
     ]
    }
   ],
   "source": [
    "# Cross validate Lasso scores with the optimal alpha \n",
    "\n",
    "lasso = Lasso(alpha=optimal_lasso.alpha_)\n",
    "\n",
    "lasso_scores = cross_val_score(lasso, X_train_scaled, y_train, cv=5)\n",
    "\n",
    "print (lasso_scores)\n",
    "print (np.mean(lasso_scores))\n",
    "\n"
   ]
  },
  {
   "cell_type": "code",
   "execution_count": 30,
   "metadata": {},
   "outputs": [
    {
     "data": {
      "text/plain": [
       "Lasso(alpha=589.8225974396063)"
      ]
     },
     "execution_count": 30,
     "metadata": {},
     "output_type": "execute_result"
    }
   ],
   "source": [
    "lasso.fit(X_train, y_train)\n"
   ]
  },
  {
   "cell_type": "code",
   "execution_count": 31,
   "metadata": {},
   "outputs": [],
   "source": [
    "lasso_y_preds_train = lasso.predict(X_train)\n"
   ]
  },
  {
   "cell_type": "code",
   "execution_count": 32,
   "metadata": {},
   "outputs": [],
   "source": [
    "lasso_y_preds_validation = lasso.predict(X_validation)\n"
   ]
  },
  {
   "cell_type": "code",
   "execution_count": 33,
   "metadata": {},
   "outputs": [
    {
     "name": "stdout",
     "output_type": "stream",
     "text": [
      "Model                   =  lasso_1 - train-subset\n",
      "Mean squared error      =  821030001.5139595\n",
      "Root mean squared error =  28653.621089034445\n",
      "Median absolute error   =  13564.806964243602\n",
      "R^2                     =  0.8632849013279\n",
      "Adjusted R^2            =  0.8472651554136292\n"
     ]
    }
   ],
   "source": [
    "evaluate_model('lasso_1','train-subset', y_train, lasso_y_preds_train, X.shape[1])\n"
   ]
  },
  {
   "cell_type": "code",
   "execution_count": 34,
   "metadata": {},
   "outputs": [
    {
     "name": "stdout",
     "output_type": "stream",
     "text": [
      "Model                   =  lasso_1 - validation\n",
      "Mean squared error      =  904960206.3381426\n",
      "Root mean squared error =  30082.556512672632\n",
      "Median absolute error   =  15153.59556903856\n",
      "R^2                     =  0.8725221382991531\n",
      "Adjusted R^2            =  0.814049386920702\n"
     ]
    }
   ],
   "source": [
    "evaluate_model('lasso_1','validation', y_validation, lasso_y_preds_validation, X.shape[1])\n"
   ]
  },
  {
   "cell_type": "code",
   "execution_count": null,
   "metadata": {},
   "outputs": [],
   "source": []
  },
  {
   "cell_type": "markdown",
   "metadata": {},
   "source": [
    "### 3.1.3 RIDGE Regression"
   ]
  },
  {
   "cell_type": "markdown",
   "metadata": {},
   "source": [
    "- Next, we'll explore Ridge for regularization.  \n",
    "- Ridge also improved the model vs. Linear Regression in terms of performance on unseen data, however Lasso generated slightly better predictions on unseen data based on $Adjusted-R{^2}$ (all are >0.8 for both Ridge & Lasso for train and validation datasets.\n",
    "- The root-mean-squared error is less than that of Lasso for both train (25,382) and validation (29,937).\n",
    "- Similar to Lasso, the slight trade-off here is the increase in bias vs. Linear Regression.\n",
    "\n",
    "*Note: model comparisons & analysis in the end after Elastic Net*\n"
   ]
  },
  {
   "cell_type": "code",
   "execution_count": 35,
   "metadata": {},
   "outputs": [
    {
     "name": "stdout",
     "output_type": "stream",
     "text": [
      "488.02515836544336\n"
     ]
    }
   ],
   "source": [
    "# Find optimal ridge alpha\n",
    "\n",
    "ridge_alphas = np.logspace(0, 5, 200)\n",
    "\n",
    "optimal_ridge = RidgeCV(alphas=ridge_alphas, cv=10)\n",
    "optimal_ridge.fit(X_train_scaled, y_train)\n",
    "\n",
    "print (optimal_ridge.alpha_)"
   ]
  },
  {
   "cell_type": "code",
   "execution_count": 36,
   "metadata": {},
   "outputs": [
    {
     "name": "stdout",
     "output_type": "stream",
     "text": [
      "[0.91039467 0.90011814 0.89074936 0.90168417 0.81702469 0.88016992\n",
      " 0.91160237 0.87734247 0.65322461 0.86031519]\n",
      "0.8602625593258972\n"
     ]
    }
   ],
   "source": [
    "ridge = Ridge(alpha=optimal_ridge.alpha_)\n",
    "\n",
    "ridge_scores = cross_val_score(ridge, X_train_scaled, y_train, cv=10)\n",
    "\n",
    "print (ridge_scores)\n",
    "print (np.mean(ridge_scores))"
   ]
  },
  {
   "cell_type": "code",
   "execution_count": 37,
   "metadata": {},
   "outputs": [
    {
     "data": {
      "text/plain": [
       "Ridge(alpha=488.02515836544336)"
      ]
     },
     "execution_count": 37,
     "metadata": {},
     "output_type": "execute_result"
    }
   ],
   "source": [
    "ridge.fit(X_train_scaled, y_train)"
   ]
  },
  {
   "cell_type": "code",
   "execution_count": 38,
   "metadata": {},
   "outputs": [],
   "source": [
    "ridge_y_preds_train = ridge.predict(X_train_scaled)"
   ]
  },
  {
   "cell_type": "code",
   "execution_count": 39,
   "metadata": {},
   "outputs": [],
   "source": [
    "ridge_y_preds_validation = ridge.predict(X_validation_scaled)"
   ]
  },
  {
   "cell_type": "code",
   "execution_count": 40,
   "metadata": {},
   "outputs": [
    {
     "name": "stdout",
     "output_type": "stream",
     "text": [
      "Model                   =  ridge_1 - train-subset\n",
      "Mean squared error      =  644253322.2934536\n",
      "Root mean squared error =  25382.145738559095\n",
      "Median absolute error   =  11085.608511866332\n",
      "R^2                     =  0.8927211473822372\n",
      "Adjusted R^2            =  0.880150626806211\n"
     ]
    }
   ],
   "source": [
    "evaluate_model('ridge_1','train-subset', y_train, ridge_y_preds_train, X.shape[1])"
   ]
  },
  {
   "cell_type": "code",
   "execution_count": 41,
   "metadata": {},
   "outputs": [
    {
     "name": "stdout",
     "output_type": "stream",
     "text": [
      "Model                   =  ridge_1 - validation\n",
      "Mean squared error      =  896254862.6039386\n",
      "Root mean squared error =  29937.51597250411\n",
      "Median absolute error   =  14398.896065415058\n",
      "R^2                     =  0.8737484227223077\n",
      "Adjusted R^2            =  0.8158381550821125\n"
     ]
    }
   ],
   "source": [
    "evaluate_model('ridge_1', 'validation', y_validation, ridge_y_preds_validation, X.shape[1])"
   ]
  },
  {
   "cell_type": "markdown",
   "metadata": {},
   "source": [
    "### 3.1.4 ELASTICNET Regression"
   ]
  },
  {
   "cell_type": "markdown",
   "metadata": {},
   "source": [
    "- The optimal values for l1-ratio (based on linspace) is 1, which is the same as Lasso, with the difference being the alpha 501.0169243613495  (vs. 589.8225974396063 from previous Lasso Modelling.\n",
    "- Summary with comparisons of all models will be in the following section.\n"
   ]
  },
  {
   "cell_type": "code",
   "execution_count": 42,
   "metadata": {},
   "outputs": [
    {
     "name": "stdout",
     "output_type": "stream",
     "text": [
      "501.0169243613495\n",
      "1.0\n"
     ]
    }
   ],
   "source": [
    "\n",
    "l1_ratios = np.linspace(0.01, 1.0, 25)\n",
    "\n",
    "optimal_enet = ElasticNetCV(l1_ratio=l1_ratios, n_alphas=100, cv=10) #, verbose=1)   \n",
    "optimal_enet.fit(X_train_scaled, y_train)\n",
    "\n",
    "print (optimal_enet.alpha_)\n",
    "print (optimal_enet.l1_ratio_)"
   ]
  },
  {
   "cell_type": "code",
   "execution_count": 43,
   "metadata": {},
   "outputs": [
    {
     "name": "stdout",
     "output_type": "stream",
     "text": [
      "[0.89500272 0.88818067 0.85833091 0.88095006 0.64617501]\n",
      "0.8337278726635985\n"
     ]
    }
   ],
   "source": [
    "enet = ElasticNet(alpha=optimal_enet.alpha_, l1_ratio=optimal_enet.l1_ratio_)\n",
    "enet.fit(X_train_scaled, y_train)\n",
    "enet_scores = cross_val_score(enet, X_train, y_train, cv=5)\n",
    "\n",
    "print (enet_scores)\n",
    "print (np.mean(enet_scores))"
   ]
  },
  {
   "cell_type": "code",
   "execution_count": 44,
   "metadata": {},
   "outputs": [
    {
     "data": {
      "text/plain": [
       "0.8958503962836211"
      ]
     },
     "execution_count": 44,
     "metadata": {},
     "output_type": "execute_result"
    }
   ],
   "source": [
    "enet.score(X_train_scaled, y_train)"
   ]
  },
  {
   "cell_type": "code",
   "execution_count": 45,
   "metadata": {},
   "outputs": [
    {
     "data": {
      "text/plain": [
       "0.8810774284984569"
      ]
     },
     "execution_count": 45,
     "metadata": {},
     "output_type": "execute_result"
    }
   ],
   "source": [
    "enet.score(X_validation_scaled, y_validation)"
   ]
  },
  {
   "cell_type": "code",
   "execution_count": 46,
   "metadata": {},
   "outputs": [],
   "source": [
    "enet_y_preds_train = enet.predict(X_train_scaled)"
   ]
  },
  {
   "cell_type": "code",
   "execution_count": 47,
   "metadata": {},
   "outputs": [],
   "source": [
    "enet_y_preds_validation = enet.predict(X_validation_scaled)"
   ]
  },
  {
   "cell_type": "code",
   "execution_count": 48,
   "metadata": {},
   "outputs": [
    {
     "name": "stdout",
     "output_type": "stream",
     "text": [
      "Model                   =  enet_1 - train_subset\n",
      "Mean squared error      =  625460904.6658815\n",
      "Root mean squared error =  25009.21639447909\n",
      "Median absolute error   =  11162.133538968134\n",
      "R^2                     =  0.8958503962836211\n",
      "Adjusted R^2            =  0.8836465489776989\n"
     ]
    }
   ],
   "source": [
    "evaluate_model('enet_1','train_subset', y_train, enet_y_preds_train, X.shape[1])"
   ]
  },
  {
   "cell_type": "code",
   "execution_count": 49,
   "metadata": {
    "scrolled": true
   },
   "outputs": [
    {
     "name": "stdout",
     "output_type": "stream",
     "text": [
      "Model                   =  enet_1 - validation\n",
      "Mean squared error      =  844226545.7578189\n",
      "Root mean squared error =  29055.576844348125\n",
      "Median absolute error   =  15035.79969569936\n",
      "R^2                     =  0.8810774284984569\n",
      "Adjusted R^2            =  0.8265288985504557\n"
     ]
    }
   ],
   "source": [
    "evaluate_model('enet_1','validation',y_validation, enet_y_preds_validation, X.shape[1])"
   ]
  },
  {
   "cell_type": "markdown",
   "metadata": {},
   "source": [
    "### Round 1 : Modelling Results\n",
    "\n"
   ]
  },
  {
   "cell_type": "markdown",
   "metadata": {},
   "source": [
    "- <span style='color:darkblue'>**Linear Regression**</span> has the best score on train-subset (RMSE 24,012, Adjusted R2 0.89), however significantly **overfitting**, hence does not generalise well on the validation data with huge RMSE and negative Adjusted R2.  Negative R2 also shows that the model performed worse than the baseline (using the mean of `saleprice` for predictions.\n",
    "\n",
    "\n",
    "- <span style='color:darkblue'>**Lasso, Ridge, and ElasticNet**</span> performed similarly, with more consistent Adjusted R2 and RMSE between the train-subset and validation.  \n",
    "  - Adjusted R2's are >0.8 meaning that the majority of the variances are explained by the model, and is better than the baseline of 0 (using the mean of the `saleprice` to predict).  \n",
    "  - Root Mean Squared Error, measures the errors.  The Linear Regression has the lowest error on the train-subset (as it is overfitting), the other models generate errors between 25,009 - 30,083.  \n",
    "  - Although Ridge and ElasticNet performed better on the train-subset:  less error (RMSE) and higher accuracy (R2), but overall **Lasso is better at generalising and hence performed better on unseen data** (less variation between the train-subset and validation on both the errors (RMSE 30,082-28,653 = 1429), and accuracy (R2 0.847-0.814)\n",
    "  \n",
    "\n",
    "- <span style='color:firebrick'>**Next Steps:**</span>\n",
    "  - We will futher use Lasso in **Round 2 Modelling** to further reduce features.\n",
    "\n"
   ]
  },
  {
   "cell_type": "code",
   "execution_count": 50,
   "metadata": {},
   "outputs": [
    {
     "data": {
      "text/html": [
       "<div>\n",
       "<style scoped>\n",
       "    .dataframe tbody tr th:only-of-type {\n",
       "        vertical-align: middle;\n",
       "    }\n",
       "\n",
       "    .dataframe tbody tr th {\n",
       "        vertical-align: top;\n",
       "    }\n",
       "\n",
       "    .dataframe thead th {\n",
       "        text-align: right;\n",
       "    }\n",
       "</style>\n",
       "<table border=\"1\" class=\"dataframe\">\n",
       "  <thead>\n",
       "    <tr style=\"text-align: right;\">\n",
       "      <th></th>\n",
       "      <th>model</th>\n",
       "      <th>dataset</th>\n",
       "      <th>mean_sq_error</th>\n",
       "      <th>rt_mean_sq_error</th>\n",
       "      <th>mean_abs_error</th>\n",
       "      <th>r2</th>\n",
       "      <th>r2_adj</th>\n",
       "    </tr>\n",
       "  </thead>\n",
       "  <tbody>\n",
       "    <tr>\n",
       "      <th>0</th>\n",
       "      <td>linear_1</td>\n",
       "      <td>train-subset</td>\n",
       "      <td>576586451.12740</td>\n",
       "      <td>24012.21462</td>\n",
       "      <td>11634.99343</td>\n",
       "      <td>0.90399</td>\n",
       "      <td>0.89274</td>\n",
       "    </tr>\n",
       "    <tr>\n",
       "      <th>1</th>\n",
       "      <td>linear_1</td>\n",
       "      <td>validation</td>\n",
       "      <td>1036837547288192206378106880.00000</td>\n",
       "      <td>32199961914390.39844</td>\n",
       "      <td>15423.94337</td>\n",
       "      <td>-146054856924904480.00000</td>\n",
       "      <td>-213048680186755232.00000</td>\n",
       "    </tr>\n",
       "    <tr>\n",
       "      <th>2</th>\n",
       "      <td>lasso_1</td>\n",
       "      <td>train-subset</td>\n",
       "      <td>821030001.51396</td>\n",
       "      <td>28653.62109</td>\n",
       "      <td>13564.80696</td>\n",
       "      <td>0.86328</td>\n",
       "      <td>0.84727</td>\n",
       "    </tr>\n",
       "    <tr>\n",
       "      <th>3</th>\n",
       "      <td>lasso_1</td>\n",
       "      <td>validation</td>\n",
       "      <td>904960206.33814</td>\n",
       "      <td>30082.55651</td>\n",
       "      <td>15153.59557</td>\n",
       "      <td>0.87252</td>\n",
       "      <td>0.81405</td>\n",
       "    </tr>\n",
       "    <tr>\n",
       "      <th>4</th>\n",
       "      <td>ridge_1</td>\n",
       "      <td>train-subset</td>\n",
       "      <td>644253322.29345</td>\n",
       "      <td>25382.14574</td>\n",
       "      <td>11085.60851</td>\n",
       "      <td>0.89272</td>\n",
       "      <td>0.88015</td>\n",
       "    </tr>\n",
       "    <tr>\n",
       "      <th>5</th>\n",
       "      <td>ridge_1</td>\n",
       "      <td>validation</td>\n",
       "      <td>896254862.60394</td>\n",
       "      <td>29937.51597</td>\n",
       "      <td>14398.89607</td>\n",
       "      <td>0.87375</td>\n",
       "      <td>0.81584</td>\n",
       "    </tr>\n",
       "    <tr>\n",
       "      <th>6</th>\n",
       "      <td>enet_1</td>\n",
       "      <td>train_subset</td>\n",
       "      <td>625460904.66588</td>\n",
       "      <td>25009.21639</td>\n",
       "      <td>11162.13354</td>\n",
       "      <td>0.89585</td>\n",
       "      <td>0.88365</td>\n",
       "    </tr>\n",
       "    <tr>\n",
       "      <th>7</th>\n",
       "      <td>enet_1</td>\n",
       "      <td>validation</td>\n",
       "      <td>844226545.75782</td>\n",
       "      <td>29055.57684</td>\n",
       "      <td>15035.79970</td>\n",
       "      <td>0.88108</td>\n",
       "      <td>0.82653</td>\n",
       "    </tr>\n",
       "  </tbody>\n",
       "</table>\n",
       "</div>"
      ],
      "text/plain": [
       "      model       dataset                      mean_sq_error  \\\n",
       "0  linear_1  train-subset                    576586451.12740   \n",
       "1  linear_1    validation 1036837547288192206378106880.00000   \n",
       "2   lasso_1  train-subset                    821030001.51396   \n",
       "3   lasso_1    validation                    904960206.33814   \n",
       "4   ridge_1  train-subset                    644253322.29345   \n",
       "5   ridge_1    validation                    896254862.60394   \n",
       "6    enet_1  train_subset                    625460904.66588   \n",
       "7    enet_1    validation                    844226545.75782   \n",
       "\n",
       "      rt_mean_sq_error  mean_abs_error                        r2  \\\n",
       "0          24012.21462     11634.99343                   0.90399   \n",
       "1 32199961914390.39844     15423.94337 -146054856924904480.00000   \n",
       "2          28653.62109     13564.80696                   0.86328   \n",
       "3          30082.55651     15153.59557                   0.87252   \n",
       "4          25382.14574     11085.60851                   0.89272   \n",
       "5          29937.51597     14398.89607                   0.87375   \n",
       "6          25009.21639     11162.13354                   0.89585   \n",
       "7          29055.57684     15035.79970                   0.88108   \n",
       "\n",
       "                     r2_adj  \n",
       "0                   0.89274  \n",
       "1 -213048680186755232.00000  \n",
       "2                   0.84727  \n",
       "3                   0.81405  \n",
       "4                   0.88015  \n",
       "5                   0.81584  \n",
       "6                   0.88365  \n",
       "7                   0.82653  "
      ]
     },
     "execution_count": 50,
     "metadata": {},
     "output_type": "execute_result"
    }
   ],
   "source": [
    "summary_model_evaluations = pd.DataFrame(model_evaluations)\n",
    "round(summary_model_evaluations,5)"
   ]
  },
  {
   "cell_type": "markdown",
   "metadata": {},
   "source": [
    "## <span style='color:teal'>Round 2:  Lasso modelling & feature selection</span>"
   ]
  },
  {
   "cell_type": "markdown",
   "metadata": {},
   "source": [
    "From the selected Lasso model from round 1 (alpha=589.8225974396063), let's look at the coefficients"
   ]
  },
  {
   "cell_type": "code",
   "execution_count": 51,
   "metadata": {
    "scrolled": true
   },
   "outputs": [
    {
     "data": {
      "text/html": [
       "<div>\n",
       "<style scoped>\n",
       "    .dataframe tbody tr th:only-of-type {\n",
       "        vertical-align: middle;\n",
       "    }\n",
       "\n",
       "    .dataframe tbody tr th {\n",
       "        vertical-align: top;\n",
       "    }\n",
       "\n",
       "    .dataframe thead th {\n",
       "        text-align: right;\n",
       "    }\n",
       "</style>\n",
       "<table border=\"1\" class=\"dataframe\">\n",
       "  <thead>\n",
       "    <tr style=\"text-align: right;\">\n",
       "      <th></th>\n",
       "      <th>variable</th>\n",
       "      <th>coef</th>\n",
       "      <th>abs_coef</th>\n",
       "    </tr>\n",
       "  </thead>\n",
       "  <tbody>\n",
       "    <tr>\n",
       "      <th>77</th>\n",
       "      <td>neighborhood_NridgHt</td>\n",
       "      <td>16637.10057</td>\n",
       "      <td>16637.10057</td>\n",
       "    </tr>\n",
       "    <tr>\n",
       "      <th>3</th>\n",
       "      <td>overall_qual</td>\n",
       "      <td>10943.68507</td>\n",
       "      <td>10943.68507</td>\n",
       "    </tr>\n",
       "    <tr>\n",
       "      <th>83</th>\n",
       "      <td>neighborhood_StoneBr</td>\n",
       "      <td>9867.93726</td>\n",
       "      <td>9867.93726</td>\n",
       "    </tr>\n",
       "    <tr>\n",
       "      <th>5</th>\n",
       "      <td>exter_qual</td>\n",
       "      <td>9599.93785</td>\n",
       "      <td>9599.93785</td>\n",
       "    </tr>\n",
       "    <tr>\n",
       "      <th>16</th>\n",
       "      <td>kitchen_qual</td>\n",
       "      <td>9069.24781</td>\n",
       "      <td>9069.24781</td>\n",
       "    </tr>\n",
       "  </tbody>\n",
       "</table>\n",
       "</div>"
      ],
      "text/plain": [
       "                variable        coef    abs_coef\n",
       "77  neighborhood_NridgHt 16637.10057 16637.10057\n",
       "3           overall_qual 10943.68507 10943.68507\n",
       "83  neighborhood_StoneBr  9867.93726  9867.93726\n",
       "5             exter_qual  9599.93785  9599.93785\n",
       "16          kitchen_qual  9069.24781  9069.24781"
      ]
     },
     "execution_count": 51,
     "metadata": {},
     "output_type": "execute_result"
    }
   ],
   "source": [
    "# Summarize all the lasso_coefficients into a Data Frame\n",
    "\n",
    "lasso_coefs = pd.DataFrame({'variable':X_train.columns,\n",
    "                            'coef':lasso.coef_,\n",
    "                            'abs_coef':np.abs(lasso.coef_)})\n",
    "\n",
    "lasso_coefs.sort_values('abs_coef', inplace=True, ascending=False)\n",
    "\n",
    "lasso_coefs.head()\n"
   ]
  },
  {
   "cell_type": "markdown",
   "metadata": {},
   "source": [
    "### Analysis of coefficients from Lasso Model\n",
    "\n",
    "\n",
    "**1. Features \"zeroed out\" = 126**"
   ]
  },
  {
   "cell_type": "code",
   "execution_count": 52,
   "metadata": {
    "scrolled": false
   },
   "outputs": [
    {
     "data": {
      "text/html": [
       "<div>\n",
       "<style scoped>\n",
       "    .dataframe tbody tr th:only-of-type {\n",
       "        vertical-align: middle;\n",
       "    }\n",
       "\n",
       "    .dataframe tbody tr th {\n",
       "        vertical-align: top;\n",
       "    }\n",
       "\n",
       "    .dataframe thead th {\n",
       "        text-align: right;\n",
       "    }\n",
       "</style>\n",
       "<table border=\"1\" class=\"dataframe\">\n",
       "  <thead>\n",
       "    <tr style=\"text-align: right;\">\n",
       "      <th></th>\n",
       "      <th>variable</th>\n",
       "      <th>coef</th>\n",
       "      <th>abs_coef</th>\n",
       "    </tr>\n",
       "  </thead>\n",
       "  <tbody>\n",
       "    <tr>\n",
       "      <th>105</th>\n",
       "      <td>roof_style_Gable</td>\n",
       "      <td>-0.00000</td>\n",
       "      <td>0.00000</td>\n",
       "    </tr>\n",
       "    <tr>\n",
       "      <th>114</th>\n",
       "      <td>exterior_1st_CemntBd</td>\n",
       "      <td>0.00000</td>\n",
       "      <td>0.00000</td>\n",
       "    </tr>\n",
       "    <tr>\n",
       "      <th>122</th>\n",
       "      <td>exterior_1st_Wd Sdng</td>\n",
       "      <td>-0.00000</td>\n",
       "      <td>0.00000</td>\n",
       "    </tr>\n",
       "    <tr>\n",
       "      <th>121</th>\n",
       "      <td>exterior_1st_VinylSd</td>\n",
       "      <td>0.00000</td>\n",
       "      <td>0.00000</td>\n",
       "    </tr>\n",
       "    <tr>\n",
       "      <th>120</th>\n",
       "      <td>exterior_1st_Stucco</td>\n",
       "      <td>-0.00000</td>\n",
       "      <td>0.00000</td>\n",
       "    </tr>\n",
       "    <tr>\n",
       "      <th>...</th>\n",
       "      <td>...</td>\n",
       "      <td>...</td>\n",
       "      <td>...</td>\n",
       "    </tr>\n",
       "    <tr>\n",
       "      <th>63</th>\n",
       "      <td>neighborhood_CollgCr</td>\n",
       "      <td>-0.00000</td>\n",
       "      <td>0.00000</td>\n",
       "    </tr>\n",
       "    <tr>\n",
       "      <th>62</th>\n",
       "      <td>neighborhood_ClearCr</td>\n",
       "      <td>0.00000</td>\n",
       "      <td>0.00000</td>\n",
       "    </tr>\n",
       "    <tr>\n",
       "      <th>61</th>\n",
       "      <td>neighborhood_BrkSide</td>\n",
       "      <td>0.00000</td>\n",
       "      <td>0.00000</td>\n",
       "    </tr>\n",
       "    <tr>\n",
       "      <th>60</th>\n",
       "      <td>neighborhood_BrDale</td>\n",
       "      <td>-0.00000</td>\n",
       "      <td>0.00000</td>\n",
       "    </tr>\n",
       "    <tr>\n",
       "      <th>160</th>\n",
       "      <td>sale_type_WD</td>\n",
       "      <td>-0.00000</td>\n",
       "      <td>0.00000</td>\n",
       "    </tr>\n",
       "  </tbody>\n",
       "</table>\n",
       "<p>126 rows × 3 columns</p>\n",
       "</div>"
      ],
      "text/plain": [
       "                 variable     coef  abs_coef\n",
       "105      roof_style_Gable -0.00000   0.00000\n",
       "114  exterior_1st_CemntBd  0.00000   0.00000\n",
       "122  exterior_1st_Wd Sdng -0.00000   0.00000\n",
       "121  exterior_1st_VinylSd  0.00000   0.00000\n",
       "120   exterior_1st_Stucco -0.00000   0.00000\n",
       "..                    ...      ...       ...\n",
       "63   neighborhood_CollgCr -0.00000   0.00000\n",
       "62   neighborhood_ClearCr  0.00000   0.00000\n",
       "61   neighborhood_BrkSide  0.00000   0.00000\n",
       "60    neighborhood_BrDale -0.00000   0.00000\n",
       "160         sale_type_WD  -0.00000   0.00000\n",
       "\n",
       "[126 rows x 3 columns]"
      ]
     },
     "execution_count": 52,
     "metadata": {},
     "output_type": "execute_result"
    }
   ],
   "source": [
    "# There are 126 features that has been zeroed out from our initial Lasso model!!\n",
    "\n",
    "lasso_coefs[(lasso_coefs.abs_coef == 0)]"
   ]
  },
  {
   "cell_type": "code",
   "execution_count": 53,
   "metadata": {},
   "outputs": [],
   "source": [
    "# save list of cols_to_drop to apply to train & test datasets.\n",
    "\n",
    "cols_to_drop = lasso_coefs[(lasso_coefs.abs_coef == 0)]['variable'].values.tolist()"
   ]
  },
  {
   "cell_type": "code",
   "execution_count": 54,
   "metadata": {},
   "outputs": [
    {
     "data": {
      "text/plain": [
       "(35, 3)"
      ]
     },
     "execution_count": 54,
     "metadata": {},
     "output_type": "execute_result"
    }
   ],
   "source": [
    "# drop the zero coefs from the lasso_coefs list\n",
    "\n",
    "drop_index = lasso_coefs[(lasso_coefs.abs_coef == 0)].index\n",
    "lasso_coefs.drop(index=drop_index, inplace=True)\n",
    "lasso_coefs.shape"
   ]
  },
  {
   "cell_type": "markdown",
   "metadata": {},
   "source": [
    "**2. Remaining features = 34** \n",
    "\n",
    "- <span style='color:mediumblue'>**Remodelling 1: All remaining 34 features**</span>\n",
    "- Total of 35, but we will exclude 'id' from the modelling.  This is for identification only, and to keep consistent with test (which we will need 'id' for submission). "
   ]
  },
  {
   "cell_type": "code",
   "execution_count": 55,
   "metadata": {},
   "outputs": [
    {
     "data": {
      "text/plain": [
       "variable    35\n",
       "coef        35\n",
       "abs_coef    35\n",
       "dtype: int64"
      ]
     },
     "execution_count": 55,
     "metadata": {},
     "output_type": "execute_result"
    }
   ],
   "source": [
    "lasso_coefs[~(lasso_coefs.abs_coef == 0)].count()"
   ]
  },
  {
   "cell_type": "code",
   "execution_count": 56,
   "metadata": {},
   "outputs": [
    {
     "data": {
      "text/html": [
       "<div>\n",
       "<style scoped>\n",
       "    .dataframe tbody tr th:only-of-type {\n",
       "        vertical-align: middle;\n",
       "    }\n",
       "\n",
       "    .dataframe tbody tr th {\n",
       "        vertical-align: top;\n",
       "    }\n",
       "\n",
       "    .dataframe thead th {\n",
       "        text-align: right;\n",
       "    }\n",
       "</style>\n",
       "<table border=\"1\" class=\"dataframe\">\n",
       "  <thead>\n",
       "    <tr style=\"text-align: right;\">\n",
       "      <th></th>\n",
       "      <th>variable</th>\n",
       "      <th>coef</th>\n",
       "      <th>abs_coef</th>\n",
       "    </tr>\n",
       "  </thead>\n",
       "  <tbody>\n",
       "    <tr>\n",
       "      <th>77</th>\n",
       "      <td>neighborhood_NridgHt</td>\n",
       "      <td>16637.10057</td>\n",
       "      <td>16637.10057</td>\n",
       "    </tr>\n",
       "    <tr>\n",
       "      <th>3</th>\n",
       "      <td>overall_qual</td>\n",
       "      <td>10943.68507</td>\n",
       "      <td>10943.68507</td>\n",
       "    </tr>\n",
       "  </tbody>\n",
       "</table>\n",
       "</div>"
      ],
      "text/plain": [
       "                variable        coef    abs_coef\n",
       "77  neighborhood_NridgHt 16637.10057 16637.10057\n",
       "3           overall_qual 10943.68507 10943.68507"
      ]
     },
     "execution_count": 56,
     "metadata": {},
     "output_type": "execute_result"
    }
   ],
   "source": [
    "lasso_coefs[~(lasso_coefs.abs_coef == 0)].head(2)"
   ]
  },
  {
   "cell_type": "code",
   "execution_count": 57,
   "metadata": {
    "scrolled": false
   },
   "outputs": [
    {
     "data": {
      "text/html": [
       "<div>\n",
       "<style scoped>\n",
       "    .dataframe tbody tr th:only-of-type {\n",
       "        vertical-align: middle;\n",
       "    }\n",
       "\n",
       "    .dataframe tbody tr th {\n",
       "        vertical-align: top;\n",
       "    }\n",
       "\n",
       "    .dataframe thead th {\n",
       "        text-align: right;\n",
       "    }\n",
       "</style>\n",
       "<table border=\"1\" class=\"dataframe\">\n",
       "  <thead>\n",
       "    <tr style=\"text-align: right;\">\n",
       "      <th></th>\n",
       "      <th>variable</th>\n",
       "      <th>coef</th>\n",
       "      <th>abs_coef</th>\n",
       "    </tr>\n",
       "  </thead>\n",
       "  <tbody>\n",
       "    <tr>\n",
       "      <th>1</th>\n",
       "      <td>lot_area</td>\n",
       "      <td>0.52950</td>\n",
       "      <td>0.52950</td>\n",
       "    </tr>\n",
       "    <tr>\n",
       "      <th>0</th>\n",
       "      <td>id</td>\n",
       "      <td>-0.44416</td>\n",
       "      <td>0.44416</td>\n",
       "    </tr>\n",
       "  </tbody>\n",
       "</table>\n",
       "</div>"
      ],
      "text/plain": [
       "   variable     coef  abs_coef\n",
       "1  lot_area  0.52950   0.52950\n",
       "0        id -0.44416   0.44416"
      ]
     },
     "execution_count": 57,
     "metadata": {},
     "output_type": "execute_result"
    }
   ],
   "source": [
    "lasso_coefs[~(lasso_coefs.abs_coef == 0)].tail(2)"
   ]
  },
  {
   "cell_type": "code",
   "execution_count": 93,
   "metadata": {
    "scrolled": false
   },
   "outputs": [
    {
     "data": {
      "text/html": [
       "<div>\n",
       "<style scoped>\n",
       "    .dataframe tbody tr th:only-of-type {\n",
       "        vertical-align: middle;\n",
       "    }\n",
       "\n",
       "    .dataframe tbody tr th {\n",
       "        vertical-align: top;\n",
       "    }\n",
       "\n",
       "    .dataframe thead th {\n",
       "        text-align: right;\n",
       "    }\n",
       "</style>\n",
       "<table border=\"1\" class=\"dataframe\">\n",
       "  <thead>\n",
       "    <tr style=\"text-align: right;\">\n",
       "      <th></th>\n",
       "      <th>variable</th>\n",
       "      <th>coef</th>\n",
       "      <th>abs_coef</th>\n",
       "    </tr>\n",
       "  </thead>\n",
       "  <tbody>\n",
       "    <tr>\n",
       "      <th>77</th>\n",
       "      <td>neighborhood_NridgHt</td>\n",
       "      <td>16637.10057</td>\n",
       "      <td>16637.10057</td>\n",
       "    </tr>\n",
       "    <tr>\n",
       "      <th>3</th>\n",
       "      <td>overall_qual</td>\n",
       "      <td>10943.68507</td>\n",
       "      <td>10943.68507</td>\n",
       "    </tr>\n",
       "    <tr>\n",
       "      <th>83</th>\n",
       "      <td>neighborhood_StoneBr</td>\n",
       "      <td>9867.93726</td>\n",
       "      <td>9867.93726</td>\n",
       "    </tr>\n",
       "    <tr>\n",
       "      <th>5</th>\n",
       "      <td>exter_qual</td>\n",
       "      <td>9599.93785</td>\n",
       "      <td>9599.93785</td>\n",
       "    </tr>\n",
       "    <tr>\n",
       "      <th>16</th>\n",
       "      <td>kitchen_qual</td>\n",
       "      <td>9069.24781</td>\n",
       "      <td>9069.24781</td>\n",
       "    </tr>\n",
       "    <tr>\n",
       "      <th>35</th>\n",
       "      <td>ms_subclass_20</td>\n",
       "      <td>8929.19857</td>\n",
       "      <td>8929.19857</td>\n",
       "    </tr>\n",
       "    <tr>\n",
       "      <th>158</th>\n",
       "      <td>sale_type_New</td>\n",
       "      <td>8447.37885</td>\n",
       "      <td>8447.37885</td>\n",
       "    </tr>\n",
       "    <tr>\n",
       "      <th>52</th>\n",
       "      <td>land_contour_HLS</td>\n",
       "      <td>7199.61403</td>\n",
       "      <td>7199.61403</td>\n",
       "    </tr>\n",
       "    <tr>\n",
       "      <th>107</th>\n",
       "      <td>roof_style_Hip</td>\n",
       "      <td>6770.64804</td>\n",
       "      <td>6770.64804</td>\n",
       "    </tr>\n",
       "    <tr>\n",
       "      <th>8</th>\n",
       "      <td>bsmt_exposure</td>\n",
       "      <td>5716.47633</td>\n",
       "      <td>5716.47633</td>\n",
       "    </tr>\n",
       "    <tr>\n",
       "      <th>30</th>\n",
       "      <td>bathrooms</td>\n",
       "      <td>3846.34461</td>\n",
       "      <td>3846.34461</td>\n",
       "    </tr>\n",
       "    <tr>\n",
       "      <th>19</th>\n",
       "      <td>fireplace_qu</td>\n",
       "      <td>3308.74281</td>\n",
       "      <td>3308.74281</td>\n",
       "    </tr>\n",
       "    <tr>\n",
       "      <th>9</th>\n",
       "      <td>bsmtfin_type_1</td>\n",
       "      <td>2658.42724</td>\n",
       "      <td>2658.42724</td>\n",
       "    </tr>\n",
       "    <tr>\n",
       "      <th>11</th>\n",
       "      <td>heating_qc</td>\n",
       "      <td>2308.07853</td>\n",
       "      <td>2308.07853</td>\n",
       "    </tr>\n",
       "    <tr>\n",
       "      <th>87</th>\n",
       "      <td>condition_1_Norm</td>\n",
       "      <td>2141.05079</td>\n",
       "      <td>2141.05079</td>\n",
       "    </tr>\n",
       "    <tr>\n",
       "      <th>17</th>\n",
       "      <td>total_rooms_xbath</td>\n",
       "      <td>1636.30520</td>\n",
       "      <td>1636.30520</td>\n",
       "    </tr>\n",
       "    <tr>\n",
       "      <th>139</th>\n",
       "      <td>mas_vnr_type_None</td>\n",
       "      <td>1321.40778</td>\n",
       "      <td>1321.40778</td>\n",
       "    </tr>\n",
       "    <tr>\n",
       "      <th>6</th>\n",
       "      <td>bsmt_qual</td>\n",
       "      <td>821.31895</td>\n",
       "      <td>821.31895</td>\n",
       "    </tr>\n",
       "    <tr>\n",
       "      <th>50</th>\n",
       "      <td>ms_zoning_RL</td>\n",
       "      <td>461.83672</td>\n",
       "      <td>461.83672</td>\n",
       "    </tr>\n",
       "    <tr>\n",
       "      <th>20</th>\n",
       "      <td>garage_finish</td>\n",
       "      <td>74.27049</td>\n",
       "      <td>74.27049</td>\n",
       "    </tr>\n",
       "    <tr>\n",
       "      <th>4</th>\n",
       "      <td>mas_vnr_area</td>\n",
       "      <td>35.44357</td>\n",
       "      <td>35.44357</td>\n",
       "    </tr>\n",
       "    <tr>\n",
       "      <th>22</th>\n",
       "      <td>garage_area</td>\n",
       "      <td>27.13550</td>\n",
       "      <td>27.13550</td>\n",
       "    </tr>\n",
       "    <tr>\n",
       "      <th>13</th>\n",
       "      <td>first_flr_sf</td>\n",
       "      <td>24.53809</td>\n",
       "      <td>24.53809</td>\n",
       "    </tr>\n",
       "    <tr>\n",
       "      <th>26</th>\n",
       "      <td>deck_porch_sf</td>\n",
       "      <td>22.55148</td>\n",
       "      <td>22.55148</td>\n",
       "    </tr>\n",
       "    <tr>\n",
       "      <th>15</th>\n",
       "      <td>gr_liv_area</td>\n",
       "      <td>21.31629</td>\n",
       "      <td>21.31629</td>\n",
       "    </tr>\n",
       "    <tr>\n",
       "      <th>14</th>\n",
       "      <td>second_flr_sf</td>\n",
       "      <td>19.33899</td>\n",
       "      <td>19.33899</td>\n",
       "    </tr>\n",
       "    <tr>\n",
       "      <th>10</th>\n",
       "      <td>total_bsmt_sf</td>\n",
       "      <td>3.75230</td>\n",
       "      <td>3.75230</td>\n",
       "    </tr>\n",
       "    <tr>\n",
       "      <th>29</th>\n",
       "      <td>ages_interaction</td>\n",
       "      <td>0.94723</td>\n",
       "      <td>0.94723</td>\n",
       "    </tr>\n",
       "    <tr>\n",
       "      <th>1</th>\n",
       "      <td>lot_area</td>\n",
       "      <td>0.52950</td>\n",
       "      <td>0.52950</td>\n",
       "    </tr>\n",
       "    <tr>\n",
       "      <th>0</th>\n",
       "      <td>id</td>\n",
       "      <td>-0.44416</td>\n",
       "      <td>0.44416</td>\n",
       "    </tr>\n",
       "    <tr>\n",
       "      <th>27</th>\n",
       "      <td>house_age</td>\n",
       "      <td>-169.32439</td>\n",
       "      <td>169.32439</td>\n",
       "    </tr>\n",
       "    <tr>\n",
       "      <th>28</th>\n",
       "      <td>remod_age</td>\n",
       "      <td>-175.20754</td>\n",
       "      <td>175.20754</td>\n",
       "    </tr>\n",
       "    <tr>\n",
       "      <th>102</th>\n",
       "      <td>house_style_2Story</td>\n",
       "      <td>-1010.90435</td>\n",
       "      <td>1010.90435</td>\n",
       "    </tr>\n",
       "    <tr>\n",
       "      <th>97</th>\n",
       "      <td>bldg_type_TwnhsE</td>\n",
       "      <td>-1253.70754</td>\n",
       "      <td>1253.70754</td>\n",
       "    </tr>\n",
       "    <tr>\n",
       "      <th>138</th>\n",
       "      <td>mas_vnr_type_BrkFace</td>\n",
       "      <td>-4321.46895</td>\n",
       "      <td>4321.46895</td>\n",
       "    </tr>\n",
       "  </tbody>\n",
       "</table>\n",
       "</div>"
      ],
      "text/plain": [
       "                 variable        coef    abs_coef\n",
       "77   neighborhood_NridgHt 16637.10057 16637.10057\n",
       "3            overall_qual 10943.68507 10943.68507\n",
       "83   neighborhood_StoneBr  9867.93726  9867.93726\n",
       "5              exter_qual  9599.93785  9599.93785\n",
       "16           kitchen_qual  9069.24781  9069.24781\n",
       "35         ms_subclass_20  8929.19857  8929.19857\n",
       "158         sale_type_New  8447.37885  8447.37885\n",
       "52       land_contour_HLS  7199.61403  7199.61403\n",
       "107        roof_style_Hip  6770.64804  6770.64804\n",
       "8           bsmt_exposure  5716.47633  5716.47633\n",
       "30              bathrooms  3846.34461  3846.34461\n",
       "19           fireplace_qu  3308.74281  3308.74281\n",
       "9          bsmtfin_type_1  2658.42724  2658.42724\n",
       "11             heating_qc  2308.07853  2308.07853\n",
       "87       condition_1_Norm  2141.05079  2141.05079\n",
       "17      total_rooms_xbath  1636.30520  1636.30520\n",
       "139     mas_vnr_type_None  1321.40778  1321.40778\n",
       "6               bsmt_qual   821.31895   821.31895\n",
       "50           ms_zoning_RL   461.83672   461.83672\n",
       "20          garage_finish    74.27049    74.27049\n",
       "4            mas_vnr_area    35.44357    35.44357\n",
       "22            garage_area    27.13550    27.13550\n",
       "13           first_flr_sf    24.53809    24.53809\n",
       "26          deck_porch_sf    22.55148    22.55148\n",
       "15            gr_liv_area    21.31629    21.31629\n",
       "14          second_flr_sf    19.33899    19.33899\n",
       "10          total_bsmt_sf     3.75230     3.75230\n",
       "29       ages_interaction     0.94723     0.94723\n",
       "1                lot_area     0.52950     0.52950\n",
       "0                      id    -0.44416     0.44416\n",
       "27              house_age  -169.32439   169.32439\n",
       "28              remod_age  -175.20754   175.20754\n",
       "102    house_style_2Story -1010.90435  1010.90435\n",
       "97       bldg_type_TwnhsE -1253.70754  1253.70754\n",
       "138  mas_vnr_type_BrkFace -4321.46895  4321.46895"
      ]
     },
     "execution_count": 93,
     "metadata": {},
     "output_type": "execute_result"
    }
   ],
   "source": [
    "lasso_coefs.loc[~(lasso_coefs.abs_coef == 0)].sort_values('coef', ascending=False)"
   ]
  },
  {
   "cell_type": "code",
   "execution_count": null,
   "metadata": {},
   "outputs": [],
   "source": []
  },
  {
   "cell_type": "code",
   "execution_count": null,
   "metadata": {},
   "outputs": [],
   "source": []
  },
  {
   "cell_type": "code",
   "execution_count": null,
   "metadata": {},
   "outputs": [],
   "source": []
  },
  {
   "cell_type": "code",
   "execution_count": 97,
   "metadata": {},
   "outputs": [],
   "source": [
    "lasso_coefs.sort_values('coef',ascending=False,inplace=True)"
   ]
  },
  {
   "cell_type": "code",
   "execution_count": 115,
   "metadata": {},
   "outputs": [
    {
     "data": {
      "text/plain": [
       "<function matplotlib.pyplot.tight_layout(*, pad=1.08, h_pad=None, w_pad=None, rect=None)>"
      ]
     },
     "execution_count": 115,
     "metadata": {},
     "output_type": "execute_result"
    },
    {
     "data": {
      "image/png": "[encoded data removed]",
      "text/plain": [
       "<Figure size 1440x720 with 1 Axes>"
      ]
     },
     "metadata": {
      "needs_background": "light"
     },
     "output_type": "display_data"
    }
   ],
   "source": [
    "plt.figure(figsize=(20,10))\n",
    "sns.barplot(data = lasso_coefs, x='variable', y='coef', orient='v')\n",
    "plt.tight_layout"
   ]
  },
  {
   "cell_type": "code",
   "execution_count": null,
   "metadata": {},
   "outputs": [],
   "source": [
    "seaborn.barplot(x=None, y=None, hue=None, data=None, \n",
    "                order=None, hue_order=None, \n",
    "                estimator=<function mean at 0x105c7d9e0>, ci=95, \n",
    "                n_boot=1000, units=None, seed=None, orient=None, color=None, \n",
    "                palette=None, saturation=0.75, errcolor='.26', errwidth=None, \n",
    "                capsize=None, dodge=True, ax=None, **kwargs)"
   ]
  },
  {
   "cell_type": "code",
   "execution_count": 59,
   "metadata": {},
   "outputs": [
    {
     "data": {
      "text/plain": [
       "34"
      ]
     },
     "execution_count": 59,
     "metadata": {},
     "output_type": "execute_result"
    }
   ],
   "source": [
    "remod1_features = lasso_coefs[~(lasso_coefs.abs_coef == 0)]['variable'].values.tolist()\n",
    "remod1_features.remove('id')\n",
    "len(remod1_features)"
   ]
  },
  {
   "cell_type": "markdown",
   "metadata": {},
   "source": [
    "**Analysis of the \"non-zero\" Lasso coefficients:**\n",
    "\n",
    "- <span style='color:mediumblue'>**Remodelling 2: There are 26 Features with absolute coefficient that are above 25% quantile**</span>\n",
    "- **Histograms** below showed the distributions of the coefficients and absolute coefficients showed majority of the coefficients in low values (around 0), and a long tail to the right indiciating few 'high-value' coefficients.\n",
    "- We will focus on the **absolute coefficients** since we want to include predictors with both positive and negative correlation to `'saleprice'`.  There are **26 Features** if we exclude the lowest 25% quantile.\n"
   ]
  },
  {
   "cell_type": "code",
   "execution_count": 60,
   "metadata": {},
   "outputs": [
    {
     "data": {
      "text/html": [
       "<div>\n",
       "<style scoped>\n",
       "    .dataframe tbody tr th:only-of-type {\n",
       "        vertical-align: middle;\n",
       "    }\n",
       "\n",
       "    .dataframe tbody tr th {\n",
       "        vertical-align: top;\n",
       "    }\n",
       "\n",
       "    .dataframe thead th {\n",
       "        text-align: right;\n",
       "    }\n",
       "</style>\n",
       "<table border=\"1\" class=\"dataframe\">\n",
       "  <thead>\n",
       "    <tr style=\"text-align: right;\">\n",
       "      <th></th>\n",
       "      <th>coef</th>\n",
       "      <th>abs_coef</th>\n",
       "    </tr>\n",
       "  </thead>\n",
       "  <tbody>\n",
       "    <tr>\n",
       "      <th>count</th>\n",
       "      <td>35.00000</td>\n",
       "      <td>35.00000</td>\n",
       "    </tr>\n",
       "    <tr>\n",
       "      <th>mean</th>\n",
       "      <td>2999.52867</td>\n",
       "      <td>3395.58907</td>\n",
       "    </tr>\n",
       "    <tr>\n",
       "      <th>std</th>\n",
       "      <td>4551.19702</td>\n",
       "      <td>4255.11995</td>\n",
       "    </tr>\n",
       "    <tr>\n",
       "      <th>min</th>\n",
       "      <td>-4321.46895</td>\n",
       "      <td>0.44416</td>\n",
       "    </tr>\n",
       "    <tr>\n",
       "      <th>25%</th>\n",
       "      <td>11.54565</td>\n",
       "      <td>31.28953</td>\n",
       "    </tr>\n",
       "    <tr>\n",
       "      <th>50%</th>\n",
       "      <td>821.31895</td>\n",
       "      <td>1321.40778</td>\n",
       "    </tr>\n",
       "    <tr>\n",
       "      <th>75%</th>\n",
       "      <td>6243.56218</td>\n",
       "      <td>6243.56218</td>\n",
       "    </tr>\n",
       "    <tr>\n",
       "      <th>max</th>\n",
       "      <td>16637.10057</td>\n",
       "      <td>16637.10057</td>\n",
       "    </tr>\n",
       "  </tbody>\n",
       "</table>\n",
       "</div>"
      ],
      "text/plain": [
       "             coef    abs_coef\n",
       "count    35.00000    35.00000\n",
       "mean   2999.52867  3395.58907\n",
       "std    4551.19702  4255.11995\n",
       "min   -4321.46895     0.44416\n",
       "25%      11.54565    31.28953\n",
       "50%     821.31895  1321.40778\n",
       "75%    6243.56218  6243.56218\n",
       "max   16637.10057 16637.10057"
      ]
     },
     "execution_count": 60,
     "metadata": {},
     "output_type": "execute_result"
    }
   ],
   "source": [
    "lasso_coefs.describe()"
   ]
  },
  {
   "cell_type": "code",
   "execution_count": 61,
   "metadata": {},
   "outputs": [
    {
     "data": {
      "image/png": "[encoded data removed]",
      "text/plain": [
       "<Figure size 432x288 with 1 Axes>"
      ]
     },
     "metadata": {
      "needs_background": "light"
     },
     "output_type": "display_data"
    }
   ],
   "source": [
    "plot_histograms(lasso_coefs, ['coef'],ymax=20,bins=20)\n"
   ]
  },
  {
   "cell_type": "code",
   "execution_count": 62,
   "metadata": {
    "scrolled": true
   },
   "outputs": [
    {
     "data": {
      "image/png": "[encoded data removed]",
      "text/plain": [
       "<Figure size 432x288 with 1 Axes>"
      ]
     },
     "metadata": {
      "needs_background": "light"
     },
     "output_type": "display_data"
    }
   ],
   "source": [
    "plot_histograms(lasso_coefs, ['abs_coef'],ymax=20,bins=20)"
   ]
  },
  {
   "cell_type": "code",
   "execution_count": 117,
   "metadata": {
    "scrolled": true
   },
   "outputs": [
    {
     "data": {
      "text/plain": [
       "28"
      ]
     },
     "execution_count": 117,
     "metadata": {},
     "output_type": "execute_result"
    }
   ],
   "source": [
    "remod2_features = lasso_coefs[(lasso_coefs.abs_coef > lasso_coefs.abs_coef.quantile(0.2))]['variable'].values.tolist()\n",
    "len(remod2_features)"
   ]
  },
  {
   "cell_type": "code",
   "execution_count": 118,
   "metadata": {},
   "outputs": [
    {
     "data": {
      "text/plain": [
       "['neighborhood_NridgHt',\n",
       " 'overall_qual',\n",
       " 'neighborhood_StoneBr',\n",
       " 'exter_qual',\n",
       " 'kitchen_qual',\n",
       " 'ms_subclass_20',\n",
       " 'sale_type_New',\n",
       " 'land_contour_HLS',\n",
       " 'roof_style_Hip',\n",
       " 'bsmt_exposure',\n",
       " 'bathrooms',\n",
       " 'fireplace_qu',\n",
       " 'bsmtfin_type_1',\n",
       " 'heating_qc',\n",
       " 'condition_1_Norm',\n",
       " 'total_rooms_xbath',\n",
       " 'mas_vnr_type_None',\n",
       " 'bsmt_qual',\n",
       " 'ms_zoning_RL',\n",
       " 'garage_finish',\n",
       " 'mas_vnr_area',\n",
       " 'garage_area',\n",
       " 'first_flr_sf',\n",
       " 'house_age',\n",
       " 'remod_age',\n",
       " 'house_style_2Story',\n",
       " 'bldg_type_TwnhsE',\n",
       " 'mas_vnr_type_BrkFace']"
      ]
     },
     "execution_count": 118,
     "metadata": {},
     "output_type": "execute_result"
    }
   ],
   "source": [
    "remod2_features"
   ]
  },
  {
   "cell_type": "markdown",
   "metadata": {},
   "source": [
    "**Analysis of the \"non-zero\" Lasso coefficients:** *(Continued)*\n",
    "\n",
    "- <span style='color:mediumblue'>**Remodelling 3: There are 22 features with strong +/- correlation to `'saleprice'` and less collinearity with other features**</span>\n",
    "- **Correlation Heatmap** of the 35 features from Lasso:\n",
    "  - 12 features with low correlation (+/-0.3) to `'saleprice'` let's remove them.\n",
    "  - `'ages_interaction'` that was created earlier to see if it can replace `'house_age'` and `'remod_age'`, but that doesn't seem to be the case.  We will remove `'ages_interaction'`.\n"
   ]
  },
  {
   "cell_type": "code",
   "execution_count": 64,
   "metadata": {},
   "outputs": [],
   "source": [
    "cols_non_zero = lasso_coefs[~(lasso_coefs.abs_coef == 0)]['variable'].values.tolist()\n",
    "cols_non_zero.append('saleprice')"
   ]
  },
  {
   "cell_type": "code",
   "execution_count": 65,
   "metadata": {},
   "outputs": [
    {
     "data": {
      "image/png": "[encoded data removed]",
      "text/plain": [
       "<Figure size 864x864 with 2 Axes>"
      ]
     },
     "metadata": {
      "needs_background": "light"
     },
     "output_type": "display_data"
    }
   ],
   "source": [
    "selected_corr = pd.DataFrame(train[cols_non_zero].corr()['saleprice'])\n",
    "selected_corr.sort_values('saleprice',ascending=False, inplace=True)\n",
    "plot_heatmap_no_mask('35 non-zero features from Lasso', selected_corr , cmap='RdBu')"
   ]
  },
  {
   "cell_type": "code",
   "execution_count": 66,
   "metadata": {
    "scrolled": false
   },
   "outputs": [
    {
     "data": {
      "text/html": [
       "<div>\n",
       "<style scoped>\n",
       "    .dataframe tbody tr th:only-of-type {\n",
       "        vertical-align: middle;\n",
       "    }\n",
       "\n",
       "    .dataframe tbody tr th {\n",
       "        vertical-align: top;\n",
       "    }\n",
       "\n",
       "    .dataframe thead th {\n",
       "        text-align: right;\n",
       "    }\n",
       "</style>\n",
       "<table border=\"1\" class=\"dataframe\">\n",
       "  <thead>\n",
       "    <tr style=\"text-align: right;\">\n",
       "      <th></th>\n",
       "      <th>saleprice</th>\n",
       "    </tr>\n",
       "  </thead>\n",
       "  <tbody>\n",
       "    <tr>\n",
       "      <th>lot_area</th>\n",
       "      <td>0.29754</td>\n",
       "    </tr>\n",
       "    <tr>\n",
       "      <th>roof_style_Hip</th>\n",
       "      <td>0.26578</td>\n",
       "    </tr>\n",
       "    <tr>\n",
       "      <th>mas_vnr_type_BrkFace</th>\n",
       "      <td>0.25835</td>\n",
       "    </tr>\n",
       "    <tr>\n",
       "      <th>neighborhood_StoneBr</th>\n",
       "      <td>0.25711</td>\n",
       "    </tr>\n",
       "    <tr>\n",
       "      <th>second_flr_sf</th>\n",
       "      <td>0.24830</td>\n",
       "    </tr>\n",
       "    <tr>\n",
       "      <th>ms_zoning_RL</th>\n",
       "      <td>0.23129</td>\n",
       "    </tr>\n",
       "    <tr>\n",
       "      <th>land_contour_HLS</th>\n",
       "      <td>0.21240</td>\n",
       "    </tr>\n",
       "    <tr>\n",
       "      <th>house_style_2Story</th>\n",
       "      <td>0.20135</td>\n",
       "    </tr>\n",
       "    <tr>\n",
       "      <th>condition_1_Norm</th>\n",
       "      <td>0.11120</td>\n",
       "    </tr>\n",
       "    <tr>\n",
       "      <th>ms_subclass_20</th>\n",
       "      <td>0.07708</td>\n",
       "    </tr>\n",
       "    <tr>\n",
       "      <th>bldg_type_TwnhsE</th>\n",
       "      <td>0.06220</td>\n",
       "    </tr>\n",
       "    <tr>\n",
       "      <th>id</th>\n",
       "      <td>-0.05156</td>\n",
       "    </tr>\n",
       "  </tbody>\n",
       "</table>\n",
       "</div>"
      ],
      "text/plain": [
       "                      saleprice\n",
       "lot_area                0.29754\n",
       "roof_style_Hip          0.26578\n",
       "mas_vnr_type_BrkFace    0.25835\n",
       "neighborhood_StoneBr    0.25711\n",
       "second_flr_sf           0.24830\n",
       "ms_zoning_RL            0.23129\n",
       "land_contour_HLS        0.21240\n",
       "house_style_2Story      0.20135\n",
       "condition_1_Norm        0.11120\n",
       "ms_subclass_20          0.07708\n",
       "bldg_type_TwnhsE        0.06220\n",
       "id                     -0.05156"
      ]
     },
     "execution_count": 66,
     "metadata": {},
     "output_type": "execute_result"
    }
   ],
   "source": [
    "# There are 12 features with low correlation to 'saleprice' (+/- 0.3)\n",
    "\n",
    "selected_corr.loc[((selected_corr.saleprice < 0.3) & (selected_corr.saleprice > -0.3)),['saleprice']]"
   ]
  },
  {
   "cell_type": "code",
   "execution_count": 67,
   "metadata": {},
   "outputs": [
    {
     "data": {
      "text/plain": [
       "['overall_qual',\n",
       " 'exter_qual',\n",
       " 'gr_liv_area',\n",
       " 'kitchen_qual',\n",
       " 'garage_area',\n",
       " 'total_bsmt_sf',\n",
       " 'first_flr_sf',\n",
       " 'bathrooms',\n",
       " 'bsmt_qual',\n",
       " 'garage_finish',\n",
       " 'fireplace_qu',\n",
       " 'mas_vnr_area',\n",
       " 'total_rooms_xbath',\n",
       " 'heating_qc',\n",
       " 'neighborhood_NridgHt',\n",
       " 'bsmt_exposure',\n",
       " 'deck_porch_sf',\n",
       " 'bsmtfin_type_1',\n",
       " 'sale_type_New',\n",
       " 'mas_vnr_type_None',\n",
       " 'ages_interaction',\n",
       " 'remod_age',\n",
       " 'house_age']"
      ]
     },
     "execution_count": 67,
     "metadata": {},
     "output_type": "execute_result"
    }
   ],
   "source": [
    "remod3_features = selected_corr.loc[~(((selected_corr.saleprice < 0.3) & (selected_corr.saleprice > -0.3))),\n",
    "                                    ['saleprice']].index.tolist()\n",
    "\n",
    "remod3_features.remove('saleprice')   # removing 'saleprice' that we've added to analyse correlation\n",
    "remod3_features "
   ]
  },
  {
   "cell_type": "code",
   "execution_count": 68,
   "metadata": {
    "scrolled": false
   },
   "outputs": [
    {
     "data": {
      "image/png": "[encoded data removed]",
      "text/plain": [
       "<Figure size 288x288 with 2 Axes>"
      ]
     },
     "metadata": {
      "needs_background": "light"
     },
     "output_type": "display_data"
    }
   ],
   "source": [
    "# 'ages interaction' that we've added during the EDA did not help reduce features after Lasso Regression\n",
    "# we will drop 'ages interaction' because it has high correlation wtih 'remod_age' which we will keep\n",
    "\n",
    "ages_corr = train[['ages_interaction', 'house_age','remod_age','saleprice']].corr()\n",
    "plot_heatmap('Ages',ages_corr , figsize=(4,4),cmap='Blues')"
   ]
  },
  {
   "cell_type": "code",
   "execution_count": 69,
   "metadata": {},
   "outputs": [
    {
     "data": {
      "text/plain": [
       "22"
      ]
     },
     "execution_count": 69,
     "metadata": {},
     "output_type": "execute_result"
    }
   ],
   "source": [
    "# we have final of 22 features\n",
    "\n",
    "remod3_features.remove('ages_interaction')   \n",
    "len(remod3_features)"
   ]
  },
  {
   "cell_type": "markdown",
   "metadata": {},
   "source": [
    "### Selected features for round 2 modelling:\n",
    "\n",
    "- <span style='color:mediumblue'>**Remodelling 1: All remaining 34 features with non-zero coefficients from LASSO**</span>"
   ]
  },
  {
   "cell_type": "code",
   "execution_count": 70,
   "metadata": {},
   "outputs": [
    {
     "data": {
      "text/plain": [
       "34"
      ]
     },
     "execution_count": 70,
     "metadata": {},
     "output_type": "execute_result"
    }
   ],
   "source": [
    "# Model 1: \n",
    "len(remod1_features)"
   ]
  },
  {
   "cell_type": "code",
   "execution_count": 71,
   "metadata": {},
   "outputs": [
    {
     "data": {
      "text/plain": [
       "LinearRegression()"
      ]
     },
     "execution_count": 71,
     "metadata": {},
     "output_type": "execute_result"
    }
   ],
   "source": [
    "# use the remod1_features to scale the train & validation data\n",
    "\n",
    "X1_train_scaled = ss.fit_transform(X_train[remod1_features])\n",
    "X1_validation_scaled = ss.transform(X_validation[remod1_features])\n",
    "\n",
    "mod1 = LinearRegression()\n",
    "mod1.fit(X1_train_scaled, y_train)"
   ]
  },
  {
   "cell_type": "code",
   "execution_count": 72,
   "metadata": {},
   "outputs": [],
   "source": [
    "# Generate predictions\n",
    "\n",
    "y1_train_preds = mod1.predict(X1_train_scaled)\n",
    "y1_validation_preds = mod1.predict(X1_validation_scaled)"
   ]
  },
  {
   "cell_type": "code",
   "execution_count": 73,
   "metadata": {},
   "outputs": [],
   "source": [
    "R2_CV5 = cross_val_score(mod1, X1_train_scaled, y_train, cv=5).mean()\n",
    "MSE_CV5 = abs(cross_val_score(mod1, X1_train_scaled, y_train, cv=5, scoring='neg_mean_squared_error')).mean()\n",
    "RMSE_CV5 = np.sqrt(MSE_CV5)"
   ]
  },
  {
   "cell_type": "code",
   "execution_count": 74,
   "metadata": {},
   "outputs": [
    {
     "data": {
      "text/plain": [
       "0.8485005069441577"
      ]
     },
     "execution_count": 74,
     "metadata": {},
     "output_type": "execute_result"
    }
   ],
   "source": [
    "cross_val_score(mod1, X1_train_scaled, y_train, cv=5).mean()"
   ]
  },
  {
   "cell_type": "code",
   "execution_count": 75,
   "metadata": {},
   "outputs": [
    {
     "name": "stdout",
     "output_type": "stream",
     "text": [
      "Model                   =  Model 1 - train-subset\n",
      "Mean squared error      =  752919666.4620537\n",
      "Root mean squared error =  27439.381670548875\n",
      "Median absolute error   =  12741.483385478889\n",
      "R^2                     =  0.8746264006154298\n",
      "Adjusted R^2            =  0.8717864923015888\n"
     ]
    }
   ],
   "source": [
    "evaluate_model('Model 1','train-subset', y_train, y1_train_preds, len(remod1_features))"
   ]
  },
  {
   "cell_type": "code",
   "execution_count": 76,
   "metadata": {},
   "outputs": [
    {
     "name": "stdout",
     "output_type": "stream",
     "text": [
      "Model                   =  Model 1 - validation\n",
      "Mean squared error      =  906762938.4018548\n",
      "Root mean squared error =  30112.50468496194\n",
      "Median absolute error   =  14164.86492809339\n",
      "R^2                     =  0.8722681951676297\n",
      "Adjusted R^2            =  0.863182669300892\n"
     ]
    }
   ],
   "source": [
    "evaluate_model('Model 1','validation', y_validation, y1_validation_preds, len(remod1_features))"
   ]
  },
  {
   "cell_type": "markdown",
   "metadata": {},
   "source": [
    "- <span style='color:mediumblue'>**Remodelling 2: With 26 Features that has absolute coefficient above 25% quantile**</span>"
   ]
  },
  {
   "cell_type": "code",
   "execution_count": 77,
   "metadata": {},
   "outputs": [
    {
     "data": {
      "text/plain": [
       "26"
      ]
     },
     "execution_count": 77,
     "metadata": {},
     "output_type": "execute_result"
    }
   ],
   "source": [
    "len(remod2_features)"
   ]
  },
  {
   "cell_type": "code",
   "execution_count": 78,
   "metadata": {},
   "outputs": [],
   "source": [
    "# use the remod2_features to scale the train & validation data\n",
    "\n",
    "X2_train_scaled = ss.fit_transform(X_train[remod2_features])\n",
    "X2_validation_scaled = ss.transform(X_validation[remod2_features])\n",
    "\n",
    "mod2 = LinearRegression()\n",
    "mod2.fit(X2_train_scaled, y_train)\n",
    "\n",
    "# Generate predictions\n",
    "\n",
    "y2_train_preds = mod2.predict(X2_train_scaled)\n",
    "y2_validation_preds = mod2.predict(X2_validation_scaled)"
   ]
  },
  {
   "cell_type": "code",
   "execution_count": 79,
   "metadata": {},
   "outputs": [],
   "source": [
    "R2_CV5 = cross_val_score(mod2, X2_train_scaled, y_train, cv=5).mean()\n",
    "MSE_CV5 = abs(cross_val_score(mod2, X2_train_scaled, y_train, cv=5, scoring='neg_mean_squared_error')).mean()\n",
    "RMSE_CV5 = np.sqrt(MSE_CV5)"
   ]
  },
  {
   "cell_type": "code",
   "execution_count": 80,
   "metadata": {},
   "outputs": [
    {
     "data": {
      "text/plain": [
       "0.8353891185560863"
      ]
     },
     "execution_count": 80,
     "metadata": {},
     "output_type": "execute_result"
    }
   ],
   "source": [
    "cross_val_score(mod2, X2_train_scaled, y_train, cv=5).mean()"
   ]
  },
  {
   "cell_type": "code",
   "execution_count": 81,
   "metadata": {},
   "outputs": [
    {
     "name": "stdout",
     "output_type": "stream",
     "text": [
      "Model                   =  Model 2 - train-subset\n",
      "Mean squared error      =  909898039.5636395\n",
      "Root mean squared error =  30164.516232879312\n",
      "Median absolute error   =  15095.038258071334\n",
      "R^2                     =  0.8484869005625756\n",
      "Adjusted R^2            =  0.8458763368877095\n"
     ]
    }
   ],
   "source": [
    "evaluate_model('Model 2','train-subset', y_train, y2_train_preds, len(remod2_features))"
   ]
  },
  {
   "cell_type": "code",
   "execution_count": 82,
   "metadata": {},
   "outputs": [
    {
     "name": "stdout",
     "output_type": "stream",
     "text": [
      "Model                   =  Model 2 - validation\n",
      "Mean squared error      =  1250407391.7580204\n",
      "Root mean squared error =  35361.099979469254\n",
      "Median absolute error   =  18288.9790090413\n",
      "R^2                     =  0.8238604753669297\n",
      "Adjusted R^2            =  0.8144373732260659\n"
     ]
    }
   ],
   "source": [
    "evaluate_model('Model 2','validation', y_validation, y2_validation_preds, len(remod2_features))"
   ]
  },
  {
   "cell_type": "markdown",
   "metadata": {},
   "source": [
    "- <span style='color:mediumblue'>**Remodelling 3: There are 22 features with strong +/- correlation to `'saleprice'` and less collinearity with other features**</span>"
   ]
  },
  {
   "cell_type": "code",
   "execution_count": 83,
   "metadata": {},
   "outputs": [
    {
     "data": {
      "text/plain": [
       "22"
      ]
     },
     "execution_count": 83,
     "metadata": {},
     "output_type": "execute_result"
    }
   ],
   "source": [
    "len(remod3_features)"
   ]
  },
  {
   "cell_type": "code",
   "execution_count": 84,
   "metadata": {},
   "outputs": [],
   "source": [
    "# use the remod2_features to scale the train & validation data\n",
    "\n",
    "X3_train_scaled = ss.fit_transform(X_train[remod3_features])\n",
    "X3_validation_scaled = ss.transform(X_validation[remod3_features])\n",
    "\n",
    "mod3 = LinearRegression()\n",
    "mod3.fit(X3_train_scaled, y_train)\n",
    "\n",
    "# Generate predictions\n",
    "\n",
    "y3_train_preds = mod3.predict(X3_train_scaled)\n",
    "y3_validation_preds = mod3.predict(X3_validation_scaled)"
   ]
  },
  {
   "cell_type": "code",
   "execution_count": 85,
   "metadata": {},
   "outputs": [],
   "source": [
    "R2_CV5 = cross_val_score(mod3, X3_train_scaled, y_train, cv=5).mean()\n",
    "MSE_CV5 = abs(cross_val_score(mod3, X3_train_scaled, y_train, cv=5, scoring='neg_mean_squared_error')).mean()\n",
    "RMSE_CV5 = np.sqrt(MSE_CV5)"
   ]
  },
  {
   "cell_type": "code",
   "execution_count": 86,
   "metadata": {},
   "outputs": [
    {
     "data": {
      "text/plain": [
       "0.8317273735728465"
      ]
     },
     "execution_count": 86,
     "metadata": {},
     "output_type": "execute_result"
    }
   ],
   "source": [
    "cross_val_score(mod3, X3_train_scaled, y_train, cv=5).mean()"
   ]
  },
  {
   "cell_type": "code",
   "execution_count": 87,
   "metadata": {
    "scrolled": true
   },
   "outputs": [
    {
     "name": "stdout",
     "output_type": "stream",
     "text": [
      "Model                   =  Model 3 - train-subset\n",
      "Mean squared error      =  880618454.0836387\n",
      "Root mean squared error =  29675.21615900445\n",
      "Median absolute error   =  14755.081356845869\n",
      "R^2                     =  0.8533624366703855\n",
      "Adjusted R^2            =  0.8512302315195253\n"
     ]
    }
   ],
   "source": [
    "evaluate_model('Model 3','train-subset', y_train, y3_train_preds, len(remod3_features))"
   ]
  },
  {
   "cell_type": "code",
   "execution_count": 88,
   "metadata": {},
   "outputs": [
    {
     "name": "stdout",
     "output_type": "stream",
     "text": [
      "Model                   =  Model 3 - validation\n",
      "Mean squared error      =  991900956.7543797\n",
      "Root mean squared error =  31494.459143703036\n",
      "Median absolute error   =  16545.54485397428\n",
      "R^2                     =  0.8602751677913829\n",
      "Adjusted R^2            =  0.8540018079779348\n"
     ]
    }
   ],
   "source": [
    "evaluate_model('Model 3','validation', y_validation, y3_validation_preds, len(remod3_features))"
   ]
  },
  {
   "cell_type": "code",
   "execution_count": 89,
   "metadata": {},
   "outputs": [
    {
     "data": {
      "text/html": [
       "<div>\n",
       "<style scoped>\n",
       "    .dataframe tbody tr th:only-of-type {\n",
       "        vertical-align: middle;\n",
       "    }\n",
       "\n",
       "    .dataframe tbody tr th {\n",
       "        vertical-align: top;\n",
       "    }\n",
       "\n",
       "    .dataframe thead th {\n",
       "        text-align: right;\n",
       "    }\n",
       "</style>\n",
       "<table border=\"1\" class=\"dataframe\">\n",
       "  <thead>\n",
       "    <tr style=\"text-align: right;\">\n",
       "      <th></th>\n",
       "      <th>model</th>\n",
       "      <th>dataset</th>\n",
       "      <th>rt_mean_sq_error</th>\n",
       "      <th>r2</th>\n",
       "      <th>r2_adj</th>\n",
       "    </tr>\n",
       "  </thead>\n",
       "  <tbody>\n",
       "    <tr>\n",
       "      <th>0</th>\n",
       "      <td>linear_1</td>\n",
       "      <td>train-subset</td>\n",
       "      <td>24012.21462</td>\n",
       "      <td>0.90399</td>\n",
       "      <td>0.89274</td>\n",
       "    </tr>\n",
       "    <tr>\n",
       "      <th>1</th>\n",
       "      <td>linear_1</td>\n",
       "      <td>validation</td>\n",
       "      <td>32199961914390.39844</td>\n",
       "      <td>-146054856924904480.00000</td>\n",
       "      <td>-213048680186755232.00000</td>\n",
       "    </tr>\n",
       "    <tr>\n",
       "      <th>2</th>\n",
       "      <td>lasso_1</td>\n",
       "      <td>train-subset</td>\n",
       "      <td>28653.62109</td>\n",
       "      <td>0.86328</td>\n",
       "      <td>0.84727</td>\n",
       "    </tr>\n",
       "    <tr>\n",
       "      <th>3</th>\n",
       "      <td>lasso_1</td>\n",
       "      <td>validation</td>\n",
       "      <td>30082.55651</td>\n",
       "      <td>0.87252</td>\n",
       "      <td>0.81405</td>\n",
       "    </tr>\n",
       "    <tr>\n",
       "      <th>4</th>\n",
       "      <td>ridge_1</td>\n",
       "      <td>train-subset</td>\n",
       "      <td>25382.14574</td>\n",
       "      <td>0.89272</td>\n",
       "      <td>0.88015</td>\n",
       "    </tr>\n",
       "    <tr>\n",
       "      <th>5</th>\n",
       "      <td>ridge_1</td>\n",
       "      <td>validation</td>\n",
       "      <td>29937.51597</td>\n",
       "      <td>0.87375</td>\n",
       "      <td>0.81584</td>\n",
       "    </tr>\n",
       "    <tr>\n",
       "      <th>6</th>\n",
       "      <td>enet_1</td>\n",
       "      <td>train_subset</td>\n",
       "      <td>25009.21639</td>\n",
       "      <td>0.89585</td>\n",
       "      <td>0.88365</td>\n",
       "    </tr>\n",
       "    <tr>\n",
       "      <th>7</th>\n",
       "      <td>enet_1</td>\n",
       "      <td>validation</td>\n",
       "      <td>29055.57684</td>\n",
       "      <td>0.88108</td>\n",
       "      <td>0.82653</td>\n",
       "    </tr>\n",
       "    <tr>\n",
       "      <th>8</th>\n",
       "      <td>Model 1</td>\n",
       "      <td>train-subset</td>\n",
       "      <td>27439.38167</td>\n",
       "      <td>0.87463</td>\n",
       "      <td>0.87179</td>\n",
       "    </tr>\n",
       "    <tr>\n",
       "      <th>9</th>\n",
       "      <td>Model 1</td>\n",
       "      <td>validation</td>\n",
       "      <td>30112.50468</td>\n",
       "      <td>0.87227</td>\n",
       "      <td>0.86318</td>\n",
       "    </tr>\n",
       "    <tr>\n",
       "      <th>10</th>\n",
       "      <td>Model 2</td>\n",
       "      <td>train-subset</td>\n",
       "      <td>30164.51623</td>\n",
       "      <td>0.84849</td>\n",
       "      <td>0.84588</td>\n",
       "    </tr>\n",
       "    <tr>\n",
       "      <th>11</th>\n",
       "      <td>Model 2</td>\n",
       "      <td>validation</td>\n",
       "      <td>35361.09998</td>\n",
       "      <td>0.82386</td>\n",
       "      <td>0.81444</td>\n",
       "    </tr>\n",
       "    <tr>\n",
       "      <th>12</th>\n",
       "      <td>Model 3</td>\n",
       "      <td>train-subset</td>\n",
       "      <td>29675.21616</td>\n",
       "      <td>0.85336</td>\n",
       "      <td>0.85123</td>\n",
       "    </tr>\n",
       "    <tr>\n",
       "      <th>13</th>\n",
       "      <td>Model 3</td>\n",
       "      <td>validation</td>\n",
       "      <td>31494.45914</td>\n",
       "      <td>0.86028</td>\n",
       "      <td>0.85400</td>\n",
       "    </tr>\n",
       "  </tbody>\n",
       "</table>\n",
       "</div>"
      ],
      "text/plain": [
       "       model       dataset     rt_mean_sq_error                        r2  \\\n",
       "0   linear_1  train-subset          24012.21462                   0.90399   \n",
       "1   linear_1    validation 32199961914390.39844 -146054856924904480.00000   \n",
       "2    lasso_1  train-subset          28653.62109                   0.86328   \n",
       "3    lasso_1    validation          30082.55651                   0.87252   \n",
       "4    ridge_1  train-subset          25382.14574                   0.89272   \n",
       "5    ridge_1    validation          29937.51597                   0.87375   \n",
       "6     enet_1  train_subset          25009.21639                   0.89585   \n",
       "7     enet_1    validation          29055.57684                   0.88108   \n",
       "8    Model 1  train-subset          27439.38167                   0.87463   \n",
       "9    Model 1    validation          30112.50468                   0.87227   \n",
       "10   Model 2  train-subset          30164.51623                   0.84849   \n",
       "11   Model 2    validation          35361.09998                   0.82386   \n",
       "12   Model 3  train-subset          29675.21616                   0.85336   \n",
       "13   Model 3    validation          31494.45914                   0.86028   \n",
       "\n",
       "                      r2_adj  \n",
       "0                    0.89274  \n",
       "1  -213048680186755232.00000  \n",
       "2                    0.84727  \n",
       "3                    0.81405  \n",
       "4                    0.88015  \n",
       "5                    0.81584  \n",
       "6                    0.88365  \n",
       "7                    0.82653  \n",
       "8                    0.87179  \n",
       "9                    0.86318  \n",
       "10                   0.84588  \n",
       "11                   0.81444  \n",
       "12                   0.85123  \n",
       "13                   0.85400  "
      ]
     },
     "execution_count": 89,
     "metadata": {},
     "output_type": "execute_result"
    }
   ],
   "source": [
    "summary_model_evaluations = pd.DataFrame(model_evaluations)\n",
    "round(summary_model_evaluations[['model','dataset','rt_mean_sq_error', 'r2', 'r2_adj']],5)"
   ]
  },
  {
   "cell_type": "markdown",
   "metadata": {},
   "source": [
    "**Choose Model 1:**\n",
    "- Highest R2 of all = high accuracy\n",
    "- Lowest RMSE = lowest error\n",
    "- Least Difference in scores of validation vs. train subset = perform consistent on unseen data "
   ]
  },
  {
   "cell_type": "code",
   "execution_count": null,
   "metadata": {},
   "outputs": [],
   "source": []
  },
  {
   "cell_type": "code",
   "execution_count": null,
   "metadata": {},
   "outputs": [],
   "source": []
  },
  {
   "cell_type": "code",
   "execution_count": null,
   "metadata": {},
   "outputs": [],
   "source": []
  },
  {
   "cell_type": "code",
   "execution_count": null,
   "metadata": {},
   "outputs": [],
   "source": []
  },
  {
   "cell_type": "code",
   "execution_count": null,
   "metadata": {},
   "outputs": [],
   "source": []
  },
  {
   "cell_type": "code",
   "execution_count": null,
   "metadata": {},
   "outputs": [],
   "source": []
  },
  {
   "cell_type": "code",
   "execution_count": null,
   "metadata": {},
   "outputs": [],
   "source": []
  },
  {
   "cell_type": "code",
   "execution_count": 90,
   "metadata": {},
   "outputs": [
    {
     "ename": "NameError",
     "evalue": "name 'stop' is not defined",
     "output_type": "error",
     "traceback": [
      "\u001b[0;31m---------------------------------------------------------------------------\u001b[0m",
      "\u001b[0;31mNameError\u001b[0m                                 Traceback (most recent call last)",
      "\u001b[0;32m<ipython-input-90-4f76a9dad686>\u001b[0m in \u001b[0;36m<module>\u001b[0;34m\u001b[0m\n\u001b[0;32m----> 1\u001b[0;31m \u001b[0mstop\u001b[0m\u001b[0;34m\u001b[0m\u001b[0;34m\u001b[0m\u001b[0m\n\u001b[0m",
      "\u001b[0;31mNameError\u001b[0m: name 'stop' is not defined"
     ]
    }
   ],
   "source": [
    "stop"
   ]
  },
  {
   "cell_type": "code",
   "execution_count": null,
   "metadata": {},
   "outputs": [],
   "source": []
  },
  {
   "cell_type": "code",
   "execution_count": null,
   "metadata": {},
   "outputs": [],
   "source": []
  },
  {
   "cell_type": "code",
   "execution_count": null,
   "metadata": {},
   "outputs": [],
   "source": []
  },
  {
   "cell_type": "code",
   "execution_count": null,
   "metadata": {},
   "outputs": [],
   "source": []
  },
  {
   "cell_type": "code",
   "execution_count": null,
   "metadata": {},
   "outputs": [],
   "source": []
  },
  {
   "cell_type": "markdown",
   "metadata": {},
   "source": [
    "#### Try Kaggle submission :"
   ]
  },
  {
   "cell_type": "markdown",
   "metadata": {},
   "source": [
    "- Drop columns based on selected model\n",
    "- Check columns is train & test are in line\n",
    "- Generate predictions and submit kaggle"
   ]
  },
  {
   "cell_type": "code",
   "execution_count": null,
   "metadata": {},
   "outputs": [],
   "source": []
  },
  {
   "cell_type": "code",
   "execution_count": null,
   "metadata": {},
   "outputs": [],
   "source": []
  },
  {
   "cell_type": "code",
   "execution_count": null,
   "metadata": {},
   "outputs": [],
   "source": []
  },
  {
   "cell_type": "code",
   "execution_count": null,
   "metadata": {},
   "outputs": [],
   "source": [
    "# try on test dataset and submit kaggle :)\n",
    "\n",
    "# lasso_y_test = lasso.predict(X_test_scaled)\n",
    "# lasso_y_test"
   ]
  },
  {
   "cell_type": "code",
   "execution_count": null,
   "metadata": {},
   "outputs": [],
   "source": [
    "# test['saleprice'] = lasso_y_test\n",
    "# submission_2 = test[['id','saleprice']]\n",
    "# submission_2"
   ]
  },
  {
   "cell_type": "code",
   "execution_count": null,
   "metadata": {},
   "outputs": [],
   "source": []
  },
  {
   "cell_type": "code",
   "execution_count": null,
   "metadata": {},
   "outputs": [],
   "source": []
  },
  {
   "cell_type": "code",
   "execution_count": null,
   "metadata": {},
   "outputs": [],
   "source": []
  },
  {
   "cell_type": "code",
   "execution_count": null,
   "metadata": {},
   "outputs": [],
   "source": [
    "stop"
   ]
  },
  {
   "cell_type": "code",
   "execution_count": null,
   "metadata": {},
   "outputs": [],
   "source": []
  },
  {
   "cell_type": "code",
   "execution_count": null,
   "metadata": {},
   "outputs": [],
   "source": []
  },
  {
   "cell_type": "code",
   "execution_count": null,
   "metadata": {},
   "outputs": [],
   "source": []
  },
  {
   "cell_type": "code",
   "execution_count": null,
   "metadata": {},
   "outputs": [],
   "source": [
    "#saleprice_corr = train.corr()['saleprice']\n",
    "\n",
    "#fig = plt.figure(figsize=(20,20))\n",
    "# sns.heatmap(train.corr(), annot=True,cmap='RdBu', )\n",
    "\n",
    "\n"
   ]
  },
  {
   "cell_type": "code",
   "execution_count": null,
   "metadata": {},
   "outputs": [],
   "source": [
    "train.corr()['saleprice']"
   ]
  },
  {
   "cell_type": "code",
   "execution_count": null,
   "metadata": {},
   "outputs": [],
   "source": []
  },
  {
   "cell_type": "code",
   "execution_count": null,
   "metadata": {},
   "outputs": [],
   "source": []
  },
  {
   "cell_type": "code",
   "execution_count": null,
   "metadata": {},
   "outputs": [],
   "source": []
  },
  {
   "cell_type": "code",
   "execution_count": null,
   "metadata": {},
   "outputs": [],
   "source": []
  },
  {
   "cell_type": "code",
   "execution_count": null,
   "metadata": {},
   "outputs": [],
   "source": []
  }
 ],
 "metadata": {
  "kernelspec": {
   "display_name": "Python 3",
   "language": "python",
   "name": "python3"
  },
  "language_info": {
   "codemirror_mode": {
    "name": "ipython",
    "version": 3
   },
   "file_extension": ".py",
   "mimetype": "text/x-python",
   "name": "python",
   "nbconvert_exporter": "python",
   "pygments_lexer": "ipython3",
   "version": "3.7.6"
  }
 },
 "nbformat": 4,
 "nbformat_minor": 4
}
